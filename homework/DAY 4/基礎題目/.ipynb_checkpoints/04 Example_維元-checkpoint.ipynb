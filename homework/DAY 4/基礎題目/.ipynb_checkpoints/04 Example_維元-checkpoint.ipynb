{
 "cells": [
  {
   "cell_type": "markdown",
   "metadata": {},
   "source": [
    "# 範例\n",
    "***"
   ]
  },
  {
   "cell_type": "markdown",
   "metadata": {},
   "source": [
    "# [教學目標]\n",
    "\n",
    "* 正確的使用 NumPy 中的算術運算\n",
    "* 了解 NumPy 陣列與數學矩陣的關係\n",
    "* 知道 NumPy 與 SciPy 差異為何\n"
   ]
  },
  {
   "cell_type": "code",
   "execution_count": 1,
   "metadata": {},
   "outputs": [
    {
     "name": "stdout",
     "output_type": "stream",
     "text": [
      "<module 'numpy' from '/Users/wei/.virtualenvs/py3/lib/python3.6/site-packages/numpy/__init__.py'>\n",
      "1.16.1\n"
     ]
    }
   ],
   "source": [
    "# 載入 NumPy 套件\n",
    "import numpy as np\n",
    "\n",
    "# 檢查正確載入與版本\n",
    "print(np)\n",
    "print(np.__version__)"
   ]
  },
  {
   "cell_type": "code",
   "execution_count": 2,
   "metadata": {},
   "outputs": [
    {
     "name": "stdout",
     "output_type": "stream",
     "text": [
      "[20 31 42 53]\n",
      "[  0  30  80 150]\n"
     ]
    }
   ],
   "source": [
    "# 相同大小的陣列運算\n",
    "\n",
    "import numpy as np\n",
    "\n",
    "a = np.array( [20,30,40,50] )\n",
    "b = np.arange( 4 )\n",
    "\n",
    "print(a + b)\n",
    "print(a * b)"
   ]
  },
  {
   "cell_type": "code",
   "execution_count": 3,
   "metadata": {},
   "outputs": [
    {
     "name": "stdout",
     "output_type": "stream",
     "text": [
      "[18 28 38 48]\n",
      "[2. 3. 4. 5.]\n"
     ]
    }
   ],
   "source": [
    "# 常數與陣列運算\n",
    "\n",
    "import numpy as np\n",
    "\n",
    "a = np.array( [20,30,40,50] )\n",
    "\n",
    "print(a - 2)\n",
    "print(a / 10)\n"
   ]
  },
  {
   "cell_type": "code",
   "execution_count": 4,
   "metadata": {},
   "outputs": [
    {
     "name": "stdout",
     "output_type": "stream",
     "text": [
      "[[2 3]\n",
      " [4 5]\n",
      " [6 7]]\n"
     ]
    }
   ],
   "source": [
    "# 不同大小的陣列運算\n",
    "\n",
    "import numpy as np\n",
    "\n",
    "data = np.array([[1, 2], [3, 4], [5, 6]])\n",
    "ones_row = np.array([[1, 1]])\n",
    "\n",
    "print(data + ones_row)\n"
   ]
  },
  {
   "cell_type": "code",
   "execution_count": 5,
   "metadata": {},
   "outputs": [
    {
     "name": "stdout",
     "output_type": "stream",
     "text": [
      "[21 31 41 51]\n",
      "[21, 31, 41, 51]\n"
     ]
    }
   ],
   "source": [
    "# 陣列運算與容器運算的差異\n",
    "\n",
    "a = np.array( [20,30,40,50] )\n",
    "print(a + 1)\n",
    "\n",
    "a = [20, 30, 40, 50]\n",
    "b = []\n",
    "for i in a:\n",
    "    b.append(i+1)\n",
    "print(b)\n"
   ]
  },
  {
   "cell_type": "code",
   "execution_count": 6,
   "metadata": {},
   "outputs": [
    {
     "name": "stdout",
     "output_type": "stream",
     "text": [
      "[[1. 2.]\n",
      " [3. 4.]]\n",
      "[[5.]\n",
      " [7.]]\n"
     ]
    }
   ],
   "source": [
    "# 用於陣列的矩陣運算\n",
    "\n",
    "a = np.array([[1.0, 2.0], [3.0, 4.0]])\n",
    "print(a)\n",
    "\n",
    "y = np.array([[5.], [7.]])\n",
    "print(y)"
   ]
  },
  {
   "cell_type": "code",
   "execution_count": 7,
   "metadata": {},
   "outputs": [
    {
     "name": "stdout",
     "output_type": "stream",
     "text": [
      "[[1. 3.]\n",
      " [2. 4.]]\n",
      "[[-2.   1. ]\n",
      " [ 1.5 -0.5]]\n",
      "5.0\n",
      "[[-3.]\n",
      " [ 4.]]\n"
     ]
    }
   ],
   "source": [
    "print(a.transpose()) #轉置矩陣\n",
    "print(np.linalg.inv(a)) #反矩陣\n",
    "print(np.trace(a)) #對角值加總\n",
    "print(np.linalg.solve(a, y)) #解矩陣內積計算式 # https://numpy.org/doc/stable/reference/generated/numpy.linalg.solve.html\n"
   ]
  },
  {
   "cell_type": "code",
   "execution_count": null,
   "metadata": {},
   "outputs": [],
   "source": []
  }
 ],
 "metadata": {
  "kernelspec": {
   "display_name": "Python 3",
   "language": "python",
   "name": "python3"
  },
  "language_info": {
   "codemirror_mode": {
    "name": "ipython",
    "version": 3
   },
   "file_extension": ".py",
   "mimetype": "text/x-python",
   "name": "python",
   "nbconvert_exporter": "python",
   "pygments_lexer": "ipython3",
   "version": "3.8.3"
  }
 },
 "nbformat": 4,
 "nbformat_minor": 2
}
