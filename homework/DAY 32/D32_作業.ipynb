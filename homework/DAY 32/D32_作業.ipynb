{
  "nbformat": 4,
  "nbformat_minor": 0,
  "metadata": {
    "colab": {
      "name": "D32_作業.ipynb",
      "provenance": []
    },
    "kernelspec": {
      "display_name": "Python 3",
      "language": "python",
      "name": "python3"
    },
    "language_info": {
      "codemirror_mode": {
        "name": "ipython",
        "version": 3
      },
      "file_extension": ".py",
      "mimetype": "text/x-python",
      "name": "python",
      "nbconvert_exporter": "python",
      "pygments_lexer": "ipython3",
      "version": "3.6.1"
    }
  },
  "cells": [
    {
      "cell_type": "markdown",
      "metadata": {
        "id": "kPxMGj5vNF5E"
      },
      "source": [
        "## 作業:\n",
        "作業目標，讓大家熟悉連續型分配的語法，\n",
        "以及怎麼透過 python 語法進行常態分配的機率運算。\n"
      ]
    },
    {
      "cell_type": "markdown",
      "metadata": {
        "id": "CDYFvYj_NF5M"
      },
      "source": [
        "### Q1:計算標準常態分配，小於1的機率有多大?\n",
        "![](Q1.png)"
      ]
    },
    {
      "cell_type": "code",
      "metadata": {
        "collapsed": true,
        "id": "yz28_IgkYdBW"
      },
      "source": [
        "# library\n",
        "# library\n",
        "from numpy.random import normal,uniform\n",
        "from numpy.random import seed\n",
        "import matplotlib.pyplot as plt\n",
        "import numpy as np\n",
        "import seaborn as sns\n",
        "import pandas as pd\n",
        "from scipy import stats\n",
        "import math\n",
        "import pylab\n",
        "%matplotlib inline"
      ],
      "execution_count": null,
      "outputs": []
    },
    {
      "cell_type": "code",
      "metadata": {
        "id": "GrNle1JKNF5O",
        "outputId": "b295d16a-a4c1-4301-8145-de87ca72906b"
      },
      "source": [
        "## Q1\n",
        "## 常態分配的計算\n",
        "# 計算標準常態分配記Ｘ　介於 1,-1的比例\n",
        "mu=0\n",
        "sigma=1\n",
        "b=  stats.norm.cdf(1,mu, sigma)\n",
        "print(\"P(Z<1)=\",b)"
      ],
      "execution_count": null,
      "outputs": [
        {
          "output_type": "stream",
          "text": [
            "P(Z<1)= 0.8413447460685429\n"
          ],
          "name": "stdout"
        }
      ]
    },
    {
      "cell_type": "markdown",
      "metadata": {
        "id": "LZAoUzkENF5Q"
      },
      "source": [
        "### Q2:計算標準常態分配，大於1，小於 -1 的機率有多大?\n",
        "![](Q2.png)\n"
      ]
    },
    {
      "cell_type": "code",
      "metadata": {
        "id": "g4_b7CB7NF5Q",
        "outputId": "28f29147-6da4-4bae-95e8-84130d019b7b"
      },
      "source": [
        "## Q2\n",
        "## 先算 p(<-1X<1)，再算  P(X>1 or X<-1)\n",
        "mu=0\n",
        "sigma=1\n",
        "b=  stats.norm.cdf(1,mu, sigma)\n",
        "a=  stats.norm.cdf(-1,mu, sigma)\n",
        "print(\"P(Z>1 or Z<-1)=\",1-(b-a))"
      ],
      "execution_count": null,
      "outputs": [
        {
          "output_type": "stream",
          "text": [
            "P(Z>1 or Z<-1)= 0.31731050786291415\n"
          ],
          "name": "stdout"
        }
      ]
    },
    {
      "cell_type": "markdown",
      "metadata": {
        "id": "GFtGQ4_6NF5R"
      },
      "source": [
        "### Q3:X~N(2,4),x 服從常態分配，平均數為2,變異數為 4，計算 X小於 6 的機率有多大?\n",
        "![](Q3_answer.png)"
      ]
    },
    {
      "cell_type": "code",
      "metadata": {
        "id": "ujM-47_uNF5R",
        "outputId": "8d532509-0610-4ffd-c658-5c7cc7dda6a5"
      },
      "source": [
        "## Q3\n",
        "#算法1\n",
        "mu=0\n",
        "sigma=1\n",
        "b=  stats.norm.cdf(2,mu, sigma)\n",
        "print(\"P(Z<2)=\",b)"
      ],
      "execution_count": null,
      "outputs": [
        {
          "output_type": "stream",
          "text": [
            "P(Z<2)= 0.9772498680518208\n"
          ],
          "name": "stdout"
        }
      ]
    },
    {
      "cell_type": "code",
      "metadata": {
        "id": "TQR6iWtINF5S",
        "outputId": "15f9c325-d938-483a-b733-2bf3dc2d3bc9"
      },
      "source": [
        "#算法2\n",
        "mu=2\n",
        "sigma=2 #( 4 要開根號)\n",
        "b= stats.norm.cdf(6,mu, sigma)\n",
        "print(\"P(X<6)=\",b)"
      ],
      "execution_count": null,
      "outputs": [
        {
          "output_type": "stream",
          "text": [
            "P(X<6)= 0.9772498680518208\n"
          ],
          "name": "stdout"
        }
      ]
    }
  ]
}