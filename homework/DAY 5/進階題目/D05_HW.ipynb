{
 "cells": [
  {
   "cell_type": "markdown",
   "metadata": {
    "id": "oef8c2jr-PZY"
   },
   "source": [
    "作業"
   ]
  },
  {
   "cell_type": "markdown",
   "metadata": {
    "id": "4YgL8NF4-Ru3"
   },
   "source": [
    "題目:<br>\n",
    "english_score = np.array([55,89,76,65,48,70])<br>\n",
    "math_score = np.array([60,85,60,68,np.nan,60])<br>\n",
    "chinese_score = np.array([65,90,82,72,66,77])<br>\n",
    "上3列共六位同學的英文、數學、國文成績，第一個元素代表第一位同學，舉例第一位同學英文55分、數學60分、國文65分，今天第五位同學因某原因沒來考試，導致數學成績缺值，運用上列數據回答下列問題。<br>\n",
    "1. 請計算各科成績平均、最大值、最小值、標準差，其中數學缺一筆資料可忽略?\n",
    "2. 第五位同學補考數學後成績為55，請計算補考後數學成績平均、最大值、最小值、標準差?\n",
    "3. 用補考後資料找出與國文成績相關係數最高的學科?"
   ]
  },
  {
   "cell_type": "code",
   "execution_count": 1,
   "metadata": {
    "executionInfo": {
     "elapsed": 1612,
     "status": "ok",
     "timestamp": 1609394855636,
     "user": {
      "displayName": "献竤黃",
      "photoUrl": "",
      "userId": "07529243043474362942"
     },
     "user_tz": -480
    },
    "id": "QwsKU8qO-RK7"
   },
   "outputs": [],
   "source": [
    "import numpy as np"
   ]
  },
  {
   "cell_type": "code",
   "execution_count": 2,
   "metadata": {
    "executionInfo": {
     "elapsed": 1178,
     "status": "ok",
     "timestamp": 1609395148218,
     "user": {
      "displayName": "献竤黃",
      "photoUrl": "",
      "userId": "07529243043474362942"
     },
     "user_tz": -480
    },
    "id": "B5BqDQAe_czh"
   },
   "outputs": [],
   "source": [
    "english_score = np.array([55,89,76,65,48,70])\n",
    "math_score = np.array([60,85,60,68,np.nan,60])\n",
    "chinese_score = np.array([65,90,82,72,66,77])"
   ]
  },
  {
   "cell_type": "code",
   "execution_count": 13,
   "metadata": {
    "colab": {
     "base_uri": "https://localhost:8080/"
    },
    "executionInfo": {
     "elapsed": 1257,
     "status": "ok",
     "timestamp": 1609395091684,
     "user": {
      "displayName": "献竤黃",
      "photoUrl": "",
      "userId": "07529243043474362942"
     },
     "user_tz": -480
    },
    "id": "K3tUA6u9aI3N",
    "outputId": "5c16ade9-5884-4ce5-d48d-6718f8a3a3db"
   },
   "outputs": [
    {
     "name": "stdout",
     "output_type": "stream",
     "text": [
      "數學分數:  \n",
      " 平均 64.66666666666667 \n",
      " 最大值 85.0 \n",
      " 最小值 55.0 \n",
      " 標準差 9.860132971832694 \n",
      "\n",
      "國文分數:  \n",
      " 平均 75.33333333333333 \n",
      " 最大值 90 \n",
      " 最小值 65 \n",
      " 標準差 8.825468196582484 \n",
      "\n",
      "英文分數:  \n",
      " 平均 67.16666666666667 \n",
      " 最大值 89 \n",
      " 最小值 48 \n",
      " 標準差 13.433995020924426 \n",
      "\n"
     ]
    }
   ],
   "source": [
    "#1. 請計算各科成績平均、最大值、最小值、標準差，其中數學缺一筆資料可忽略?\n",
    "print(\"數學分數: \",\"\\n\",\n",
    "      \"平均\",np.nanmean(math_score),\"\\n\",\n",
    "      \"最大值\",np.nanmax(math_score),\"\\n\",\n",
    "      \"最小值\",np.nanmin(math_score),\"\\n\",\n",
    "      \"標準差\",np.nanstd(math_score),\"\\n\")\n",
    "\n",
    "print(\"國文分數: \",\"\\n\",\n",
    "      \"平均\",np.nanmean(chinese_score),\"\\n\",\n",
    "      \"最大值\",np.nanmax(chinese_score),\"\\n\",\n",
    "      \"最小值\",np.nanmin(chinese_score),\"\\n\",\n",
    "      \"標準差\",np.nanstd(chinese_score),\"\\n\")\n",
    "\n",
    "print(\"英文分數: \",\"\\n\",\n",
    "      \"平均\",np.nanmean(english_score),\"\\n\",\n",
    "      \"最大值\",np.nanmax(english_score),\"\\n\",\n",
    "      \"最小值\",np.nanmin(english_score),\"\\n\",\n",
    "      \"標準差\",np.nanstd(english_score),\"\\n\")"
   ]
  },
  {
   "cell_type": "code",
   "execution_count": 9,
   "metadata": {
    "colab": {
     "base_uri": "https://localhost:8080/"
    },
    "executionInfo": {
     "elapsed": 1754,
     "status": "ok",
     "timestamp": 1609395379520,
     "user": {
      "displayName": "献竤黃",
      "photoUrl": "",
      "userId": "07529243043474362942"
     },
     "user_tz": -480
    },
    "id": "mXjDzvSrbLlf",
    "outputId": "66d381db-0111-43f6-85bc-63d8a43a6af0"
   },
   "outputs": [
    {
     "name": "stdout",
     "output_type": "stream",
     "text": [
      "補考數學後:\n",
      "數學分數:  \n",
      " 平均 64.66666666666667 \n",
      " 最大值 85.0 \n",
      " 最小值 55.0 \n",
      " 標準差 9.860132971832694\n"
     ]
    }
   ],
   "source": [
    "#2. 第五位同學補考數學後成績為55，請計算補考後數學成績平均、最大值、最小值、標準差?\n",
    "\n",
    "math_score[4]=55\n",
    "\n",
    "print(\"補考數學後:\")\n",
    "\n",
    "print(\"數學分數: \",\"\\n\",\n",
    "      \"平均\",np.nanmean(math_score),\"\\n\",\n",
    "      \"最大值\",np.nanmax(math_score),\"\\n\",\n",
    "      \"最小值\",np.nanmin(math_score),\"\\n\",\n",
    "      \"標準差\",np.nanstd(math_score))"
   ]
  },
  {
   "cell_type": "code",
   "execution_count": 15,
   "metadata": {
    "colab": {
     "base_uri": "https://localhost:8080/"
    },
    "executionInfo": {
     "elapsed": 1295,
     "status": "ok",
     "timestamp": 1609395443473,
     "user": {
      "displayName": "献竤黃",
      "photoUrl": "",
      "userId": "07529243043474362942"
     },
     "user_tz": -480
    },
    "id": "SaGolKx0cKoU",
    "outputId": "e8537a92-19f2-464a-debd-6fcea2612496"
   },
   "outputs": [
    {
     "name": "stdout",
     "output_type": "stream",
     "text": [
      "國文與數學相關係數:  \n",
      " [[1.         0.74056803]\n",
      " [0.74056803 1.        ]] \n",
      "\n",
      "國文與英文相關係數:  \n",
      " [[1.         0.97792828]\n",
      " [0.97792828 1.        ]]\n"
     ]
    }
   ],
   "source": [
    "#3. 用補考後資料找出與國文成績相關係數最高的學科?\n",
    "#國文與英文相關係數較高\n",
    "\n",
    "print(\"國文與數學相關係數: \",\"\\n\",\n",
    "      np.corrcoef(chinese_score,math_score),\"\\n\",)\n",
    "\n",
    "print(\"國文與英文相關係數: \",\"\\n\",\n",
    "      np.corrcoef(chinese_score,english_score))"
   ]
  },
  {
   "cell_type": "code",
   "execution_count": null,
   "metadata": {},
   "outputs": [],
   "source": []
  }
 ],
 "metadata": {
  "colab": {
   "authorship_tag": "ABX9TyMffUZpdOu6C4gOLEIThRao",
   "collapsed_sections": [],
   "name": "作業Hong.ipynb",
   "provenance": []
  },
  "kernelspec": {
   "display_name": "Python 3",
   "language": "python",
   "name": "python3"
  },
  "language_info": {
   "codemirror_mode": {
    "name": "ipython",
    "version": 3
   },
   "file_extension": ".py",
   "mimetype": "text/x-python",
   "name": "python",
   "nbconvert_exporter": "python",
   "pygments_lexer": "ipython3",
   "version": "3.8.3"
  }
 },
 "nbformat": 4,
 "nbformat_minor": 1
}
