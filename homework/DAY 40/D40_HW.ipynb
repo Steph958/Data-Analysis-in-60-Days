{
 "cells": [
  {
   "cell_type": "markdown",
   "metadata": {
    "id": "JkRk_jT1NqUC"
   },
   "source": [
    "## 今天的作業\n",
    "在鐵達尼資料集中，今天我們專注觀察變數之間的相關性，以Titanic_train.csv 中，首先將有遺失值的數值刪除，我們取 Titanic_train.csv 的年齡資料，試著將課堂中所學的方法應用上去。\n",
    "\n",
    "* Q1: 產生一個新的變數(Age_above65_) Age>=65為 'Y'，其餘為'N'。  \n",
    "* Q2: 添加女性和男性，產生一個新的變數(Age_above65_female)，女性或Age>=65為'Y'，其餘為'N'。  \n",
    "*  Q3: 透過昨天課程的內容，驗證產生的兩個新變數，哪一個和目標變數(Survived_cate)的相關性較高?"
   ]
  },
  {
   "cell_type": "code",
   "execution_count": 1,
   "metadata": {
    "colab": {
     "base_uri": "https://localhost:8080/",
     "height": 34
    },
    "executionInfo": {
     "elapsed": 1558,
     "status": "ok",
     "timestamp": 1578021044012,
     "user": {
      "displayName": "Mora chen",
      "photoUrl": "https://lh3.googleusercontent.com/a-/AAuE7mB40f7sDArbZ5_DYq02nNcnLD0Ryaf7AhsASSQeLQ=s64",
      "userId": "03171203089166907199"
     },
     "user_tz": -480
    },
    "id": "yz28_IgkYdBW",
    "outputId": "a12f486c-18b3-4fb5-d06c-f162aebd9444"
   },
   "outputs": [
    {
     "name": "stdout",
     "output_type": "stream",
     "text": [
      "0.23.1\n"
     ]
    },
    {
     "name": "stderr",
     "output_type": "stream",
     "text": [
      "C:\\Users\\vincentLee1231995\\Anaconda3\\lib\\site-packages\\outdated\\utils.py:14: OutdatedPackageWarning: The package pingouin is out of date. Your version is 0.3.11, the latest is 0.3.12.\n",
      "Set the environment variable OUTDATED_IGNORE=1 to disable these warnings.\n",
      "  return warn(\n"
     ]
    }
   ],
   "source": [
    "# library\n",
    "import matplotlib.pyplot as plt\n",
    "import numpy as np\n",
    "import pandas as pd\n",
    "from scipy import stats\n",
    "import math\n",
    "import statistics\n",
    "import seaborn as sns\n",
    "from IPython.display import display\n",
    "import sklearn\n",
    "print(sklearn.__version__)\n",
    "#如果只有 0.19 記得要更新至 最新版本\n",
    "%matplotlib inline\n",
    "\n",
    "\n",
    "#顯示所有行\n",
    "pd.set_option('display.max_columns', None)\n",
    "#顯示所有列\n",
    "pd.set_option('display.max_rows', None)\n",
    "#顯示行設定\n",
    "pd.set_option('max_colwidth',100)\n",
    "\n",
    "import pingouin as pg\n",
    "import researchpy   \n",
    " "
   ]
  },
  {
   "cell_type": "markdown",
   "metadata": {
    "id": "mGEZdv6JNqUG"
   },
   "source": [
    "## 讀入資料"
   ]
  },
  {
   "cell_type": "code",
   "execution_count": 5,
   "metadata": {
    "id": "zGBwKpIINqUH",
    "outputId": "b8824392-0e91-4460-b1b5-a05de5f88fff"
   },
   "outputs": [
    {
     "name": "stdout",
     "output_type": "stream",
     "text": [
      "<class 'pandas.core.frame.DataFrame'>\n",
      "RangeIndex: 891 entries, 0 to 890\n",
      "Data columns (total 12 columns):\n",
      " #   Column       Non-Null Count  Dtype  \n",
      "---  ------       --------------  -----  \n",
      " 0   PassengerId  891 non-null    int64  \n",
      " 1   Survived     891 non-null    int64  \n",
      " 2   Pclass       891 non-null    int64  \n",
      " 3   Name         891 non-null    object \n",
      " 4   Sex          891 non-null    object \n",
      " 5   Age          714 non-null    float64\n",
      " 6   SibSp        891 non-null    int64  \n",
      " 7   Parch        891 non-null    int64  \n",
      " 8   Ticket       891 non-null    object \n",
      " 9   Fare         891 non-null    float64\n",
      " 10  Cabin        204 non-null    object \n",
      " 11  Embarked     889 non-null    object \n",
      "dtypes: float64(2), int64(5), object(5)\n",
      "memory usage: 83.7+ KB\n",
      "None\n"
     ]
    }
   ],
   "source": [
    "df_train = pd.read_csv(\"./Titanic_train.csv\")\n",
    "print(df_train.info())"
   ]
  },
  {
   "cell_type": "code",
   "execution_count": 6,
   "metadata": {
    "id": "i73ub82KNqUI",
    "outputId": "0576c875-d008-4449-8ad9-dd165004fc8e"
   },
   "outputs": [
    {
     "name": "stdout",
     "output_type": "stream",
     "text": [
      "<class 'pandas.core.frame.DataFrame'>\n",
      "RangeIndex: 891 entries, 0 to 890\n",
      "Data columns (total 13 columns):\n",
      " #   Column         Non-Null Count  Dtype  \n",
      "---  ------         --------------  -----  \n",
      " 0   PassengerId    891 non-null    int64  \n",
      " 1   Survived       891 non-null    int64  \n",
      " 2   Pclass         891 non-null    int64  \n",
      " 3   Name           891 non-null    object \n",
      " 4   Sex            891 non-null    object \n",
      " 5   Age            714 non-null    float64\n",
      " 6   SibSp          891 non-null    int64  \n",
      " 7   Parch          891 non-null    int64  \n",
      " 8   Ticket         891 non-null    object \n",
      " 9   Fare           891 non-null    float64\n",
      " 10  Cabin          204 non-null    object \n",
      " 11  Embarked       889 non-null    object \n",
      " 12  Survived_cate  891 non-null    object \n",
      "dtypes: float64(2), int64(5), object(6)\n",
      "memory usage: 90.6+ KB\n",
      "None\n"
     ]
    }
   ],
   "source": [
    "#1.產稱一個新的變數 Survived_cate ，資料型態傳換成類別型態      \n",
    "#2.把題目中的 Survived 用 Survived_cate 來做分析   \n",
    "\n",
    "df_train['Survived_cate']=df_train['Survived']\n",
    "df_train['Survived_cate']=df_train['Survived_cate'].astype('object')\n",
    "print(df_train.info())"
   ]
  },
  {
   "cell_type": "code",
   "execution_count": 7,
   "metadata": {},
   "outputs": [
    {
     "data": {
      "text/plain": [
       "Index(['PassengerId', 'Survived', 'Pclass', 'Name', 'Sex', 'Age', 'SibSp',\n",
       "       'Parch', 'Ticket', 'Fare', 'Cabin', 'Embarked', 'Survived_cate'],\n",
       "      dtype='object')"
      ]
     },
     "execution_count": 7,
     "metadata": {},
     "output_type": "execute_result"
    }
   ],
   "source": [
    "df_train.columns"
   ]
  },
  {
   "cell_type": "code",
   "execution_count": 8,
   "metadata": {
    "id": "HSsM_aCJNqUI",
    "outputId": "cd44479d-f7ae-40a9-faa8-92ff693c6d72"
   },
   "outputs": [
    {
     "data": {
      "text/html": [
       "<div>\n",
       "<style scoped>\n",
       "    .dataframe tbody tr th:only-of-type {\n",
       "        vertical-align: middle;\n",
       "    }\n",
       "\n",
       "    .dataframe tbody tr th {\n",
       "        vertical-align: top;\n",
       "    }\n",
       "\n",
       "    .dataframe thead th {\n",
       "        text-align: right;\n",
       "    }\n",
       "</style>\n",
       "<table border=\"1\" class=\"dataframe\">\n",
       "  <thead>\n",
       "    <tr style=\"text-align: right;\">\n",
       "      <th></th>\n",
       "      <th>Age</th>\n",
       "      <th>Survived_cate</th>\n",
       "      <th>Sex</th>\n",
       "    </tr>\n",
       "  </thead>\n",
       "  <tbody>\n",
       "    <tr>\n",
       "      <th>0</th>\n",
       "      <td>22.0</td>\n",
       "      <td>0</td>\n",
       "      <td>male</td>\n",
       "    </tr>\n",
       "    <tr>\n",
       "      <th>1</th>\n",
       "      <td>38.0</td>\n",
       "      <td>1</td>\n",
       "      <td>female</td>\n",
       "    </tr>\n",
       "    <tr>\n",
       "      <th>2</th>\n",
       "      <td>26.0</td>\n",
       "      <td>1</td>\n",
       "      <td>female</td>\n",
       "    </tr>\n",
       "    <tr>\n",
       "      <th>3</th>\n",
       "      <td>35.0</td>\n",
       "      <td>1</td>\n",
       "      <td>female</td>\n",
       "    </tr>\n",
       "    <tr>\n",
       "      <th>4</th>\n",
       "      <td>35.0</td>\n",
       "      <td>0</td>\n",
       "      <td>male</td>\n",
       "    </tr>\n",
       "  </tbody>\n",
       "</table>\n",
       "</div>"
      ],
      "text/plain": [
       "    Age Survived_cate     Sex\n",
       "0  22.0             0    male\n",
       "1  38.0             1  female\n",
       "2  26.0             1  female\n",
       "3  35.0             1  female\n",
       "4  35.0             0    male"
      ]
     },
     "metadata": {},
     "output_type": "display_data"
    }
   ],
   "source": [
    "#我們先把遺失值刪除\n",
    "## 取出資料後，把遺失值刪除\n",
    "complete_data=df_train[['Age','Survived_cate','Sex']].dropna()\n",
    "display(complete_data.head())"
   ]
  },
  {
   "cell_type": "markdown",
   "metadata": {
    "id": "vG3z4y9BNqUJ"
   },
   "source": [
    "### Q1: 產生一個新的變數(Age_above65_) Age>=65為 'Y'，其餘為'N'。\n"
   ]
  },
  {
   "cell_type": "code",
   "execution_count": 10,
   "metadata": {
    "id": "7VkqJzv2NqUJ",
    "outputId": "cdec26bd-3cbd-4e1a-a6d6-15fdf6ca7a29"
   },
   "outputs": [
    {
     "data": {
      "text/html": [
       "<div>\n",
       "<style scoped>\n",
       "    .dataframe tbody tr th:only-of-type {\n",
       "        vertical-align: middle;\n",
       "    }\n",
       "\n",
       "    .dataframe tbody tr th {\n",
       "        vertical-align: top;\n",
       "    }\n",
       "\n",
       "    .dataframe thead th {\n",
       "        text-align: right;\n",
       "    }\n",
       "</style>\n",
       "<table border=\"1\" class=\"dataframe\">\n",
       "  <thead>\n",
       "    <tr style=\"text-align: right;\">\n",
       "      <th></th>\n",
       "      <th>Age</th>\n",
       "      <th>Survived_cate</th>\n",
       "      <th>Sex</th>\n",
       "      <th>Age_above65</th>\n",
       "    </tr>\n",
       "  </thead>\n",
       "  <tbody>\n",
       "    <tr>\n",
       "      <th>0</th>\n",
       "      <td>22.0</td>\n",
       "      <td>0</td>\n",
       "      <td>male</td>\n",
       "      <td>N</td>\n",
       "    </tr>\n",
       "    <tr>\n",
       "      <th>1</th>\n",
       "      <td>38.0</td>\n",
       "      <td>1</td>\n",
       "      <td>female</td>\n",
       "      <td>N</td>\n",
       "    </tr>\n",
       "    <tr>\n",
       "      <th>2</th>\n",
       "      <td>26.0</td>\n",
       "      <td>1</td>\n",
       "      <td>female</td>\n",
       "      <td>N</td>\n",
       "    </tr>\n",
       "    <tr>\n",
       "      <th>3</th>\n",
       "      <td>35.0</td>\n",
       "      <td>1</td>\n",
       "      <td>female</td>\n",
       "      <td>N</td>\n",
       "    </tr>\n",
       "    <tr>\n",
       "      <th>4</th>\n",
       "      <td>35.0</td>\n",
       "      <td>0</td>\n",
       "      <td>male</td>\n",
       "      <td>N</td>\n",
       "    </tr>\n",
       "  </tbody>\n",
       "</table>\n",
       "</div>"
      ],
      "text/plain": [
       "    Age Survived_cate     Sex Age_above65\n",
       "0  22.0             0    male           N\n",
       "1  38.0             1  female           N\n",
       "2  26.0             1  female           N\n",
       "3  35.0             1  female           N\n",
       "4  35.0             0    male           N"
      ]
     },
     "metadata": {},
     "output_type": "display_data"
    }
   ],
   "source": [
    "def age_map1(x): \n",
    "        if(x>=65):\n",
    "            return('Y')\n",
    "        else: \n",
    "            return('N')\n",
    "    \n",
    "complete_data['Age_above65']=complete_data['Age'].apply(age_map1)\n",
    "\n",
    "display(complete_data.head())"
   ]
  },
  {
   "cell_type": "markdown",
   "metadata": {
    "id": "hlSZadKhNqUK"
   },
   "source": [
    "### Q2: 添加女性和男性，產生一個新的變數(Age_above65_female)，女性或Age>=65為'Y'，其餘為'N'。\n",
    "* 暗示: 觀看下面影片找答案，https://www.youtube.com/watch?v=X2d-wUt5azY"
   ]
  },
  {
   "cell_type": "code",
   "execution_count": 11,
   "metadata": {
    "id": "CWFZaNfYNqUK",
    "outputId": "8ba72ede-f8a1-4ea1-e87b-e311dd0ca23e"
   },
   "outputs": [
    {
     "data": {
      "text/html": [
       "<div>\n",
       "<style scoped>\n",
       "    .dataframe tbody tr th:only-of-type {\n",
       "        vertical-align: middle;\n",
       "    }\n",
       "\n",
       "    .dataframe tbody tr th {\n",
       "        vertical-align: top;\n",
       "    }\n",
       "\n",
       "    .dataframe thead th {\n",
       "        text-align: right;\n",
       "    }\n",
       "</style>\n",
       "<table border=\"1\" class=\"dataframe\">\n",
       "  <thead>\n",
       "    <tr style=\"text-align: right;\">\n",
       "      <th></th>\n",
       "      <th>Age</th>\n",
       "      <th>Survived_cate</th>\n",
       "      <th>Sex</th>\n",
       "      <th>Age_above65</th>\n",
       "      <th>Age_above65_female</th>\n",
       "    </tr>\n",
       "  </thead>\n",
       "  <tbody>\n",
       "    <tr>\n",
       "      <th>0</th>\n",
       "      <td>22.0</td>\n",
       "      <td>0</td>\n",
       "      <td>male</td>\n",
       "      <td>N</td>\n",
       "      <td>N</td>\n",
       "    </tr>\n",
       "    <tr>\n",
       "      <th>1</th>\n",
       "      <td>38.0</td>\n",
       "      <td>1</td>\n",
       "      <td>female</td>\n",
       "      <td>N</td>\n",
       "      <td>Y</td>\n",
       "    </tr>\n",
       "    <tr>\n",
       "      <th>2</th>\n",
       "      <td>26.0</td>\n",
       "      <td>1</td>\n",
       "      <td>female</td>\n",
       "      <td>N</td>\n",
       "      <td>Y</td>\n",
       "    </tr>\n",
       "    <tr>\n",
       "      <th>3</th>\n",
       "      <td>35.0</td>\n",
       "      <td>1</td>\n",
       "      <td>female</td>\n",
       "      <td>N</td>\n",
       "      <td>Y</td>\n",
       "    </tr>\n",
       "    <tr>\n",
       "      <th>4</th>\n",
       "      <td>35.0</td>\n",
       "      <td>0</td>\n",
       "      <td>male</td>\n",
       "      <td>N</td>\n",
       "      <td>N</td>\n",
       "    </tr>\n",
       "  </tbody>\n",
       "</table>\n",
       "</div>"
      ],
      "text/plain": [
       "    Age Survived_cate     Sex Age_above65 Age_above65_female\n",
       "0  22.0             0    male           N                  N\n",
       "1  38.0             1  female           N                  Y\n",
       "2  26.0             1  female           N                  Y\n",
       "3  35.0             1  female           N                  Y\n",
       "4  35.0             0    male           N                  N"
      ]
     },
     "metadata": {},
     "output_type": "display_data"
    }
   ],
   "source": [
    "def age_map2(row): \n",
    "    if (row.Sex=='female'):\n",
    "        return('Y')\n",
    "    else: \n",
    "        if(row.Age>=65):\n",
    "            return('Y')\n",
    "        else:\n",
    "            return('N')\n",
    "    \n",
    "    \n",
    "complete_data['Age_above65_female']=complete_data[['Age','Sex']].apply(age_map2,axis=1)\n",
    "display(complete_data.head())"
   ]
  },
  {
   "cell_type": "markdown",
   "metadata": {
    "id": "y0if8VccNqUL"
   },
   "source": [
    "### Q3: 透過昨天課程的內容，驗證產生的兩個新變數，哪一個和目標變數(Survived_cate)的相關性較高?\n",
    "* 提示:    \n",
    "  首先觀察一下這些變數的資料型態後，再來想要以哪一種判斷倆倆的相關性。     "
   ]
  },
  {
   "cell_type": "code",
   "execution_count": 12,
   "metadata": {},
   "outputs": [
    {
     "name": "stdout",
     "output_type": "stream",
     "text": [
      "<class 'pandas.core.frame.DataFrame'>\n",
      "Int64Index: 714 entries, 0 to 890\n",
      "Data columns (total 5 columns):\n",
      " #   Column              Non-Null Count  Dtype  \n",
      "---  ------              --------------  -----  \n",
      " 0   Age                 714 non-null    float64\n",
      " 1   Survived_cate       714 non-null    object \n",
      " 2   Sex                 714 non-null    object \n",
      " 3   Age_above65         714 non-null    object \n",
      " 4   Age_above65_female  714 non-null    object \n",
      "dtypes: float64(1), object(4)\n",
      "memory usage: 33.5+ KB\n"
     ]
    }
   ],
   "source": [
    "complete_data.info()"
   ]
  },
  {
   "cell_type": "code",
   "execution_count": 13,
   "metadata": {},
   "outputs": [
    {
     "name": "stdout",
     "output_type": "stream",
     "text": [
      "Survived_cate    0    1\n",
      "Age_above65            \n",
      "N              414  289\n",
      "Y               10    1\n"
     ]
    }
   ],
   "source": [
    "#Age_above65\n",
    "contTable = pd.crosstab(complete_data['Age_above65'], complete_data['Survived_cate'])\n",
    "print(contTable)"
   ]
  },
  {
   "cell_type": "code",
   "execution_count": 14,
   "metadata": {},
   "outputs": [],
   "source": [
    "#contTable.shape"
   ]
  },
  {
   "cell_type": "code",
   "execution_count": 15,
   "metadata": {},
   "outputs": [
    {
     "data": {
      "text/plain": [
       "1"
      ]
     },
     "execution_count": 15,
     "metadata": {},
     "output_type": "execute_result"
    }
   ],
   "source": [
    "df = min(contTable.shape[0], contTable.shape[1]) - 1   #2-1=1\n",
    "df"
   ]
  },
  {
   "cell_type": "code",
   "execution_count": 16,
   "metadata": {},
   "outputs": [
    {
     "name": "stdout",
     "output_type": "stream",
     "text": [
      "                Chi-square test  results\n",
      "0  Pearson Chi-square ( 1.0) =    4.6035\n",
      "1                    p-value =    0.0319\n",
      "2               Cramer's phi =    0.0803\n",
      "\n",
      "\n",
      "Cramer's value is 0.0803\n"
     ]
    }
   ],
   "source": [
    "crosstab, res = researchpy.crosstab(complete_data['Survived_cate'], complete_data['Age_above65'], test='chi-square')\n",
    "print(res)\n",
    "\n",
    "print('\\n')\n",
    "\n",
    "print(\"Cramer's value is\",res.loc[2,'results'])"
   ]
  },
  {
   "cell_type": "code",
   "execution_count": 17,
   "metadata": {
    "id": "Z2Ii9lk2NqUL",
    "outputId": "d925359f-f9c8-481b-938b-af3718a7c8eb"
   },
   "outputs": [
    {
     "data": {
      "text/plain": [
       "'negligible'"
      ]
     },
     "execution_count": 17,
     "metadata": {},
     "output_type": "execute_result"
    }
   ],
   "source": [
    "def judgment_CramerV(df,V):\n",
    "    if df == 1:\n",
    "        if V < 0.10:\n",
    "            qual = 'negligible'\n",
    "        elif V < 0.30:\n",
    "            qual = 'small'\n",
    "        elif V < 0.50:\n",
    "            qual = 'medium'\n",
    "        else:\n",
    "            qual = 'large'\n",
    "    elif df == 2:\n",
    "        if V < 0.07:\n",
    "            qual = 'negligible'\n",
    "        elif V < 0.21:\n",
    "            qual = 'small'\n",
    "        elif V < 0.35:\n",
    "            qual = 'medium'\n",
    "        else:\n",
    "            qual = 'large'\n",
    "    elif df == 3:\n",
    "        if V < 0.06:\n",
    "            qual = 'negligible'\n",
    "        elif V < 0.17:\n",
    "            qual = 'small'\n",
    "        elif V < 0.29:\n",
    "            qual = 'medium'\n",
    "        else:\n",
    "            qual = 'large'\n",
    "    elif df == 4:\n",
    "        if V < 0.05:\n",
    "            qual = 'negligible'\n",
    "        elif V < 0.15:\n",
    "            qual = 'small'\n",
    "        elif V < 0.25:\n",
    "            qual = 'medium'\n",
    "        else:\n",
    "            qual = 'large'\n",
    "    else:\n",
    "        if V < 0.05:\n",
    "            qual = 'negligible'\n",
    "        elif V < 0.13:\n",
    "            qual = 'small'\n",
    "        elif V < 0.22:\n",
    "            qual = 'medium'\n",
    "        else:\n",
    "            qual = 'large'\n",
    "    return(qual)\n",
    "\n",
    "judgment_CramerV(df,res.loc[2,'results'])"
   ]
  },
  {
   "cell_type": "markdown",
   "metadata": {},
   "source": [
    "Age_above65與目標變數之間的相關性低，可略"
   ]
  },
  {
   "cell_type": "code",
   "execution_count": 18,
   "metadata": {
    "id": "uEbsbSEANqUM",
    "outputId": "f3912b61-6806-4891-c89d-dcadfe97a4dd"
   },
   "outputs": [
    {
     "name": "stdout",
     "output_type": "stream",
     "text": [
      "Cramer's value is 0.514\n"
     ]
    },
    {
     "data": {
      "text/plain": [
       "'large'"
      ]
     },
     "execution_count": 18,
     "metadata": {},
     "output_type": "execute_result"
    }
   ],
   "source": [
    "#Age_above65_female\n",
    "\n",
    "contTable = pd.crosstab(complete_data['Age_above65_female'], complete_data['Survived_cate'])\n",
    "\n",
    "df = min(contTable.shape[0], contTable.shape[1]) - 1\n",
    "\n",
    "crosstab, res = researchpy.crosstab(complete_data['Survived_cate'], complete_data['Age_above65_female'], test='chi-square')\n",
    "print(\"Cramer's value is\",res.loc[2,'results'])\n",
    "\n",
    "judgment_CramerV(df,res.loc[2,'results'])"
   ]
  },
  {
   "cell_type": "markdown",
   "metadata": {
    "id": "0PBewThbNqUM"
   },
   "source": [
    "Age_above65_female 與目標變數間的相關性較高"
   ]
  }
 ],
 "metadata": {
  "colab": {
   "name": "6.從資料中產生特徵_作業解答.ipynb",
   "provenance": []
  },
  "kernelspec": {
   "display_name": "Python 3",
   "language": "python",
   "name": "python3"
  },
  "language_info": {
   "codemirror_mode": {
    "name": "ipython",
    "version": 3
   },
   "file_extension": ".py",
   "mimetype": "text/x-python",
   "name": "python",
   "nbconvert_exporter": "python",
   "pygments_lexer": "ipython3",
   "version": "3.8.3"
  }
 },
 "nbformat": 4,
 "nbformat_minor": 1
}
