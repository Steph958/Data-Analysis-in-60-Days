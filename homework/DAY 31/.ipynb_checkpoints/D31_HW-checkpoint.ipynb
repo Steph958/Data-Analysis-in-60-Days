{
 "cells": [
  {
   "cell_type": "markdown",
   "metadata": {
    "id": "MJXi-jshZbRK"
   },
   "source": [
    "## 作業:\n",
    "\n",
    "電影院裡通常都是成對情侶一起去看，假設電影院中有100 個人裡面，有 90 名男性和 10 名女性。在這 10 名女性裡，有一半的人有長髮（5 人），另一半有短髮（5人）；在 90 名男性當中，81 個人有短髮，9個人有長髮。\n",
    "\n",
    "![](Q1.png)"
   ]
  },
  {
   "cell_type": "markdown",
   "metadata": {
    "id": "fijMPjymZbRZ"
   },
   "source": [
    "### Q1: 所以根據這個情況條件下，你會預測照片中的長髮是男性或女性(直覺回答)?"
   ]
  },
  {
   "cell_type": "markdown",
   "metadata": {
    "id": "bzCZSJTPZbRb",
    "outputId": "a0cd502c-4a63-415e-8406-5fb2e69ffc84"
   },
   "source": [
    "男生 or 女生"
   ]
  },
  {
   "cell_type": "markdown",
   "metadata": {
    "id": "ltfgjaQeZbRe"
   },
   "source": [
    "### Q2:以上圖資料，計算當你看到長髮時，是女生的機率?"
   ]
  },
  {
   "cell_type": "code",
   "execution_count": 4,
   "metadata": {},
   "outputs": [
    {
     "name": "stdout",
     "output_type": "stream",
     "text": [
      "機率 = 35.71%\n"
     ]
    }
   ],
   "source": [
    "# P(當看到長髮時，是女生的機率) = P(是長髮且為女生)/P(是長髮)\n",
    "condition_p = (5/100)/(14/100)\n",
    "print('機率 = {0}%'.format(round(condition_p * 100,2)))"
   ]
  },
  {
   "cell_type": "code",
   "execution_count": 3,
   "metadata": {
    "id": "T34pGXs2ZbRe",
    "outputId": "1c3cea71-cd7b-417c-9f31-ec3b280123aa"
   },
   "outputs": [
    {
     "name": "stdout",
     "output_type": "stream",
     "text": [
      "P(A|B) = 35.71%\n"
     ]
    }
   ],
   "source": [
    "def bayes_theorem(p_a, p_b_given_a, p_b_given_not_a):\n",
    "    # calculate P(not A)\n",
    "    not_a = 1 - p_a\n",
    "    # calculate P(B)\n",
    "    p_b = p_b_given_a * p_a + p_b_given_not_a * not_a \n",
    "    # calculate P(A|B)\n",
    "    p_a_given_b = (p_b_given_a * p_a) / p_b\n",
    "    return p_a_given_b\n",
    " \n",
    "# P(A): P(女生)\n",
    "# P(not A): P(男生)\n",
    "p_a = 0.1\n",
    "# P(B|A): P(長髮|女生)\n",
    "p_b_given_a = 0.5\n",
    "# P(B|not A): P(長髮|男生)\n",
    "p_b_given_not_a = 0.1\n",
    "# calculate P(A|B): P(女生|長髮)\n",
    "result = bayes_theorem(p_a, p_b_given_a, p_b_given_not_a)\n",
    "# summarize\n",
    "# P(女生|長髮)\n",
    "print('P(A|B) = {0}%'.format(round(result * 100,2)))\n",
    "\n",
    "#所以看到長髮男生的可能性大於女生。"
   ]
  },
  {
   "cell_type": "markdown",
   "metadata": {
    "id": "eviX4dNeZbRg"
   },
   "source": [
    "![](Q2_answer.png)"
   ]
  },
  {
   "cell_type": "markdown",
   "metadata": {
    "id": "SeegaHpfZbRg"
   },
   "source": [
    "### Q3:你的決策因為男生女生比例不同(先驗分配不同)，和投影片的結果相比，決策有沒有改變?"
   ]
  },
  {
   "cell_type": "markdown",
   "metadata": {
    "id": "sC7GM8mqZbRh",
    "outputId": "fb324e00-0555-4362-d386-b4e73c19b018"
   },
   "source": [
    "透過貝式定理的運算，得出長髮男生的可能性大於女生，造成決策上的改變，\n",
    "所以以作業和投影片的例子可以看出，先驗分配的重要性，假設錯誤，決策可能就會錯誤。"
   ]
  },
  {
   "cell_type": "code",
   "execution_count": null,
   "metadata": {},
   "outputs": [],
   "source": []
  }
 ],
 "metadata": {
  "colab": {
   "name": "D33_作業.ipynb",
   "provenance": []
  },
  "kernelspec": {
   "display_name": "Python 3",
   "language": "python",
   "name": "python3"
  },
  "language_info": {
   "codemirror_mode": {
    "name": "ipython",
    "version": 3
   },
   "file_extension": ".py",
   "mimetype": "text/x-python",
   "name": "python",
   "nbconvert_exporter": "python",
   "pygments_lexer": "ipython3",
   "version": "3.8.3"
  }
 },
 "nbformat": 4,
 "nbformat_minor": 1
}
