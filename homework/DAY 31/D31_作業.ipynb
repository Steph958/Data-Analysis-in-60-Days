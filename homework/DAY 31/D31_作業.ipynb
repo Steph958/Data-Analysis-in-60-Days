{
  "nbformat": 4,
  "nbformat_minor": 0,
  "metadata": {
    "colab": {
      "name": "D31_作業.ipynb",
      "provenance": []
    },
    "kernelspec": {
      "display_name": "Python 3",
      "language": "python",
      "name": "python3"
    },
    "language_info": {
      "codemirror_mode": {
        "name": "ipython",
        "version": 3
      },
      "file_extension": ".py",
      "mimetype": "text/x-python",
      "name": "python",
      "nbconvert_exporter": "python",
      "pygments_lexer": "ipython3",
      "version": "3.6.1"
    }
  },
  "cells": [
    {
      "cell_type": "markdown",
      "metadata": {
        "id": "GwJlyxkLHeRB"
      },
      "source": [
        "## 作業:\n",
        "今天學到五種分配，包含，   \n",
        "離散均勻分配( Discrete Uniform Distribution )   \n",
        "伯努利分配( Bernoulli Distribution )   \n",
        "二項分配(Binomial Distribution)  \n",
        "負二項分配(Negative Binomial Distribution)  \n",
        "超幾何分配(Hypergeometric Distribution)   \n",
        "今天我們透過作業中的問題，回想今天的內容吧!  "
      ]
    },
    {
      "cell_type": "markdown",
      "metadata": {
        "id": "I2DYu_PhHeRP"
      },
      "source": [
        "### Q1: 大樂透的頭獎，你必須從49個挑選出 6 個號碼，\n",
        "### 且這六個號碼與頭獎的六個號碼一致，頭獎的機率是屬於哪一種分配?"
      ]
    },
    {
      "cell_type": "code",
      "metadata": {
        "collapsed": true,
        "id": "EdTyXrUmHeRR"
      },
      "source": [
        "# library\n",
        "import matplotlib.pyplot as plt\n",
        "import numpy as np\n",
        "import pandas as pd\n",
        "from scipy import stats\n",
        "import math\n",
        "import statistics"
      ],
      "execution_count": null,
      "outputs": []
    },
    {
      "cell_type": "code",
      "metadata": {
        "id": "CLkXdheWHeRT",
        "outputId": "8630fc68-f5ba-4f45-95a1-90da13717131"
      },
      "source": [
        "'''\n",
        "可以想像成，大樂透中有49個號碼，6個是屬於開獎抽出的數字那一群，43個是不屬於開獎抽出的數字那一群，  \n",
        "那你挑的六組號碼，有多少個是落在開獎抽出的數字那一群?\n",
        "所以是屬於 超幾何分配.\n",
        "'''"
      ],
      "execution_count": null,
      "outputs": [
        {
          "output_type": "execute_result",
          "data": {
            "text/plain": [
              "'\\n可以想像成，大樂透中有49個號碼，6個是屬於開獎抽出的數字那一群，43個是不屬於開獎抽出的數字那一群，  \\n那你挑的六組號碼，有多少個是落在開獎抽出的數字那一群?\\n所以是屬於 超幾何分配.\\n'"
            ]
          },
          "metadata": {
            "tags": []
          },
          "execution_count": 12
        }
      ]
    },
    {
      "cell_type": "markdown",
      "metadata": {
        "id": "Nzxn7D0lHeRV"
      },
      "source": [
        "### Q2: 運用範例的 python 程式碼，計算大樂透的中頭獎機率?"
      ]
    },
    {
      "cell_type": "code",
      "metadata": {
        "id": "-ll-98FUHeRW",
        "outputId": "81e2992d-eeb5-4e7d-c624-8af513b3a09d"
      },
      "source": [
        "'''\n",
        "X: HG(49,6,6)\n",
        "p(X=6) 的機率就是中頭獎的機率\n",
        "'''\n",
        "probs = stats.hypergeom.pmf(6,49,6,6)\n",
        "print(\"中頭獎的機率為==\",probs)\n"
      ],
      "execution_count": null,
      "outputs": [
        {
          "output_type": "stream",
          "text": [
            "中頭獎的機率為== 7.151123842018523e-08\n"
          ],
          "name": "stdout"
        }
      ]
    },
    {
      "cell_type": "markdown",
      "metadata": {
        "id": "tLtq3DkBHeRX"
      },
      "source": [
        "### Q3: 你覺得電腦簽注的中獎機率，和人腦簽注相比，哪一個機率高?"
      ]
    },
    {
      "cell_type": "code",
      "metadata": {
        "id": "KEhe5vAsHeRY",
        "outputId": "5a6265b6-0a2f-4c38-8ec3-5c839a07d40d"
      },
      "source": [
        "'''\n",
        "以機率的角度來看，兩者一樣高\n",
        "'''"
      ],
      "execution_count": null,
      "outputs": [
        {
          "output_type": "execute_result",
          "data": {
            "text/plain": [
              "'\\n以機率的角度來看，兩者一樣高\\n'"
            ]
          },
          "metadata": {
            "tags": []
          },
          "execution_count": 15
        }
      ]
    }
  ]
}