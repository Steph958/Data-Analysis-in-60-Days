{
  "nbformat": 4,
  "nbformat_minor": 0,
  "metadata": {
    "colab": {
      "name": "D36_作業.ipynb",
      "provenance": []
    },
    "kernelspec": {
      "display_name": "Python 3",
      "language": "python",
      "name": "python3"
    },
    "language_info": {
      "codemirror_mode": {
        "name": "ipython",
        "version": 3
      },
      "file_extension": ".py",
      "mimetype": "text/x-python",
      "name": "python",
      "nbconvert_exporter": "python",
      "pygments_lexer": "ipython3",
      "version": "3.6.1"
    }
  },
  "cells": [
    {
      "cell_type": "markdown",
      "metadata": {
        "id": "NkbJTb8oK1PS"
      },
      "source": [
        "## 作業:\n",
        "某工廠想知道兩條不同的生產線的產品不良率是否有所不同，由兩條生產線中各抽取 300 個樣本，第一組有  75 個不良品，第二組有 30 個不良品，我們可以宣稱生產線所生產出的產品不良率不相同? (以 0.05 為顯著水準)?    \n",
        "(提示:透過課程投影片的步驟，需思考 𝐻_0、 𝐻_1 的寫法和範例不同唷。)   \n",
        "\n"
      ]
    },
    {
      "cell_type": "code",
      "metadata": {
        "collapsed": true,
        "id": "yz28_IgkYdBW"
      },
      "source": [
        "# library\n",
        "import matplotlib.pyplot as plt\n",
        "import numpy as np\n",
        "import pandas as pd\n",
        "from scipy import stats\n",
        "import math\n",
        "import statistics\n",
        "import seaborn as sns"
      ],
      "execution_count": null,
      "outputs": []
    },
    {
      "cell_type": "code",
      "metadata": {
        "id": "WEnpAgTUK1PX",
        "outputId": "bc6107f5-aa4c-40d8-c146-7ed83603607d"
      },
      "source": [
        "'''\n",
        "你的答案\n",
        "'''\n",
        "import statsmodels.stats.proportion\n",
        "A = [75,30] \n",
        "B = [300,300] \n",
        "statsmodels.stats.proportion.proportions_ztest(A, B, alternative='two-sided')"
      ],
      "execution_count": null,
      "outputs": [
        {
          "output_type": "execute_result",
          "data": {
            "text/plain": [
              "(4.834937784152282, 1.3318728439003627e-06)"
            ]
          },
          "metadata": {
            "tags": []
          },
          "execution_count": 12
        }
      ]
    },
    {
      "cell_type": "markdown",
      "metadata": {
        "id": "ZqMyTSFNK1PY"
      },
      "source": [
        "0.05 為顯著水準，拒絕 $H_{0}$ ，所以兩個產品的不良率不相同。"
      ]
    }
  ]
}