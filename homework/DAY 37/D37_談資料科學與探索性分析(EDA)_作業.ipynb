{
  "nbformat": 4,
  "nbformat_minor": 0,
  "metadata": {
    "colab": {
      "name": "D37_談資料科學與探索性分析(EDA)_作業.ipynb",
      "provenance": []
    },
    "kernelspec": {
      "display_name": "Python 3",
      "language": "python",
      "name": "python3"
    },
    "language_info": {
      "codemirror_mode": {
        "name": "ipython",
        "version": 3
      },
      "file_extension": ".py",
      "mimetype": "text/x-python",
      "name": "python",
      "nbconvert_exporter": "python",
      "pygments_lexer": "ipython3",
      "version": "3.6.1"
    }
  },
  "cells": [
    {
      "cell_type": "markdown",
      "metadata": {
        "id": "ST4rOyUsN8_N"
      },
      "source": [
        "## 作業:\n",
        "今天課程中以一個案例，說明資料分析的流程與探索性分析，是否對於課程中一開始的問題，更有想法了?!    \n",
        "Q1: 哪一個問題不適合用資料科學解決?   \n",
        "Q2: 以你的角度來分析，為什麼這樣的問題，較不適合用資料來解決?    \n",
        "將答案寫在論壇中，大家一起互相討論激盪。   \n",
        "![](作業圖檔.PNG)"
      ]
    },
    {
      "cell_type": "code",
      "metadata": {
        "id": "ZFwK3PSMN8_c",
        "outputId": "13f3edcb-9fe2-4a9f-a581-ef319aa6ed69"
      },
      "source": [
        "'''\n",
        "A1:挑選 Mr./Ms. right\n",
        "A2:因為這樣的問題，比較無法量化，一個\"對的人\"的特質，\n",
        "比如說道德、善良、孝順等比較抽樣的特徵，不容易量化且每一個人感受程度不同，\n",
        "一個問題如果無法有統一量化標準的問題，較無法使用資料科學的方法來輔助決策。\n",
        "'''"
      ],
      "execution_count": null,
      "outputs": [
        {
          "output_type": "execute_result",
          "data": {
            "text/plain": [
              "'\\nA1:挑選 Mr./Ms. right\\nA2:因為這樣的問題，比較無法量化，一個\"對的人\"的特質，\\n比如說道德、善良、孝順等比較抽樣的特徵，不容易量化且每一個人感受程度不同，\\n一個問題如果無法有統一量化標準的問題，較無法使用資料科學的方法來輔助決策。\\n'"
            ]
          },
          "metadata": {
            "tags": []
          },
          "execution_count": 9
        }
      ]
    }
  ]
}