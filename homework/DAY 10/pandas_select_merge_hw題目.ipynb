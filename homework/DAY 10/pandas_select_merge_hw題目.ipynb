{
 "cells": [
  {
   "cell_type": "markdown",
   "metadata": {
    "id": "Uf6dEaWpP3lo"
   },
   "source": [
    "作業目標:<br>\n",
    "1. 運用索引找出需要資料<br>\n",
    "2. 合併資料的分法應用"
   ]
  },
  {
   "cell_type": "markdown",
   "metadata": {
    "id": "3rP6NOVVQZuB"
   },
   "source": [
    "作業重點:<br>\n",
    "1. 分辨索引loc、iloc差別\n",
    "2. 分辨合併資料方法的不同，因應不同情況使用Merge, join, concatenate"
   ]
  },
  {
   "cell_type": "markdown",
   "metadata": {
    "id": "02Ld_89FP-4N"
   },
   "source": [
    "題目:<br>\n",
    "讀取STOCK_DAY_0050_202009.csv串聯STOCK_DAY_0050_202010.csv，並且找出open小於close的資料\n"
   ]
  },
  {
   "cell_type": "code",
   "execution_count": null,
   "metadata": {
    "id": "ysjY4kR5P4rA"
   },
   "outputs": [],
   "source": [
    "import pandas as pd"
   ]
  },
  {
   "cell_type": "code",
   "execution_count": null,
   "metadata": {
    "id": "hsEDbEogG4DG"
   },
   "outputs": [],
   "source": [
    "#讀取STOCK_DAY_0050_202009.csv、STOCK_DAY_0050_202010.csv"
   ]
  },
  {
   "cell_type": "code",
   "execution_count": null,
   "metadata": {
    "id": "cw3OMgQgG4DG"
   },
   "outputs": [],
   "source": [
    "#串聯"
   ]
  },
  {
   "cell_type": "code",
   "execution_count": 1,
   "metadata": {
    "executionInfo": {
     "elapsed": 957,
     "status": "ok",
     "timestamp": 1610348842287,
     "user": {
      "displayName": "献竤黃",
      "photoUrl": "",
      "userId": "07529243043474362942"
     },
     "user_tz": -480
    },
    "id": "LBBLV7TaG4DH",
    "scrolled": true
   },
   "outputs": [],
   "source": [
    "#找出open小於close的資料"
   ]
  },
  {
   "cell_type": "code",
   "execution_count": null,
   "metadata": {
    "id": "tZaFA68VG4DH"
   },
   "outputs": [],
   "source": []
  }
 ],
 "metadata": {
  "colab": {
   "collapsed_sections": [],
   "name": "pandas_select_merge_hw題目.ipynb",
   "provenance": []
  },
  "kernelspec": {
   "display_name": "Python 3",
   "language": "python",
   "name": "python3"
  },
  "language_info": {
   "codemirror_mode": {
    "name": "ipython",
    "version": 3
   },
   "file_extension": ".py",
   "mimetype": "text/x-python",
   "name": "python",
   "nbconvert_exporter": "python",
   "pygments_lexer": "ipython3",
   "version": "3.8.3"
  }
 },
 "nbformat": 4,
 "nbformat_minor": 1
}
