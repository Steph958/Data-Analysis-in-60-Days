{
 "cells": [
  {
   "cell_type": "markdown",
   "metadata": {
    "id": "Ekc8-zn2DXpt"
   },
   "source": [
    "## 作業:\n",
    "在課堂中，檢定 𝐻_0:𝜇≤0， 𝐻_1:𝜇>0 ，假設在 𝐻_0 為真下，分配為 N(0,1)， 𝐻_1 為真下，分配為 N(2,1)。      \n",
    "假設 𝑋 ̅>1，拒絕 𝐻_0。         \n",
    "如果拒絕域改變時，𝛼 和 𝛽 會怎樣變化，       \n",
    "![](sample mean 1.png)\n",
    "可以拿起一張紙，試著畫畫看，就能找到答案。"
   ]
  },
  {
   "cell_type": "markdown",
   "metadata": {
    "id": "tesinU_FDXpv"
   },
   "source": [
    "### Q1: 假設 𝑋 ̅>2，拒絕 𝐻_0，𝛼 會變大/變小? 𝛽 會變大/變小? \n",
    "![](sample mean 2.png)"
   ]
  },
  {
   "cell_type": "code",
   "execution_count": null,
   "metadata": {
    "id": "uA2gEl-YDXpw",
    "outputId": "ed86216e-22eb-4d81-c063-249bce7e0531"
   },
   "outputs": [
    {
     "data": {
      "text/plain": [
       "'\\nbeta會變大，alpha會變小\\n'"
      ]
     },
     "execution_count": 1,
     "metadata": {
      "tags": []
     },
     "output_type": "execute_result"
    }
   ],
   "source": [
    "'''\n",
    "beta會變大，alpha會變小\n",
    "'''"
   ]
  },
  {
   "cell_type": "markdown",
   "metadata": {
    "id": "qPwLW_9vDXpx"
   },
   "source": [
    "### Q2: 假設 𝑋 ̅>0.2，拒絕 𝐻_0，𝛼 會變大/變小? 𝛽 會變大/變小? \n",
    "![](sample mean 0_2.png)"
   ]
  },
  {
   "cell_type": "code",
   "execution_count": null,
   "metadata": {
    "id": "LLVxLM1VDXpx",
    "outputId": "f68ed241-7ddc-49e5-dcd1-21aebd787812"
   },
   "outputs": [
    {
     "data": {
      "text/plain": [
       "'\\nbeta會變小，alpha會變大\\n'"
      ]
     },
     "execution_count": 2,
     "metadata": {
      "tags": []
     },
     "output_type": "execute_result"
    }
   ],
   "source": [
    "'''\n",
    "beta會變小，alpha會變大\n",
    "'''"
   ]
  },
  {
   "cell_type": "markdown",
   "metadata": {
    "id": "gPKsxo8ZDXpy"
   },
   "source": [
    "### Q3: 𝛼 和 𝛽  有關聯性?"
   ]
  },
  {
   "cell_type": "code",
   "execution_count": null,
   "metadata": {
    "id": "9cGTGbVjDXpy",
    "outputId": "b6a8eb38-a552-47c7-a472-23a0d2b11a6f"
   },
   "outputs": [
    {
     "data": {
      "text/plain": [
       "'\\n彼此是權衡的概念，\\nalpha會變大，beta就會變小\\nalpha會變小，beta就會變大\\n'"
      ]
     },
     "execution_count": 3,
     "metadata": {
      "tags": []
     },
     "output_type": "execute_result"
    }
   ],
   "source": [
    "'''\n",
    "alpha是錯誤地拒絕虛無假設的機率。beta是錯誤地不拒絕虛無假設的機率\n",
    "彼此是權衡的概念，\n",
    "alpha會變大，beta就會變小\n",
    "alpha會變小，beta就會變大\n",
    "要讓兩者同時都降低的唯一方法，是增加統計的樣本數\n",
    "'''"
   ]
  }
 ],
 "metadata": {
  "colab": {
   "collapsed_sections": [],
   "name": "D35_作業.ipynb",
   "provenance": []
  },
  "kernelspec": {
   "display_name": "Python 3",
   "language": "python",
   "name": "python3"
  },
  "language_info": {
   "codemirror_mode": {
    "name": "ipython",
    "version": 3
   },
   "file_extension": ".py",
   "mimetype": "text/x-python",
   "name": "python",
   "nbconvert_exporter": "python",
   "pygments_lexer": "ipython3",
   "version": "3.8.3"
  }
 },
 "nbformat": 4,
 "nbformat_minor": 1
}
