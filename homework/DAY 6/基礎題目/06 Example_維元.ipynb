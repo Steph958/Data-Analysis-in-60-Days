{
 "cells": [
  {
   "cell_type": "markdown",
   "metadata": {},
   "source": [
    "# 範例\n",
    "***"
   ]
  },
  {
   "cell_type": "markdown",
   "metadata": {},
   "source": [
    "# [教學目標]\n",
    "\n",
    "* 了解並且學會使用陣列中的統計方法\n",
    "* 了解並且學會使用陣列中的搜尋與排序方法\n",
    "* 了解並且學會使用陣列中的形狀方法\n",
    "\n"
   ]
  },
  {
   "cell_type": "code",
   "execution_count": 1,
   "metadata": {},
   "outputs": [
    {
     "name": "stdout",
     "output_type": "stream",
     "text": [
      "<module 'numpy' from 'C:\\\\Users\\\\vincentLee1231995\\\\Anaconda3\\\\lib\\\\site-packages\\\\numpy\\\\__init__.py'>\n",
      "1.18.5\n"
     ]
    }
   ],
   "source": [
    "# 載入 NumPy 套件\n",
    "import numpy as np\n",
    "\n",
    "# 檢查正確載入與版本\n",
    "print(np)\n",
    "print(np.__version__)"
   ]
  },
  {
   "cell_type": "code",
   "execution_count": 2,
   "metadata": {},
   "outputs": [
    {
     "name": "stdout",
     "output_type": "stream",
     "text": [
      "[0 1 2 3 4 5]\n",
      "15\n",
      "0\n",
      "5\n"
     ]
    }
   ],
   "source": [
    "# 陣列中的統計方法\n",
    "\n",
    "\n",
    "a = np.arange(6)\n",
    "print(a)\n",
    "\n",
    "print(a.sum()) \n",
    "print(a.min()) \n",
    "print(a.max()) \n"
   ]
  },
  {
   "cell_type": "code",
   "execution_count": 3,
   "metadata": {},
   "outputs": [
    {
     "name": "stdout",
     "output_type": "stream",
     "text": [
      "15\n",
      "15\n",
      "15\n"
     ]
    }
   ],
   "source": [
    "# 一種功能，三種函式\n",
    "\n",
    "\n",
    "a = np.arange(6)\n",
    "\n",
    "print(a.sum()) \n",
    "print(np.sum(a))\n",
    "print(sum(a)) "
   ]
  },
  {
   "cell_type": "code",
   "execution_count": 4,
   "metadata": {},
   "outputs": [
    {
     "name": "stdout",
     "output_type": "stream",
     "text": [
      "[[ 0  1  2  3]\n",
      " [ 4  5  6  7]\n",
      " [ 8  9 10 11]]\n",
      "66\n",
      "[12 15 18 21]\n",
      "[ 6 22 38]\n"
     ]
    }
   ],
   "source": [
    "# 陣列中的軸參數\n",
    "\n",
    "b = np.arange(12).reshape(3, 4)\n",
    "\n",
    "print(b)\n",
    "print(b.sum())\n",
    "print(b.sum(axis=0)) #根據欄做加總\n",
    "print(b.sum(axis=1)) #根據列作加總\n"
   ]
  },
  {
   "cell_type": "code",
   "execution_count": 5,
   "metadata": {},
   "outputs": [
    {
     "name": "stdout",
     "output_type": "stream",
     "text": [
      "None\n",
      "[1 2 3 4 5]\n"
     ]
    }
   ],
   "source": [
    "# 搜尋與排序方法\n",
    "\n",
    "import numpy as np \n",
    "\n",
    "a = np.array([1, 3, 2, 5, 4])\n",
    "print(a.sort())\n",
    "print(a)\n",
    "\n"
   ]
  },
  {
   "cell_type": "code",
   "execution_count": 6,
   "metadata": {},
   "outputs": [
    {
     "name": "stdout",
     "output_type": "stream",
     "text": [
      "[1 2 3 4 5]\n",
      "[1 3 2 5 4]\n"
     ]
    }
   ],
   "source": [
    "import numpy as np \n",
    "\n",
    "a = np.array([1, 3, 2, 5, 4])\n",
    "print(np.sort(a))\n",
    "print(a)\n"
   ]
  },
  {
   "cell_type": "code",
   "execution_count": 7,
   "metadata": {},
   "outputs": [
    {
     "name": "stdout",
     "output_type": "stream",
     "text": [
      "2\n",
      "[0 5 2 4]\n"
     ]
    }
   ],
   "source": [
    "import numpy as np \n",
    "\n",
    "print(np.searchsorted([1,2,3,4,5], 3))\n",
    "print(np.searchsorted(\n",
    "    [1, 2, 3, 4, 5],\n",
    "    [-10, 10, 3, 5]\n",
    "))\n",
    "\n"
   ]
  },
  {
   "cell_type": "code",
   "execution_count": 8,
   "metadata": {},
   "outputs": [
    {
     "name": "stdout",
     "output_type": "stream",
     "text": [
      "[0 1 2 3 4 5]\n",
      "[[0 1]\n",
      " [2 3]\n",
      " [4 5]]\n",
      "[0 1 2 3 4 5]\n"
     ]
    }
   ],
   "source": [
    "# reshape 和 resize\n",
    "# reshape不會將變更覆蓋原始資料\n",
    "\n",
    "import numpy as np \n",
    "\n",
    "a = np.arange(6)\n",
    "\n",
    "print(a)\n",
    "print(a.reshape(3, 2))\n",
    "print(a)\n"
   ]
  },
  {
   "cell_type": "code",
   "execution_count": 9,
   "metadata": {},
   "outputs": [
    {
     "name": "stdout",
     "output_type": "stream",
     "text": [
      "[0 1 2 3 4 5]\n",
      "None\n",
      "[[0 1]\n",
      " [2 3]\n",
      " [4 5]]\n"
     ]
    }
   ],
   "source": [
    "# resize會將變更覆蓋原始資料\n",
    "\n",
    "import numpy as np \n",
    "\n",
    "a = np.arange(6)\n",
    "\n",
    "print(a)\n",
    "print(a.resize((3, 2)))\n",
    "print(a)\n"
   ]
  },
  {
   "cell_type": "code",
   "execution_count": 10,
   "metadata": {},
   "outputs": [
    {
     "name": "stdout",
     "output_type": "stream",
     "text": [
      "[[0 1]\n",
      " [2 3]\n",
      " [4 5]]\n",
      "[0 1 2 3 4 5]\n",
      "[0 1 2 3 4 5]\n",
      "<numpy.flatiter object at 0x000001A53C884E40>\n",
      "[0, 1, 2, 3, 4, 5]\n"
     ]
    }
   ],
   "source": [
    "# 三種陣列攤平用法\n",
    "\n",
    "import numpy as np \n",
    "\n",
    "a = np.arange(6).reshape((3, 2))\n",
    "\n",
    "print(a)\n",
    "\n",
    "print(a.ravel() )\n",
    "print(a.flatten())\n",
    "print(a.flat)\n",
    "print(list(a.flat))"
   ]
  },
  {
   "cell_type": "code",
   "execution_count": null,
   "metadata": {},
   "outputs": [],
   "source": []
  }
 ],
 "metadata": {
  "kernelspec": {
   "display_name": "Python 3",
   "language": "python",
   "name": "python3"
  },
  "language_info": {
   "codemirror_mode": {
    "name": "ipython",
    "version": 3
   },
   "file_extension": ".py",
   "mimetype": "text/x-python",
   "name": "python",
   "nbconvert_exporter": "python",
   "pygments_lexer": "ipython3",
   "version": "3.8.3"
  }
 },
 "nbformat": 4,
 "nbformat_minor": 2
}
