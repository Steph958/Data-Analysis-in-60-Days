{
 "cells": [
  {
   "cell_type": "markdown",
   "metadata": {
    "id": "959aD2SDX1wJ"
   },
   "source": [
    "## 作業:\n",
    "今天學到 AB test中假設檢定的基本概念，最重要的就是如何將抽象情況數值化，\n",
    "並建立自已的 $H_0$ 與 $H_1$。\n",
    "透過作業來好好練習，概念懂了，後面幾堂課再帶大家運用 python 進行運算。\n"
   ]
  },
  {
   "cell_type": "markdown",
   "metadata": {
    "id": "HTQ41_ooX1wd"
   },
   "source": [
    "### Q1: 吃減肥藥能在一個月內瘦超過十公斤，研究人員想推翻第四台廣告業者的說法，請試著寫出 $H_0$ 與 $H_1$ 。\n"
   ]
  },
  {
   "cell_type": "markdown",
   "metadata": {
    "id": "h0WxqnHgX1wh",
    "outputId": "3c663f99-1061-4981-ac70-74958f87dd2f"
   },
   "source": [
    "研究人員想推翻第四台廣告業者的說法，所以:\n",
    "\n",
    "H0: 吃減肥藥能在一個月內瘦\"能\"超過十公斤(X>=10)   \n",
    "沒有充足樣本證據就不能草率推翻者，也就是先推定為真(處在假說檢定中的優勢地位)\n",
    "\n",
    "H1: 吃減肥藥能在一個月內瘦\"不能\"超過十公斤(X<10)  \n",
    "欲透過蒐集樣本證據支持者，也就是應負舉證責任(處在假說檢定中的劣勢地位)"
   ]
  },
  {
   "cell_type": "markdown",
   "metadata": {
    "id": "WBuhSiMLX1wk"
   },
   "source": [
    "### Q2: 一位速食店店長認為其品牌在市場之佔有率至多為12%，於是該店長進行一個市場調查，一共訪問了3000為消費者，其中有311位表示喜歡該品牌，請試著寫出 $H_0$ 與 $H_1$ 。\n"
   ]
  },
  {
   "cell_type": "markdown",
   "metadata": {
    "id": "lEvhjCp_X1wl",
    "outputId": "589bf434-ba4a-4279-f402-86d8d40be207"
   },
   "source": [
    "一位速食店店長認為其品牌在市場之佔有率至多 12%，做實驗是想驗證這件事情，所以:\n",
    "    \n",
    "H0: 其品牌在市場之佔有率超過 12%(p>=12%)\n",
    "沒有充足樣本證據就不能草率推翻者，也就是先推定為真(處在假說檢定中的優勢地位)\n",
    "    \n",
    "H1: 其品牌在市場之佔有率至多 12%(p<12%)\n",
    "欲透過蒐集樣本證據支持者，也就是應負舉證責任(處在假說檢定中的劣勢地位)\n"
   ]
  },
  {
   "cell_type": "code",
   "execution_count": null,
   "metadata": {},
   "outputs": [],
   "source": []
  }
 ],
 "metadata": {
  "colab": {
   "name": "D34_作業.ipynb",
   "provenance": []
  },
  "kernelspec": {
   "display_name": "Python 3",
   "language": "python",
   "name": "python3"
  },
  "language_info": {
   "codemirror_mode": {
    "name": "ipython",
    "version": 3
   },
   "file_extension": ".py",
   "mimetype": "text/x-python",
   "name": "python",
   "nbconvert_exporter": "python",
   "pygments_lexer": "ipython3",
   "version": "3.8.3"
  }
 },
 "nbformat": 4,
 "nbformat_minor": 1
}
