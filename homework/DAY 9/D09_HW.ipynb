{
 "cells": [
  {
   "cell_type": "markdown",
   "metadata": {
    "id": "C2qkILqtM8Wg"
   },
   "source": [
    "作業目標:<br>\n",
    "1.讀取各種檔案格式<br>\n",
    "2.輸出各種檔案格式<br>"
   ]
  },
  {
   "cell_type": "markdown",
   "metadata": {
    "id": "t47Sf6ejNLn7"
   },
   "source": [
    "作業重點:<br>\n",
    "1.不同檔案讀取方式皆不同，須了解檔案格式中的邏輯，例如:csv是以逗號分隔<br>\n",
    "2.讀取、輸出檔案的程式碼不同，須注意使用方式"
   ]
  },
  {
   "cell_type": "markdown",
   "metadata": {
    "id": "IabouywFNmI7"
   },
   "source": [
    "題目: <br>\n",
    "讀取資料夾中boston.csv讀取其欄位CHAS、NOX、RM，輸出成.xlsx檔案"
   ]
  },
  {
   "cell_type": "code",
   "execution_count": 1,
   "metadata": {
    "id": "Rid6t1NoNrlB"
   },
   "outputs": [],
   "source": [
    "import pandas as pd"
   ]
  },
  {
   "cell_type": "code",
   "execution_count": 2,
   "metadata": {
    "id": "YGXm3I0VMvSG"
   },
   "outputs": [],
   "source": [
    "#讀取資料夾中boston.csv讀取其欄位CHAS、NOX、RM，輸出成.xlsx檔案\n",
    "boston = pd.read_csv('boston.csv',usecols=['CHAS','NOX','RM'])"
   ]
  },
  {
   "cell_type": "code",
   "execution_count": 3,
   "metadata": {
    "id": "RkTGpcqfMvSH"
   },
   "outputs": [],
   "source": [
    "boston.to_excel('hw_boston.xlsx')"
   ]
  },
  {
   "cell_type": "code",
   "execution_count": null,
   "metadata": {},
   "outputs": [],
   "source": []
  }
 ],
 "metadata": {
  "colab": {
   "collapsed_sections": [],
   "name": "pandas_io_homework解答.ipynb",
   "provenance": []
  },
  "kernelspec": {
   "display_name": "Python 3",
   "language": "python",
   "name": "python3"
  },
  "language_info": {
   "codemirror_mode": {
    "name": "ipython",
    "version": 3
   },
   "file_extension": ".py",
   "mimetype": "text/x-python",
   "name": "python",
   "nbconvert_exporter": "python",
   "pygments_lexer": "ipython3",
   "version": "3.8.3"
  }
 },
 "nbformat": 4,
 "nbformat_minor": 1
}
