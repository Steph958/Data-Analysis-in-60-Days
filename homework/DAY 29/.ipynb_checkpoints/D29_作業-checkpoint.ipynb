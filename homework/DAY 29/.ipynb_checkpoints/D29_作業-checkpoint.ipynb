{
 "cells": [
  {
   "cell_type": "markdown",
   "metadata": {
    "id": "bBghINFGX5QS"
   },
   "source": [
    "## 作業:\n",
    "今天學到不同統計量之間特性，  \n",
    "試著分析男生女生身高資料，  \n",
    "試著回答下面的問題:  \n",
    "Q1:試著用今天所教的內容，如何描述這兩組資料的樣態?    \n",
    "Q2: 請問男生和女生在平均身高上誰比較高?   \n",
    "Q3:請問第二題的答案和日常生活中觀察的一致嗎? 如果不一致，你覺得原因可能為何?    \n",
    "上述問題透過  python 語法進行運算，\n",
    "並將上述答案填寫在 (google 表單)[https://docs.google.com/forms/d/e/1FAIpQLSdDzwpeJl8YLPwZaW8pBZvtuXY9kIbbZLqxcXyzFaoraV5JEA/viewform]\n",
    "![](作業資料圖檔.PNG)"
   ]
  },
  {
   "cell_type": "code",
   "execution_count": null,
   "metadata": {
    "collapsed": true,
    "id": "yz28_IgkYdBW"
   },
   "outputs": [],
   "source": [
    "# library\n",
    "import matplotlib.pyplot as plt\n",
    "import numpy as np\n",
    "import pandas as pd\n",
    "from scipy import stats\n",
    "import math\n",
    "import statistics\n",
    "import seaborn as sns"
   ]
  },
  {
   "cell_type": "code",
   "execution_count": null,
   "metadata": {
    "collapsed": true,
    "id": "kkD_42P7X5QU"
   },
   "outputs": [],
   "source": [
    "## 輸入資料\n",
    "boys=[164, 176, 169, 169, 165, 175, 159, 151, 144, 160, 183, 165, 156, 170,\n",
    " 164, 173, 165, 163, 177, 171]\n",
    "\n",
    "girls=[169, 183, 170, 168, 182, 170, 173, 185, 151, 156, 162, 169, 162, 181,\n",
    " 159, 154, 167, 175, 170, 160]"
   ]
  },
  {
   "cell_type": "code",
   "execution_count": null,
   "metadata": {
    "id": "Rr46QP7HX5QV",
    "outputId": "56d0985c-12ff-402a-e90f-7e5854307eb1"
   },
   "outputs": [
    {
     "name": "stdout",
     "output_type": "stream",
     "text": [
      "男孩身高平均= 165.95\n",
      "女孩身高平均= 168.3\n",
      "男孩身高中位數= 165.0\n",
      "女孩身高中位數= 169.0\n",
      "男孩身高眾數= 165\n",
      "女孩身高眾數= 170\n",
      "男孩身高全距= 39\n",
      "女孩身高全距= 34\n",
      "男孩身高變異數= 84.89210526315789\n",
      "男孩身高變異數= 95.37894736842104\n",
      "男孩身高標準差= 9.213691185575838\n",
      "女孩身高標準差= 9.766214587465353\n",
      "男孩身高90百分位數= 176.1\n",
      "男孩身高50百分位數= 165.0\n",
      "男孩身高20百分位數= 159.8\n",
      "女孩身高90百分位數= 182.1\n",
      "女孩身高50百分位數= 169.0\n",
      "女孩身高20百分位數= 159.8\n",
      "男孩身高偏度= -0.47132127317376954\n",
      "男孩身高峰度= 0.19395882957876331\n",
      "女孩身高偏度= 0.05985321129365068\n",
      "女孩身高峰度= -0.8203607083948947\n"
     ]
    }
   ],
   "source": [
    "#Q1:試著用今天所教的內容，如何描述這兩組資料的樣態?\n",
    "#暗示:  分別計算男生和女生的統計量\n",
    "# 計算統計量_平均數的方法\n",
    "mean_boy=np.mean(boys)\n",
    "print(\"男孩身高平均=\",mean_boy)\n",
    "mean_girl=np.mean(girls)\n",
    "print(\"女孩身高平均=\",mean_girl)\n",
    "\n",
    "# 計算統計量_中位數的方法\n",
    "np_median_boy=np.median(boys,axis=None)\n",
    "print(\"男孩身高中位數=\",np_median_boy)\n",
    "np_median_girl=np.median(girls,axis=None)\n",
    "print(\"女孩身高中位數=\",np_median_girl)\n",
    "\n",
    "#計算統計量_眾數\n",
    "mode_boy=stats.mode(boys,axis=None)\n",
    "print(\"男孩身高眾數=\",mode_boy[0][0])\n",
    "\n",
    "mode_girl=stats.mode(girls,axis=None)\n",
    "print(\"女孩身高眾數=\",mode_girl[0][0])\n",
    "\n",
    "#計算全距:\n",
    "def rangeV(x): \n",
    "    return(max(x)-min(x))\n",
    "    \n",
    "print(\"男孩身高全距=\",rangeV(boys))\n",
    "print(\"女孩身高全距=\",rangeV(girls))\n",
    "\n",
    "#計算變異數\n",
    "print(\"男孩身高變異數=\",np.var(boys,ddof=1))\n",
    "print(\"男孩身高變異數=\",np.var(girls,ddof=1))\n",
    "\n",
    "\n",
    "#計算標準差\n",
    "std_boy=np.std(boys,ddof=1)\n",
    "print(\"男孩身高標準差=\",std_boy)\n",
    "std_girl=np.std(girls,ddof=1)\n",
    "print(\"女孩身高標準差=\",std_girl)\n",
    "\n",
    "## python 百分位數\n",
    "#np\n",
    "print(\"男孩身高90百分位數=\",np.percentile(boys, 90))\n",
    "print(\"男孩身高50百分位數=\",np.percentile(boys, 50))\n",
    "print(\"男孩身高20百分位數=\",np.percentile(boys, 20))\n",
    "\n",
    "print(\"女孩身高90百分位數=\",np.percentile(girls, 90))\n",
    "print(\"女孩身高50百分位數=\",np.percentile(girls, 50))\n",
    "print(\"女孩身高20百分位數=\",np.percentile(girls, 20))\n",
    "\n",
    "\n",
    "#計算峰度和偏度\n",
    "print(\"男孩身高偏度=\",stats.skew(boys))\n",
    "print(\"男孩身高峰度=\",stats.kurtosis(boys))\n",
    "\n",
    "print(\"女孩身高偏度=\",stats.skew(girls))\n",
    "print(\"女孩身高峰度=\",stats.kurtosis(girls))"
   ]
  },
  {
   "cell_type": "code",
   "execution_count": null,
   "metadata": {
    "id": "TnZXGL37X5QW",
    "outputId": "b6452907-fb52-40ca-c01d-a5347478574a"
   },
   "outputs": [
    {
     "data": {
      "image/png": "[encoded data removed]",
      "text/plain": [
       "<Figure size 432x288 with 1 Axes>"
      ]
     },
     "metadata": {
      "tags": []
     },
     "output_type": "display_data"
    }
   ],
   "source": [
    "#最後，畫圖看分布\n",
    "plt.hist(boys,alpha=.4,bins=40)\n",
    "plt.title('boy,skewness={0},kurtosis={1}'.format(round(stats.skew(boys),2),round(stats.kurtosis(boys),2)))\n",
    "plt.axvline(x=mean_boy)\n",
    "plt.show()"
   ]
  },
  {
   "cell_type": "code",
   "execution_count": null,
   "metadata": {
    "id": "MVoN4A_CX5QW",
    "outputId": "0c648ae6-29cd-475c-b4e1-6a7c3471a533"
   },
   "outputs": [
    {
     "data": {
      "image/png": "[encoded data removed]",
      "text/plain": [
       "<Figure size 432x288 with 1 Axes>"
      ]
     },
     "metadata": {
      "tags": []
     },
     "output_type": "display_data"
    }
   ],
   "source": [
    "#最後，畫圖看分布\n",
    "plt.hist(girls,alpha=.4,bins=40,color=sns.desaturate(\"indianred\", .8))\n",
    "plt.title('girl,skewness={0},kurtosis={1}'.format(round(stats.skew(girls),2),round(stats.kurtosis(girls),2)))\n",
    "plt.axvline(x=mean_girl,color=sns.desaturate(\"indianred\", .8))\n",
    "plt.show()"
   ]
  },
  {
   "cell_type": "code",
   "execution_count": null,
   "metadata": {
    "id": "TTW_L4jhX5QW",
    "outputId": "29b01255-7f1b-41a2-fa93-3ed2fac33e21"
   },
   "outputs": [
    {
     "data": {
      "image/png": "[encoded data removed]",
      "text/plain": [
       "<Figure size 432x288 with 1 Axes>"
      ]
     },
     "metadata": {
      "tags": []
     },
     "output_type": "display_data"
    }
   ],
   "source": [
    "plt.hist(boys,alpha=.4)\n",
    "plt.hist(girls,color=sns.desaturate(\"indianred\", .8),alpha=.4)\n",
    "plt.title(\"all samples\")\n",
    "plt.axvline(x=mean_girl,color=sns.desaturate(\"indianred\", .8))\n",
    "plt.axvline(x=mean_boy)\n",
    "plt.show()"
   ]
  },
  {
   "cell_type": "markdown",
   "metadata": {
    "id": "2-BYu0HRX5QX"
   },
   "source": [
    "#Q1答案: 所以從分布看的出來，女生的平均身高較高，且資料較為集中，男生的資料較為分散。"
   ]
  },
  {
   "cell_type": "markdown",
   "metadata": {
    "id": "nmL_3wmfX5QX"
   },
   "source": [
    "### 分別從分別為集中趨勢、離散程度和分布型態，和圖形比較這兩主資料"
   ]
  },
  {
   "cell_type": "code",
   "execution_count": null,
   "metadata": {
    "id": "g58XBj6FX5QX",
    "outputId": "78aa0985-5821-4d5e-fc48-592f6b007135"
   },
   "outputs": [
    {
     "name": "stdout",
     "output_type": "stream",
     "text": [
      "男孩身高平均= 165.95\n",
      "女孩身高平均= 168.3\n"
     ]
    }
   ],
   "source": [
    "#Q2: 請問男生和女生在平均身高上誰比較高? \n",
    "# 計算統計量_平均數的方法\n",
    "mean_boy=np.mean(boys)\n",
    "print(\"男孩身高平均=\",mean_boy)\n",
    "mean_girl=np.mean(girls)\n",
    "print(\"女孩身高平均=\",mean_girl)\n",
    "#女生平均而言比較高"
   ]
  },
  {
   "cell_type": "markdown",
   "metadata": {
    "id": "HD8EgXpHX5QY"
   },
   "source": [
    "#Q3:請問第二題的答案和日常生活中觀察的一致嗎? 如果不一致，你覺得原因可能為何?   \n",
    "答案如下:\n",
    "和日常的觀察不一致，    \n",
    "有可能是抽樣上有誤差，此樣本和母體的特性差異比較大。   \n",
    "在今天的課程中，也特別強調，   \n",
    "樣本是種現象，但是這樣的現象不代表是真相，   \n",
    "也就是你身邊的人月薪都很高，不代表全台灣的人月薪都很高的意思是一樣的唷。   \n",
    "所以樣本的資料收集是很重要的，  \n",
    "如何收集到好的資料，也是一門學問，  \n",
    "有興趣的同學，可以研究抽樣方法。    "
   ]
  }
 ],
 "metadata": {
  "colab": {
   "name": "D29_作業.ipynb",
   "provenance": []
  },
  "kernelspec": {
   "display_name": "Python 3",
   "language": "python",
   "name": "python3"
  },
  "language_info": {
   "codemirror_mode": {
    "name": "ipython",
    "version": 3
   },
   "file_extension": ".py",
   "mimetype": "text/x-python",
   "name": "python",
   "nbconvert_exporter": "python",
   "pygments_lexer": "ipython3",
   "version": "3.8.3"
  }
 },
 "nbformat": 4,
 "nbformat_minor": 1
}
