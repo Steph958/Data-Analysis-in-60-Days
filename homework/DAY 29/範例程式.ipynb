{
 "cells": [
  {
   "cell_type": "markdown",
   "metadata": {},
   "source": [
    "## 今天的範例，帶大家操作投影片中，如何描述所收集到資料男生身高的資料"
   ]
  },
  {
   "cell_type": "markdown",
   "metadata": {
    "colab_type": "text",
    "id": "Z9YHBcEGYdBV"
   },
   "source": [
    "### 範例資料\n",
    "產出男生的身高資料\n"
   ]
  },
  {
   "cell_type": "code",
   "execution_count": 38,
   "metadata": {
    "colab": {
     "base_uri": "https://localhost:8080/",
     "height": 34
    },
    "colab_type": "code",
    "collapsed": true,
    "executionInfo": {
     "elapsed": 1558,
     "status": "ok",
     "timestamp": 1578021044012,
     "user": {
      "displayName": "Mora chen",
      "photoUrl": "https://lh3.googleusercontent.com/a-/AAuE7mB40f7sDArbZ5_DYq02nNcnLD0Ryaf7AhsASSQeLQ=s64",
      "userId": "03171203089166907199"
     },
     "user_tz": -480
    },
    "id": "yz28_IgkYdBW",
    "outputId": "a12f486c-18b3-4fb5-d06c-f162aebd9444"
   },
   "outputs": [],
   "source": [
    "# library\n",
    "import matplotlib.pyplot as plt\n",
    "import numpy as np\n",
    "import pandas as pd\n",
    "from scipy import stats\n",
    "import math\n",
    "import statistics"
   ]
  },
  {
   "cell_type": "code",
   "execution_count": 39,
   "metadata": {
    "collapsed": true
   },
   "outputs": [],
   "source": [
    "#輸入資料\n",
    "boys=[164, 176, 169, 169, 165, 175, 159, 151, 144, 160, 183, 165, 156, 170,\n",
    " 164, 173, 165, 163, 177, 171]\n"
   ]
  },
  {
   "cell_type": "code",
   "execution_count": 40,
   "metadata": {},
   "outputs": [
    {
     "name": "stdout",
     "output_type": "stream",
     "text": [
      "男孩身高平均= 165.95\n",
      "statistics_mean_boy= 165.95\n"
     ]
    }
   ],
   "source": [
    "# 計算統計量_平均數的方法\n",
    "mean_boy=np.mean(boys)\n",
    "print(\"男孩身高平均=\",mean_boy)\n",
    "\n",
    "statistics_mean_boy=statistics.mean(boys)\n",
    "print(\"statistics_mean_boy=\",statistics_mean_boy)\n"
   ]
  },
  {
   "cell_type": "code",
   "execution_count": 41,
   "metadata": {},
   "outputs": [
    {
     "name": "stdout",
     "output_type": "stream",
     "text": [
      "np_median_boy= 165.0\n",
      "statistics_median_boy= 165.0\n"
     ]
    }
   ],
   "source": [
    "# 計算統計量_中位數的方法\n",
    "np_median_boy=np.median(boys,axis=None)\n",
    "print(\"np_median_boy=\",np_median_boy)\n",
    "\n",
    "\n",
    "statistics_median_boy=statistics.median(boys)\n",
    "print(\"statistics_median_boy=\",statistics_median_boy)\n",
    "\n"
   ]
  },
  {
   "cell_type": "code",
   "execution_count": 42,
   "metadata": {},
   "outputs": [
    {
     "name": "stdout",
     "output_type": "stream",
     "text": [
      "男孩身高眾數= ModeResult(mode=array([165]), count=array([3]))\n",
      "男孩身高眾數= 165\n",
      "statistics_mode_boy= 165\n"
     ]
    }
   ],
   "source": [
    "# 統計量_眾數\n",
    "# 統計量的眾數，如果有多個眾數，取最小的值當眾數。\n",
    "\n",
    "mode_boy=stats.mode(boys,axis=None)\n",
    "print(\"男孩身高眾數=\",mode_boy)\n",
    "print(\"男孩身高眾數=\",mode_boy[0][0])\n",
    "\n",
    "\n",
    "# 統計量_眾數\n",
    "statistics_mode_boy=statistics.mode(boys)\n",
    "print(\"statistics_mode_boy=\",statistics_mode_boy)\n"
   ]
  },
  {
   "cell_type": "code",
   "execution_count": 43,
   "metadata": {},
   "outputs": [
    {
     "name": "stdout",
     "output_type": "stream",
     "text": [
      "39\n"
     ]
    }
   ],
   "source": [
    "#全距\n",
    "#rangeV=max(boys)-min(boys)\n",
    "def rangeV(x): \n",
    "  return(max(x)-min(x))\n",
    "    \n",
    "print(rangeV(boys))"
   ]
  },
  {
   "cell_type": "code",
   "execution_count": 44,
   "metadata": {},
   "outputs": [
    {
     "name": "stdout",
     "output_type": "stream",
     "text": [
      "男孩身高標準差= 84.89210526315789\n",
      "男孩身高標準差= 84.89210526315789\n"
     ]
    }
   ],
   "source": [
    "# 計算變異數的方法\n",
    "print(\"男孩身高變異數=\",statistics.variance(boys))\n",
    "print(\"男孩身高變異數=\",np.var(boys,ddof=1))"
   ]
  },
  {
   "cell_type": "code",
   "execution_count": 45,
   "metadata": {},
   "outputs": [
    {
     "name": "stdout",
     "output_type": "stream",
     "text": [
      "男孩身高標準差= 9.213691185575838\n",
      "statistics_mean_boy= 9.213691185575838\n"
     ]
    }
   ],
   "source": [
    "# 統計量_標準差的方法\n",
    "#樣本標準差\n",
    "#ddof=1, 回傳 sample standard deviation 樣本標準差，分母(n-1)，無偏估計\n",
    "std_boy=np.std(boys,ddof=1)\n",
    "print(\"男孩身高標準差=\",std_boy)\n",
    "\n",
    "statistics_stdev_boy=statistics.stdev(boys)\n",
    "print(\"statistics_mean_boy=\",statistics_stdev_boy)\n",
    "\n"
   ]
  },
  {
   "cell_type": "code",
   "execution_count": 46,
   "metadata": {},
   "outputs": [
    {
     "name": "stdout",
     "output_type": "stream",
     "text": [
      "90百分位數= 176.1\n",
      "50百分位數= 165.0\n",
      "20百分位數= 159.8\n",
      "20百分位數= 159.8\n"
     ]
    }
   ],
   "source": [
    "# python 百分位數\n",
    "#np\n",
    "print(\"90百分位數=\",np.percentile(boys, 90))\n",
    "print(\"50百分位數=\",np.percentile(boys, 50))\n",
    "print(\"20百分位數=\",np.percentile(boys, 20))\n",
    "#stat\n",
    "print(\"20百分位數=\",stats.scoreatpercentile(boys, 20))\n"
   ]
  },
  {
   "cell_type": "code",
   "execution_count": 47,
   "metadata": {},
   "outputs": [
    {
     "name": "stdout",
     "output_type": "stream",
     "text": [
      "-0.47132127317376954\n",
      "0.19395882957876331\n"
     ]
    }
   ],
   "source": [
    "#計算峰度和偏度\n",
    "print(stats.skew(boys))\n",
    "print(stats.kurtosis(boys))\n",
    "\n",
    "# pandas和 stat 接近\n",
    "# python的峰帶"
   ]
  },
  {
   "cell_type": "code",
   "execution_count": 48,
   "metadata": {},
   "outputs": [
    {
     "data": {
      "image/png": "[encoded data removed]",
      "text/plain": [
       "<Figure size 432x288 with 1 Axes>"
      ]
     },
     "metadata": {},
     "output_type": "display_data"
    }
   ],
   "source": [
    "#最後，畫圖看分布\n",
    "plt.hist(boys,alpha=.4,bins=40)\n",
    "plt.title('boy,skewness={0},kurtosis={1}'.format(round(stats.skew(boys),2),round(stats.kurtosis(boys),2)))\n",
    "plt.axvline(x=mean_boy)\n",
    "plt.show()"
   ]
  }
 ],
 "metadata": {
  "colab": {
   "name": "Day33.YOLO 細節理解 - 網路輸出的後處理_HW.ipynb",
   "provenance": []
  },
  "kernelspec": {
   "display_name": "Python 3",
   "language": "python",
   "name": "python3"
  },
  "language_info": {
   "codemirror_mode": {
    "name": "ipython",
    "version": 3
   },
   "file_extension": ".py",
   "mimetype": "text/x-python",
   "name": "python",
   "nbconvert_exporter": "python",
   "pygments_lexer": "ipython3",
   "version": "3.6.1"
  }
 },
 "nbformat": 4,
 "nbformat_minor": 1
}
