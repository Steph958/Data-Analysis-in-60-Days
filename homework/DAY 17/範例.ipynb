{
 "cells": [
  {
   "cell_type": "markdown",
   "metadata": {},
   "source": [
    "## 時間序列資料整理"
   ]
  },
  {
   "cell_type": "code",
   "execution_count": 1,
   "metadata": {},
   "outputs": [
    {
     "data": {
      "text/plain": [
       "2021    1\n",
       "2022    2\n",
       "2023    3\n",
       "2024    4\n",
       "2025    5\n",
       "Freq: A-DEC, dtype: int64"
      ]
     },
     "execution_count": 1,
     "metadata": {},
     "output_type": "execute_result"
    }
   ],
   "source": [
    "import pandas as pd\n",
    "\n",
    "df = pd.Series([1, 2, 3, 4, 5], index=pd.period_range('2021-01-01', freq='Y', periods=5))\n",
    "df"
   ]
  },
  {
   "cell_type": "code",
   "execution_count": 2,
   "metadata": {},
   "outputs": [
    {
     "data": {
      "text/plain": [
       "2021Q1    1.0\n",
       "2021Q2    NaN\n",
       "2021Q3    NaN\n",
       "2021Q4    NaN\n",
       "2022Q1    2.0\n",
       "2022Q2    NaN\n",
       "2022Q3    NaN\n",
       "2022Q4    NaN\n",
       "2023Q1    3.0\n",
       "2023Q2    NaN\n",
       "2023Q3    NaN\n",
       "2023Q4    NaN\n",
       "2024Q1    4.0\n",
       "2024Q2    NaN\n",
       "2024Q3    NaN\n",
       "2024Q4    NaN\n",
       "2025Q1    5.0\n",
       "2025Q2    NaN\n",
       "2025Q3    NaN\n",
       "2025Q4    NaN\n",
       "Freq: Q-DEC, dtype: float64"
      ]
     },
     "execution_count": 2,
     "metadata": {},
     "output_type": "execute_result"
    }
   ],
   "source": [
    "# 年轉換為季\n",
    "df.resample('Q', convention='start').asfreq()"
   ]
  },
  {
   "cell_type": "code",
   "execution_count": 3,
   "metadata": {},
   "outputs": [
    {
     "data": {
      "text/plain": [
       "2021    1\n",
       "2022    2\n",
       "2023    3\n",
       "Freq: A-DEC, dtype: int64"
      ]
     },
     "execution_count": 3,
     "metadata": {},
     "output_type": "execute_result"
    }
   ],
   "source": [
    "# 可以抓一段時間\n",
    "df['2021':'2023']"
   ]
  },
  {
   "cell_type": "code",
   "execution_count": 4,
   "metadata": {},
   "outputs": [
    {
     "data": {
      "text/plain": [
       "(('2021-01-01', str),\n",
       " (Timestamp('2021-01-01 00:00:00'), pandas._libs.tslibs.timestamps.Timestamp))"
      ]
     },
     "execution_count": 4,
     "metadata": {},
     "output_type": "execute_result"
    }
   ],
   "source": [
    "# 字串轉時間型態\n",
    "str_date = '2021-01-01'\n",
    "date = pd.Timestamp(2021,1,1)\n",
    "(str_date, type(str_date)),(date, type(date))"
   ]
  },
  {
   "cell_type": "code",
   "execution_count": 5,
   "metadata": {},
   "outputs": [
    {
     "data": {
      "text/plain": [
       "(('2021-01_01', str),\n",
       " (Timestamp('2021-01-01 00:00:00'), pandas._libs.tslibs.timestamps.Timestamp))"
      ]
     },
     "execution_count": 5,
     "metadata": {},
     "output_type": "execute_result"
    }
   ],
   "source": [
    "# 時間型態轉字串\n",
    "date_to_str = date.strftime('%Y-%m_%d')\n",
    "str_to_date = pd.to_datetime(str_date)\n",
    "(date_to_str, type(date_to_str)), (str_to_date, type(str_to_date))"
   ]
  },
  {
   "cell_type": "code",
   "execution_count": 6,
   "metadata": {},
   "outputs": [
    {
     "data": {
      "text/plain": [
       "Timestamp('2021-01-01 00:00:00')"
      ]
     },
     "execution_count": 6,
     "metadata": {},
     "output_type": "execute_result"
    }
   ],
   "source": [
    "date"
   ]
  },
  {
   "cell_type": "code",
   "execution_count": 7,
   "metadata": {},
   "outputs": [
    {
     "data": {
      "text/plain": [
       "(2021, 1, 1)"
      ]
     },
     "execution_count": 7,
     "metadata": {},
     "output_type": "execute_result"
    }
   ],
   "source": [
    "# 年、月、日可分別抓出\n",
    "date.year, date.month, date.day"
   ]
  },
  {
   "cell_type": "code",
   "execution_count": 8,
   "metadata": {},
   "outputs": [
    {
     "data": {
      "text/plain": [
       "('Friday', 53)"
      ]
     },
     "execution_count": 8,
     "metadata": {},
     "output_type": "execute_result"
    }
   ],
   "source": [
    "# 看看該日為星期幾，是該年 (可設定從哪時候開始算) 的第幾個星期\n",
    "date.day_name(), date.weekofyear"
   ]
  },
  {
   "cell_type": "code",
   "execution_count": 9,
   "metadata": {},
   "outputs": [
    {
     "data": {
      "text/plain": [
       "(Timestamp('2021-01-01 00:00:00'), Timestamp('2021-01-11 00:00:00'))"
      ]
     },
     "execution_count": 9,
     "metadata": {},
     "output_type": "execute_result"
    }
   ],
   "source": [
    "date2 = pd.Timestamp(2021,1,11)\n",
    "date, date2"
   ]
  },
  {
   "cell_type": "code",
   "execution_count": 10,
   "metadata": {},
   "outputs": [
    {
     "data": {
      "text/plain": [
       "Timedelta('10 days 00:00:00')"
      ]
     },
     "execution_count": 10,
     "metadata": {},
     "output_type": "execute_result"
    }
   ],
   "source": [
    "# 可看出相隔幾日\n",
    "date2 - date"
   ]
  },
  {
   "cell_type": "code",
   "execution_count": 11,
   "metadata": {},
   "outputs": [
    {
     "data": {
      "text/plain": [
       "True"
      ]
     },
     "execution_count": 11,
     "metadata": {},
     "output_type": "execute_result"
    }
   ],
   "source": [
    "# 檢查是否真的差十天\n",
    "date + pd.Timedelta(days=10) == date2"
   ]
  },
  {
   "cell_type": "code",
   "execution_count": 12,
   "metadata": {},
   "outputs": [
    {
     "data": {
      "text/plain": [
       "<2 * BusinessDays>"
      ]
     },
     "execution_count": 12,
     "metadata": {},
     "output_type": "execute_result"
    }
   ],
   "source": [
    "# 設定兩天工作日\n",
    "date += pd.Timedelta(days=1) \n",
    "some_b_day = 2 * pd.offsets.BDay()\n",
    "some_b_day"
   ]
  },
  {
   "cell_type": "code",
   "execution_count": 13,
   "metadata": {},
   "outputs": [
    {
     "data": {
      "text/plain": [
       "('Saturday', 'Tuesday')"
      ]
     },
     "execution_count": 13,
     "metadata": {},
     "output_type": "execute_result"
    }
   ],
   "source": [
    "# 把某日加上兩天工作日\n",
    "add_some_b_date = date + some_b_day\n",
    "date.day_name(), add_some_b_date.day_name()"
   ]
  },
  {
   "cell_type": "markdown",
   "metadata": {},
   "source": [
    "## 補充 : 轉各種期間的函數"
   ]
  },
  {
   "cell_type": "code",
   "execution_count": 13,
   "metadata": {},
   "outputs": [],
   "source": [
    "import pandas as pd\n",
    "import numpy as np"
   ]
  },
  {
   "cell_type": "code",
   "execution_count": 26,
   "metadata": {},
   "outputs": [
    {
     "name": "stdout",
     "output_type": "stream",
     "text": [
      "month date_range()：\n",
      "DatetimeIndex(['2021-01-31', '2021-02-28', '2021-03-31', '2021-04-30',\n",
      "               '2021-05-31', '2021-06-30', '2021-07-31', '2021-08-31',\n",
      "               '2021-09-30', '2021-10-31', '2021-11-30', '2021-12-31'],\n",
      "              dtype='datetime64[ns]', freq='M')\n"
     ]
    }
   ],
   "source": [
    "date_rng = pd.date_range('2021-01-01', freq='M', periods=12)\n",
    "print(f'month date_range()：\\n{date_rng}')"
   ]
  },
  {
   "cell_type": "code",
   "execution_count": 27,
   "metadata": {},
   "outputs": [
    {
     "name": "stdout",
     "output_type": "stream",
     "text": [
      "month period_range()：\n",
      "PeriodIndex(['2021-01', '2021-02', '2021-03', '2021-04', '2021-05', '2021-06',\n",
      "             '2021-07', '2021-08', '2021-09', '2021-10', '2021-11', '2021-12'],\n",
      "            dtype='period[M]', freq='M')\n"
     ]
    }
   ],
   "source": [
    "period_rng = pd.period_range('2021/01/01', freq='M', periods=12)\n",
    "print(f'month period_range()：\\n{period_rng}')"
   ]
  },
  {
   "cell_type": "code",
   "execution_count": 29,
   "metadata": {},
   "outputs": [
    {
     "name": "stdout",
     "output_type": "stream",
     "text": [
      "week date_range()：\n",
      "DatetimeIndex(['2021-01-03', '2021-01-10', '2021-01-17', '2021-01-24',\n",
      "               '2021-01-31', '2021-02-07', '2021-02-14', '2021-02-21',\n",
      "               '2021-02-28', '2021-03-07', '2021-03-14', '2021-03-21'],\n",
      "              dtype='datetime64[ns]', freq='W-SUN')\n"
     ]
    }
   ],
   "source": [
    "date_rng = pd.date_range('2021-01-01', freq='W-SUN', periods=12)\n",
    "print(f'week date_range()：\\n{date_rng}')"
   ]
  },
  {
   "cell_type": "code",
   "execution_count": 30,
   "metadata": {},
   "outputs": [
    {
     "name": "stdout",
     "output_type": "stream",
     "text": [
      "week period_range()：\n",
      "PeriodIndex(['2020-12-28/2021-01-03', '2021-01-04/2021-01-10',\n",
      "             '2021-01-11/2021-01-17', '2021-01-18/2021-01-24',\n",
      "             '2021-01-25/2021-01-31', '2021-02-01/2021-02-07',\n",
      "             '2021-02-08/2021-02-14', '2021-02-15/2021-02-21',\n",
      "             '2021-02-22/2021-02-28', '2021-03-01/2021-03-07',\n",
      "             '2021-03-08/2021-03-14', '2021-03-15/2021-03-21'],\n",
      "            dtype='period[W-SUN]', freq='W-SUN')\n"
     ]
    }
   ],
   "source": [
    "period_rng=pd.period_range('2021-01-01',freq='W-SUN',periods=12)\n",
    "print(f'week period_range()：\\n{period_rng}')"
   ]
  },
  {
   "cell_type": "code",
   "execution_count": 31,
   "metadata": {},
   "outputs": [
    {
     "name": "stdout",
     "output_type": "stream",
     "text": [
      "hour date_range()：\n",
      "DatetimeIndex(['2021-01-01 00:00:00', '2021-01-01 01:00:00',\n",
      "               '2021-01-01 02:00:00', '2021-01-01 03:00:00',\n",
      "               '2021-01-01 04:00:00', '2021-01-01 05:00:00',\n",
      "               '2021-01-01 06:00:00', '2021-01-01 07:00:00',\n",
      "               '2021-01-01 08:00:00', '2021-01-01 09:00:00',\n",
      "               '2021-01-01 10:00:00', '2021-01-01 11:00:00'],\n",
      "              dtype='datetime64[ns]', freq='H')\n"
     ]
    }
   ],
   "source": [
    "date_rng = pd.date_range('2021-01-01 00:00:00', freq='H', periods=12)\n",
    "print(f'hour date_range()：\\n{date_rng}')"
   ]
  },
  {
   "cell_type": "code",
   "execution_count": 32,
   "metadata": {},
   "outputs": [
    {
     "name": "stdout",
     "output_type": "stream",
     "text": [
      "hour period_range()：\n",
      "PeriodIndex(['2021-01-01 00:00', '2021-01-01 01:00', '2021-01-01 02:00',\n",
      "             '2021-01-01 03:00', '2021-01-01 04:00', '2021-01-01 05:00',\n",
      "             '2021-01-01 06:00', '2021-01-01 07:00', '2021-01-01 08:00',\n",
      "             '2021-01-01 09:00', '2021-01-01 10:00', '2021-01-01 11:00'],\n",
      "            dtype='period[H]', freq='H')\n"
     ]
    }
   ],
   "source": [
    "period_rng=pd.period_range('2021-01-01 00:00:00',freq='H',periods=12)\n",
    "print(f'hour period_range()：\\n{period_rng}')"
   ]
  },
  {
   "cell_type": "code",
   "execution_count": 35,
   "metadata": {},
   "outputs": [
    {
     "name": "stdout",
     "output_type": "stream",
     "text": [
      "5 days 00:50:20.010010010\n"
     ]
    }
   ],
   "source": [
    "print(pd.Timedelta(days=5, minutes=50, seconds=20, milliseconds=10, microseconds=10, nanoseconds=10))"
   ]
  },
  {
   "cell_type": "code",
   "execution_count": 45,
   "metadata": {},
   "outputs": [
    {
     "name": "stdout",
     "output_type": "stream",
     "text": [
      "当前时间是2021-04-22 12:59:58.061558, 50天后时间是2021-06-11 12:59:58.061558\n",
      "2021-06-11\n"
     ]
    },
    {
     "name": "stderr",
     "output_type": "stream",
     "text": [
      "<ipython-input-45-d7f8c2a0ea57>:1: FutureWarning: The pandas.datetime class is deprecated and will be removed from pandas in a future version. Import from datetime module instead.\n",
      "  now=pd.datetime.now()\n"
     ]
    }
   ],
   "source": [
    "now=pd.datetime.now()\n",
    "dt=now+pd.Timedelta(days=50)\n",
    "print(f'当前时间是{now}, 50天后时间是{dt}')\n",
    "#当前时间是2019-06-08 17:59:31.726065, 50天后时间是2019-07-28 17:59:31.726065\n",
    "#只显示年月日\n",
    "print(dt.strftime('%Y-%m-%d'))#2019-07-28"
   ]
  },
  {
   "cell_type": "code",
   "execution_count": 79,
   "metadata": {},
   "outputs": [
    {
     "name": "stdout",
     "output_type": "stream",
     "text": [
      "t1= 2019-01-10 00:00:00\n",
      "t2= 2018-12-10 00:00:00\n",
      "t1与t2时间间隔：31天\n"
     ]
    }
   ],
   "source": [
    "#定义timestamp\n",
    "t1=pd.Timestamp('2019-01-10')\n",
    "t2=pd.Timestamp('2018-12-10')\n",
    "print(f't1= {t1}')\n",
    "print(f't2= {t2}')\n",
    "print(f't1与t2时间间隔：{(t1-t2).days}天')"
   ]
  },
  {
   "cell_type": "code",
   "execution_count": 58,
   "metadata": {},
   "outputs": [
    {
     "name": "stdout",
     "output_type": "stream",
     "text": [
      "pd.Period()：2019\n",
      "2019和2018间隔<YearEnd: month=12>年\n",
      "2019-12-31 23:59:59.999999999\n",
      "2019-01-01 00:00:00\n"
     ]
    }
   ],
   "source": [
    "per=pd.Period('2019')\n",
    "print(f'pd.Period()：{per}')\n",
    "# pd.Period()：2019\n",
    "per_del=pd.Period('2019')-pd.Period('2018')\n",
    "print(f'2019和2018间隔{per_del}年')#可以直接+、-整数（代表年）\n",
    "#2019和2018间隔1年\n",
    "\n",
    "#时期转换为时间戳\n",
    "print(per.to_timestamp(how='end'))#2019-12-31 00:00:00\n",
    "print(per.to_timestamp(how='start'))#2019-01-01 00:00:00"
   ]
  },
  {
   "cell_type": "code",
   "execution_count": 60,
   "metadata": {},
   "outputs": [
    {
     "name": "stdout",
     "output_type": "stream",
     "text": [
      "PeriodIndex(['2018Q1', '2018Q1', '2018Q1', '2018Q1', '2018Q1', '2018Q1',\n",
      "             '2018Q1', '2018Q1', '2018Q1', '2018Q1', '2018Q1', '2018Q1',\n",
      "             '2018Q1', '2018Q1', '2018Q1', '2018Q1', '2018Q1', '2018Q1',\n",
      "             '2018Q1', '2018Q1'],\n",
      "            dtype='period[Q-DEC]', freq='Q-DEC')\n"
     ]
    }
   ],
   "source": [
    "date=pd.date_range('1/1/2018', periods=20, freq='D')\n",
    "tsdat_series=pd.Series(range(20),index=date)\n",
    "tsp_series=tsdat_series.to_period('D')\n",
    "print(tsp_series.index.asfreq('Q'))"
   ]
  },
  {
   "cell_type": "code",
   "execution_count": 54,
   "metadata": {},
   "outputs": [
    {
     "name": "stdout",
     "output_type": "stream",
     "text": [
      "PeriodIndex(['2018Q1', '2018Q1', '2018Q1', '2018Q2', '2018Q2', '2018Q2',\n",
      "             '2018Q3', '2018Q3', '2018Q3', '2018Q4', '2018Q4', '2018Q4',\n",
      "             '2019Q1', '2019Q1', '2019Q1', '2019Q2', '2019Q2', '2019Q2',\n",
      "             '2019Q3', '2019Q3'],\n",
      "            dtype='period[Q-DEC]', freq='Q-DEC')\n"
     ]
    }
   ],
   "source": [
    "date=pd.date_range('1/1/2018', periods=20, freq='M')\n",
    "tsdat_series=pd.Series(range(20),index=date)\n",
    "tsp_series=tsdat_series.to_period('M')\n",
    "print(tsp_series.index.asfreq('Q'))"
   ]
  },
  {
   "cell_type": "code",
   "execution_count": 55,
   "metadata": {},
   "outputs": [
    {
     "name": "stdout",
     "output_type": "stream",
     "text": [
      "PeriodIndex(['2018Q1', '2018Q1', '2018Q1', '2018Q1', '2018Q1', '2018Q1',\n",
      "             '2018Q1', '2018Q1', '2018Q1', '2018Q1', '2018Q1', '2018Q1',\n",
      "             '2018Q1', '2018Q1', '2018Q1', '2018Q1', '2018Q1', '2018Q1',\n",
      "             '2018Q1', '2018Q1'],\n",
      "            dtype='period[Q-DEC]', freq='Q-DEC')\n"
     ]
    }
   ],
   "source": [
    "date=pd.period_range('1/1/2018', periods=20, freq='D')\n",
    "tsper_series=pd.Series(range(20),index=date)\n",
    "print(tsper_series.index.asfreq('Q'))"
   ]
  }
 ],
 "metadata": {
  "kernelspec": {
   "display_name": "Python 3",
   "language": "python",
   "name": "python3"
  },
  "language_info": {
   "codemirror_mode": {
    "name": "ipython",
    "version": 3
   },
   "file_extension": ".py",
   "mimetype": "text/x-python",
   "name": "python",
   "nbconvert_exporter": "python",
   "pygments_lexer": "ipython3",
   "version": "3.8.5"
  }
 },
 "nbformat": 4,
 "nbformat_minor": 4
}
