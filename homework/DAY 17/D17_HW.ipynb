{
 "cells": [
  {
   "cell_type": "markdown",
   "metadata": {},
   "source": [
    "# 題目:\n",
    "\n",
    "1.在速度較慢的時候，可以先從哪邊開始檢查？\n",
    "\n",
    "2.資料過大時應採取什麼方式讓記憶體占用量下降？\n"
   ]
  },
  {
   "cell_type": "markdown",
   "metadata": {},
   "source": [
    "Ans:\n",
    "\n",
    "1.)欄位的型態降級有助於減少記憶體佔用空間(例如:整數型態int改成uint、浮點數型態float64改成float32)\n",
    "\n",
    "2.)儘量使用Python的內建函式，能夠提高執行效率(例如:使用agg和transform進行操作)\n",
    "\n",
    "3.)向量化的資料處理方式(例如:採用isin() 篩選出對應資料)\n",
    "\n",
    "\n"
   ]
  }
 ],
 "metadata": {
  "kernelspec": {
   "display_name": "Python 3",
   "language": "python",
   "name": "python3"
  },
  "language_info": {
   "codemirror_mode": {
    "name": "ipython",
    "version": 3
   },
   "file_extension": ".py",
   "mimetype": "text/x-python",
   "name": "python",
   "nbconvert_exporter": "python",
   "pygments_lexer": "ipython3",
   "version": "3.8.3"
  }
 },
 "nbformat": 4,
 "nbformat_minor": 4
}
