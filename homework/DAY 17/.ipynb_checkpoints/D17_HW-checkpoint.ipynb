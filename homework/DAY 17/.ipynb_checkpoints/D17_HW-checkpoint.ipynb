{
 "cells": [
  {
   "cell_type": "markdown",
   "metadata": {
    "id": "b0CqLhJh2s7b"
   },
   "source": [
    "作業目標:<br>\n",
    "1. 熟悉時間序列資料運算\n",
    "2. 敘述統計量應用在時間序列資料上\n",
    "\n"
   ]
  },
  {
   "cell_type": "markdown",
   "metadata": {
    "id": "RVN7uazcbsex"
   },
   "source": [
    "作業重點:<br>\n",
    "1. 須注意時間的間隔問題，例如:一周、一年...\n",
    "2. 敘述統計量一樣可以應用在時間序列資料上"
   ]
  },
  {
   "cell_type": "markdown",
   "metadata": {
    "id": "xiYCa02a2vRm"
   },
   "source": [
    "題目 : 運下列時間序列資料做運算<br>\n",
    "\n",
    "\n",
    "```\n",
    "index = pd.date_range(\"1/1/2019\", periods=20, freq='D')\n",
    "series = pd.Series(range(20), index=index)\n",
    "```\n",
    "\n",
    "\n",
    "1. 將所有轉為周資料\n",
    "2. 將周資料的值取平均"
   ]
  },
  {
   "cell_type": "code",
   "execution_count": 1,
   "metadata": {
    "colab": {
     "base_uri": "https://localhost:8080/"
    },
    "executionInfo": {
     "elapsed": 835,
     "status": "ok",
     "timestamp": 1608480673166,
     "user": {
      "displayName": "献竤黃",
      "photoUrl": "",
      "userId": "07529243043474362942"
     },
     "user_tz": -480
    },
    "id": "1MMZgjdd2un2",
    "outputId": "ad3a2361-9c71-47af-bef2-ffc0b810aa2d"
   },
   "outputs": [
    {
     "data": {
      "text/plain": [
       "2019-01-01     0\n",
       "2019-01-02     1\n",
       "2019-01-03     2\n",
       "2019-01-04     3\n",
       "2019-01-05     4\n",
       "2019-01-06     5\n",
       "2019-01-07     6\n",
       "2019-01-08     7\n",
       "2019-01-09     8\n",
       "2019-01-10     9\n",
       "2019-01-11    10\n",
       "2019-01-12    11\n",
       "2019-01-13    12\n",
       "2019-01-14    13\n",
       "2019-01-15    14\n",
       "2019-01-16    15\n",
       "2019-01-17    16\n",
       "2019-01-18    17\n",
       "2019-01-19    18\n",
       "2019-01-20    19\n",
       "Freq: D, dtype: int64"
      ]
     },
     "execution_count": 1,
     "metadata": {},
     "output_type": "execute_result"
    }
   ],
   "source": [
    "import numpy as np\n",
    "import pandas as pd\n",
    "\n",
    "index = pd.date_range('1/1/2019', periods=20, freq='D')\n",
    "series = pd.Series(range(20), index=index)\n",
    "\n",
    "#https://pandas.pydata.org/pandas-docs/stable/reference/api/pandas.date_range.html\n",
    "\n",
    "series"
   ]
  },
  {
   "cell_type": "code",
   "execution_count": 2,
   "metadata": {
    "colab": {
     "base_uri": "https://localhost:8080/"
    },
    "executionInfo": {
     "elapsed": 733,
     "status": "ok",
     "timestamp": 1608480678121,
     "user": {
      "displayName": "献竤黃",
      "photoUrl": "",
      "userId": "07529243043474362942"
     },
     "user_tz": -480
    },
    "id": "tSR16Mk06ciP",
    "outputId": "821ccd88-172e-4e27-8479-d767be484358"
   },
   "outputs": [
    {
     "data": {
      "text/plain": [
       "2018-12-31/2019-01-06     0\n",
       "2018-12-31/2019-01-06     1\n",
       "2018-12-31/2019-01-06     2\n",
       "2018-12-31/2019-01-06     3\n",
       "2018-12-31/2019-01-06     4\n",
       "2018-12-31/2019-01-06     5\n",
       "2019-01-07/2019-01-13     6\n",
       "2019-01-07/2019-01-13     7\n",
       "2019-01-07/2019-01-13     8\n",
       "2019-01-07/2019-01-13     9\n",
       "2019-01-07/2019-01-13    10\n",
       "2019-01-07/2019-01-13    11\n",
       "2019-01-07/2019-01-13    12\n",
       "2019-01-14/2019-01-20    13\n",
       "2019-01-14/2019-01-20    14\n",
       "2019-01-14/2019-01-20    15\n",
       "2019-01-14/2019-01-20    16\n",
       "2019-01-14/2019-01-20    17\n",
       "2019-01-14/2019-01-20    18\n",
       "2019-01-14/2019-01-20    19\n",
       "Freq: W-SUN, dtype: int64"
      ]
     },
     "execution_count": 2,
     "metadata": {},
     "output_type": "execute_result"
    }
   ],
   "source": [
    "#1. 將所有轉為周資料\n",
    "series.to_period('W')"
   ]
  },
  {
   "cell_type": "code",
   "execution_count": 3,
   "metadata": {
    "colab": {
     "base_uri": "https://localhost:8080/"
    },
    "executionInfo": {
     "elapsed": 831,
     "status": "ok",
     "timestamp": 1608480831150,
     "user": {
      "displayName": "献竤黃",
      "photoUrl": "",
      "userId": "07529243043474362942"
     },
     "user_tz": -480
    },
    "id": "9hQbh1yU5ZRf",
    "outputId": "3ea574e2-ee45-4fbd-f228-33d4bfa87726"
   },
   "outputs": [
    {
     "data": {
      "text/plain": [
       "2019-01-06     2.5\n",
       "2019-01-13     9.0\n",
       "2019-01-20    16.0\n",
       "Freq: W-SUN, dtype: float64"
      ]
     },
     "execution_count": 3,
     "metadata": {},
     "output_type": "execute_result"
    }
   ],
   "source": [
    "#2. 將周資料的值取平均\n",
    "series.resample('W').mean()"
   ]
  }
 ],
 "metadata": {
  "colab": {
   "authorship_tag": "ABX9TyMV9tCi27iZ1OmLls/etBoe",
   "collapsed_sections": [],
   "name": "作業.ipynb",
   "provenance": []
  },
  "kernelspec": {
   "display_name": "Python 3",
   "language": "python",
   "name": "python3"
  },
  "language_info": {
   "codemirror_mode": {
    "name": "ipython",
    "version": 3
   },
   "file_extension": ".py",
   "mimetype": "text/x-python",
   "name": "python",
   "nbconvert_exporter": "python",
   "pygments_lexer": "ipython3",
   "version": "3.8.3"
  }
 },
 "nbformat": 4,
 "nbformat_minor": 1
}
