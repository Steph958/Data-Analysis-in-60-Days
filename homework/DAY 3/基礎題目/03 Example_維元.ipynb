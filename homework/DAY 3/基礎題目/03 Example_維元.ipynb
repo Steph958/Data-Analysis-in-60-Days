{
 "cells": [
  {
   "cell_type": "markdown",
   "metadata": {
    "id": "XZ5H6uQv1Oo3"
   },
   "source": [
    "# 範例\n",
    "***"
   ]
  },
  {
   "cell_type": "markdown",
   "metadata": {
    "id": "O9XVaI1E1OpA"
   },
   "source": [
    "# [教學目標]\n",
    "\n",
    "* 能夠使用不同的方法初始化一個陣列\n",
    "* 知道固定大小對於陣列的意義\n",
    "* 了解不同的亂數陣列有什麼差異\n",
    "\n"
   ]
  },
  {
   "cell_type": "code",
   "execution_count": null,
   "metadata": {
    "id": "Z6Hj66lj1OpB",
    "outputId": "d5f18872-c671-43cb-a586-e216ca651d40"
   },
   "outputs": [
    {
     "name": "stdout",
     "output_type": "stream",
     "text": [
      "<module 'numpy' from '/Users/wei/.virtualenvs/py3/lib/python3.6/site-packages/numpy/__init__.py'>\n",
      "1.16.1\n"
     ]
    }
   ],
   "source": [
    "# 載入 NumPy 套件\n",
    "import numpy as np\n",
    "\n",
    "# 檢查正確載入與版本\n",
    "print(np)\n",
    "print(np.__version__)"
   ]
  },
  {
   "cell_type": "code",
   "execution_count": null,
   "metadata": {
    "id": "77SyjUq01OpD",
    "outputId": "213fca59-8031-4c2f-e9aa-a5c21a69c950"
   },
   "outputs": [
    {
     "data": {
      "text/plain": [
       "array([1, 2, 3])"
      ]
     },
     "execution_count": 2,
     "metadata": {
      "tags": []
     },
     "output_type": "execute_result"
    }
   ],
   "source": [
    "# 內建型態做轉換\n",
    "\n",
    "import numpy as np\n",
    "\n",
    "np.array([1, 2, 3])"
   ]
  },
  {
   "cell_type": "code",
   "execution_count": null,
   "metadata": {
    "id": "CAVhCEsw1OpE",
    "outputId": "916cef03-6066-4d18-afb2-8e683b80ff13"
   },
   "outputs": [
    {
     "name": "stdout",
     "output_type": "stream",
     "text": [
      "[1. 2. 3.] float64\n",
      "[1.+0.j 2.+0.j 3.+0.j] complex128\n"
     ]
    }
   ],
   "source": [
    "# 會自動轉換成範圍比較大的型態：\n",
    "\n",
    "print(np.array([1, 2, 3.0]), np.array([1, 2, 3.0]).dtype)\n",
    "\n",
    "# 也可以指定成想要的型態：\n",
    "\n",
    "print(np.array([1, 2, 3], dtype=complex), np.array([1, 2, 3], dtype=complex).dtype)"
   ]
  },
  {
   "cell_type": "code",
   "execution_count": null,
   "metadata": {
    "id": "qGssWBdQ1OpE",
    "outputId": "4be02555-56ad-474d-ed02-ae3aa624ae78"
   },
   "outputs": [
    {
     "name": "stdout",
     "output_type": "stream",
     "text": [
      "{0: 123, 1: 456}\n",
      "1\n",
      "[[  0 123]\n",
      " [  1 456]]\n",
      "4\n"
     ]
    }
   ],
   "source": [
    "# 字典型態被轉成陣列不符合期待\n",
    "\n",
    "print(np.array({0: 123, 1: 456}))\n",
    "print(np.array({0: 123, 1: 456}).size)\n",
    "\n",
    "# 正確的寫法應該寫轉成有序的 List 再作轉換\n",
    "\n",
    "print(np.array(list({0: 123, 1: 456}.items())))\n",
    "print(np.array(list({0: 123, 1: 456}.items())).size)"
   ]
  },
  {
   "cell_type": "code",
   "execution_count": null,
   "metadata": {
    "id": "fAYl6c3o1OpE",
    "outputId": "3b2ed56b-7a05-4856-ef75-cdb3750d5fc5"
   },
   "outputs": [
    {
     "name": "stdout",
     "output_type": "stream",
     "text": [
      "[[0. 0. 0.]\n",
      " [0. 0. 0.]]\n",
      "[[1. 1. 1.]\n",
      " [1. 1. 1.]]\n",
      "[[9 9 9]\n",
      " [9 9 9]]\n"
     ]
    }
   ],
   "source": [
    "# 從固定大小的初始值開始\n",
    "\n",
    "print(np.zeros((2, 3)))\n",
    "print(np.ones((2, 3)))\n",
    "print(np.full((2, 3), 9))\n"
   ]
  },
  {
   "cell_type": "code",
   "execution_count": null,
   "metadata": {
    "id": "YdUe_4e51OpF",
    "outputId": "52c071cf-46eb-4b35-9cb5-6d010f7bf6f5"
   },
   "outputs": [
    {
     "name": "stdout",
     "output_type": "stream",
     "text": [
      "[[0. 0. 0.]\n",
      " [0. 0. 0.]]\n",
      "[[0. 0. 0.]\n",
      " [0. 0. 0.]]\n"
     ]
    }
   ],
   "source": [
    "# np.zeros 和 np.empty \n",
    "\n",
    "print(np.zeros((2, 3)))\n",
    "print(np.empty((2, 3)))\n"
   ]
  },
  {
   "cell_type": "code",
   "execution_count": null,
   "metadata": {
    "id": "oYx_QqYi1OpG",
    "outputId": "275964be-4c8b-41d8-b052-3d2d69adf4b5"
   },
   "outputs": [
    {
     "name": "stdout",
     "output_type": "stream",
     "text": [
      "[10 15 20 25]\n",
      "[0. 1. 2.]\n",
      "[  1.  10. 100.]\n"
     ]
    }
   ],
   "source": [
    "# 從固定大小的序列值開始\n",
    "\n",
    "print(np.arange( 10, 30, 5 ))\n",
    "print(np.linspace( 0, 2, 3 ))\n",
    "print(np.logspace( 0, 2, 3 ))\n"
   ]
  },
  {
   "cell_type": "code",
   "execution_count": null,
   "metadata": {
    "id": "pX77QLqn1OpG",
    "outputId": "7047e4a8-b304-47c8-a0f2-ec05090af392"
   },
   "outputs": [
    {
     "name": "stdout",
     "output_type": "stream",
     "text": [
      "[[-0.24474896 -1.33770124 -0.10670728]\n",
      " [ 1.04809472 -1.48783473 -2.59464583]]\n",
      "[[0.11597017 0.69626   ]\n",
      " [0.19672026 0.90570296]\n",
      " [0.38300972 0.37025436]]\n",
      "[[0 8]\n",
      " [7 6]\n",
      " [7 3]]\n"
     ]
    }
   ],
   "source": [
    "## 從固定大小的亂數值開始（新版）\n",
    "\n",
    "from numpy.random import default_rng\n",
    "rng = default_rng()\n",
    "\n",
    "normal = rng.standard_normal((3,2)) #常態分布\n",
    "random = rng.random((3,2)) #0~1之間的亂數\n",
    "integers = rng.integers(0, 10, size=(3,2))\n",
    "\n",
    "print(normal)\n",
    "print(random)\n",
    "print(integers)"
   ]
  },
  {
   "cell_type": "code",
   "execution_count": null,
   "metadata": {
    "id": "ReTrub901OpH",
    "outputId": "7a10f7b7-5080-4732-f598-0ee70fb21a9d"
   },
   "outputs": [
    {
     "name": "stdout",
     "output_type": "stream",
     "text": [
      "[[-0.85696769 -0.03929064 -0.43855898]\n",
      " [ 0.77037149 -0.51963871 -0.25234342]]\n",
      "[[0.05117243 0.44764696]\n",
      " [0.35231559 0.60465553]\n",
      " [0.38218634 0.72874085]]\n",
      "[[7 2]\n",
      " [2 9]\n",
      " [5 5]]\n"
     ]
    }
   ],
   "source": [
    "## 從固定大小的亂數值開始（舊版）\n",
    "\n",
    "normal = np.random.randn(2, 3)\n",
    "random = np.random.random((3,2))\n",
    "integers = np.random.randint(0, 10, size=(3,2))\n",
    "\n",
    "print(normal)\n",
    "print(random)\n",
    "print(integers)"
   ]
  },
  {
   "cell_type": "code",
   "execution_count": null,
   "metadata": {
    "id": "LOe1HrKf1OpH"
   },
   "outputs": [],
   "source": []
  },
  {
   "cell_type": "code",
   "execution_count": null,
   "metadata": {
    "id": "7_VHGN_r1OpH"
   },
   "outputs": [],
   "source": []
  }
 ],
 "metadata": {
  "colab": {
   "name": "03 Example_維元.ipynb",
   "provenance": []
  },
  "kernelspec": {
   "display_name": "Python 3",
   "language": "python",
   "name": "python3"
  },
  "language_info": {
   "codemirror_mode": {
    "name": "ipython",
    "version": 3
   },
   "file_extension": ".py",
   "mimetype": "text/x-python",
   "name": "python",
   "nbconvert_exporter": "python",
   "pygments_lexer": "ipython3",
   "version": "3.8.3"
  }
 },
 "nbformat": 4,
 "nbformat_minor": 1
}
