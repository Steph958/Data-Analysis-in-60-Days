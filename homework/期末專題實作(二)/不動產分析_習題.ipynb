{
 "cells": [
  {
   "cell_type": "markdown",
   "metadata": {
    "id": "ecrVHDiuAto7"
   },
   "source": [
    "哈摟，各位資料科學家大家好，我是來自於台北市\"頭期款不足\"的阿宏，我想買房子很久了，但是不知道要買哪個地方，想先從內政部不動產交易時價登入資料中先了解行情，我現在手邊蒐集了台北市Taipei(A_lvr_land_A.csv)、新北市New_Taipei(F_lvr_land_A.csv)、台中市Taichung(B_lvr_land_A.csv)、高雄市Kaohsiung(E_lvr_land_A.csv)共四份資料，請各位資料科學家幫幫忙分析了。"
   ]
  },
  {
   "cell_type": "markdown",
   "metadata": {
    "id": "9_PILIgwAtpW"
   },
   "source": [
    "# 1.不動產資料檔案讀取並串接"
   ]
  },
  {
   "cell_type": "markdown",
   "metadata": {
    "id": "54hz4CgWAtpX"
   },
   "source": [
    "資料分散在4個資料，先合併成一個資料方便後續分析，但是我發現有英文欄位跟中文欄位，留下中文刪除英文，並加入新的欄位用以分辨台北市Taipei、新北市New_Taipei、台中市Taichung、高雄市Kaohsiung"
   ]
  },
  {
   "cell_type": "markdown",
   "metadata": {
    "id": "UAgGy_owAtpY"
   },
   "source": [
    "1. 利用Pandas中的pd.read_csv()分別讀取A_lvr_land_A.csv、B_lvr_land_A.csv、E_lvr_land_A.csv、F_lvr_land_A.csv\n",
    "2. 刪除csv中第二列英文翻譯，The villages and towns urban district,transaction sign,land sector position building sector house number plate,land shifting total area square meter,....\n",
    "3. 生成city欄位其中以地區分類台北市Taipei(A_lvr_land_A.csv)、新北市New_Taipei(F_lvr_land_A.csv)、台中市Taichung(B_lvr_land_A.csv)、高雄市Kaohsiung(E_lvr_land_A.csv)\n",
    "4. 將以上四份資料運用pd.concat()串接"
   ]
  },
  {
   "cell_type": "code",
   "execution_count": 28,
   "metadata": {
    "id": "AtdUcGYAAtpY"
   },
   "outputs": [],
   "source": [
    "import pandas as pd "
   ]
  },
  {
   "cell_type": "code",
   "execution_count": 29,
   "metadata": {
    "id": "qaBwVWbkAtpZ"
   },
   "outputs": [
    {
     "name": "stderr",
     "output_type": "stream",
     "text": [
      "C:\\Users\\vincentLee1231995\\Anaconda3\\lib\\site-packages\\IPython\\core\\interactiveshell.py:3071: DtypeWarning: Columns (3,7,14,15,16,17,18,21,22,24,25) have mixed types.Specify dtype option on import or set low_memory=False.\n",
      "  has_raised = await self.run_ast_nodes(code_ast.body, cell_name,\n"
     ]
    }
   ],
   "source": [
    "#1.利用Pandas中的pd.read_csv()分別讀取A_lvr_land_A.csv、B_lvr_land_A.csv、E_lvr_land_A.csv、F_lvr_land_A.csv\n",
    "data_AA = pd.read_csv('./A_lvr_land_A.csv')\n",
    "data_BA = pd.read_csv('./B_lvr_land_A.csv')\n",
    "data_EA = pd.read_csv('./E_lvr_land_A.csv')\n",
    "data_FA = pd.read_csv('./F_lvr_land_A.csv')"
   ]
  },
  {
   "cell_type": "code",
   "execution_count": 30,
   "metadata": {},
   "outputs": [],
   "source": [
    "#data_AA.info()"
   ]
  },
  {
   "cell_type": "code",
   "execution_count": 31,
   "metadata": {},
   "outputs": [],
   "source": [
    "#data_BA.info()"
   ]
  },
  {
   "cell_type": "code",
   "execution_count": 32,
   "metadata": {},
   "outputs": [],
   "source": [
    "#data_EA.info()"
   ]
  },
  {
   "cell_type": "code",
   "execution_count": 33,
   "metadata": {},
   "outputs": [],
   "source": [
    "#data_FA.info()"
   ]
  },
  {
   "cell_type": "code",
   "execution_count": 34,
   "metadata": {},
   "outputs": [
    {
     "name": "stdout",
     "output_type": "stream",
     "text": [
      "8842\n",
      "16685\n",
      "14134\n",
      "19819\n"
     ]
    }
   ],
   "source": [
    "print(len(data_AA))\n",
    "print(len(data_BA))\n",
    "print(len(data_EA))\n",
    "print(len(data_FA))"
   ]
  },
  {
   "cell_type": "code",
   "execution_count": 35,
   "metadata": {
    "id": "ulv52OOeAtpZ"
   },
   "outputs": [
    {
     "name": "stdout",
     "output_type": "stream",
     "text": [
      "8841\n",
      "16684\n",
      "14133\n",
      "19818\n"
     ]
    }
   ],
   "source": [
    "#2.刪除csv中第二列英文翻譯，The villages and towns urban district,transaction sign,land sector position building sector house number plate,land shifting total area square meter,....\n",
    "data_AA = data_AA.iloc[1:]\n",
    "data_BA = data_BA.iloc[1:]\n",
    "data_EA = data_EA.iloc[1:]\n",
    "data_FA = data_FA.iloc[1:]\n",
    "\n",
    "print(len(data_AA))\n",
    "print(len(data_BA))\n",
    "print(len(data_EA))\n",
    "print(len(data_FA))"
   ]
  },
  {
   "cell_type": "code",
   "execution_count": 37,
   "metadata": {},
   "outputs": [],
   "source": [
    "#8841+16684+14133+19818 = 59476"
   ]
  },
  {
   "cell_type": "code",
   "execution_count": 38,
   "metadata": {},
   "outputs": [],
   "source": [
    "#data_AA.info()"
   ]
  },
  {
   "cell_type": "code",
   "execution_count": 39,
   "metadata": {},
   "outputs": [
    {
     "data": {
      "text/html": [
       "<div>\n",
       "<style scoped>\n",
       "    .dataframe tbody tr th:only-of-type {\n",
       "        vertical-align: middle;\n",
       "    }\n",
       "\n",
       "    .dataframe tbody tr th {\n",
       "        vertical-align: top;\n",
       "    }\n",
       "\n",
       "    .dataframe thead th {\n",
       "        text-align: right;\n",
       "    }\n",
       "</style>\n",
       "<table border=\"1\" class=\"dataframe\">\n",
       "  <thead>\n",
       "    <tr style=\"text-align: right;\">\n",
       "      <th></th>\n",
       "      <th>鄉鎮市區</th>\n",
       "      <th>交易標的</th>\n",
       "      <th>土地區段位置建物區段門牌</th>\n",
       "      <th>土地移轉總面積平方公尺</th>\n",
       "      <th>都市土地使用分區</th>\n",
       "      <th>非都市土地使用分區</th>\n",
       "      <th>非都市土地使用編定</th>\n",
       "      <th>交易年月日</th>\n",
       "      <th>交易筆棟數</th>\n",
       "      <th>移轉層次</th>\n",
       "      <th>...</th>\n",
       "      <th>單價元平方公尺</th>\n",
       "      <th>車位類別</th>\n",
       "      <th>車位移轉總面積(平方公尺)</th>\n",
       "      <th>車位總價元</th>\n",
       "      <th>備註</th>\n",
       "      <th>編號</th>\n",
       "      <th>主建物面積</th>\n",
       "      <th>附屬建物面積</th>\n",
       "      <th>陽台面積</th>\n",
       "      <th>電梯</th>\n",
       "    </tr>\n",
       "  </thead>\n",
       "  <tbody>\n",
       "    <tr>\n",
       "      <th>1</th>\n",
       "      <td>文山區</td>\n",
       "      <td>房地(土地+建物)+車位</td>\n",
       "      <td>臺北市文山區忠順街二段85巷1~30號</td>\n",
       "      <td>26.97</td>\n",
       "      <td>住</td>\n",
       "      <td>NaN</td>\n",
       "      <td>NaN</td>\n",
       "      <td>1090406</td>\n",
       "      <td>土地1建物1車位2</td>\n",
       "      <td>四層</td>\n",
       "      <td>...</td>\n",
       "      <td>156583</td>\n",
       "      <td>坡道平面</td>\n",
       "      <td>40.7</td>\n",
       "      <td>0</td>\n",
       "      <td>含增建或未登記建物。;內含獨立產權車位，未包含在棟數內。</td>\n",
       "      <td>RPVOMLMKNHPFFAA18CA</td>\n",
       "      <td>110.91</td>\n",
       "      <td>9.63</td>\n",
       "      <td>11.09</td>\n",
       "      <td>NaN</td>\n",
       "    </tr>\n",
       "    <tr>\n",
       "      <th>2</th>\n",
       "      <td>文山區</td>\n",
       "      <td>房地(土地+建物)</td>\n",
       "      <td>臺北市文山區福興路91~120號</td>\n",
       "      <td>10.32</td>\n",
       "      <td>住</td>\n",
       "      <td>NaN</td>\n",
       "      <td>NaN</td>\n",
       "      <td>1090317</td>\n",
       "      <td>土地1建物1車位0</td>\n",
       "      <td>三層</td>\n",
       "      <td>...</td>\n",
       "      <td>149558</td>\n",
       "      <td>NaN</td>\n",
       "      <td>0.0</td>\n",
       "      <td>0</td>\n",
       "      <td>含增建或未登記建物。;</td>\n",
       "      <td>RPPPMLMKNHPFFAA67CA</td>\n",
       "      <td>24.58</td>\n",
       "      <td>1.28</td>\n",
       "      <td>2.30</td>\n",
       "      <td>NaN</td>\n",
       "    </tr>\n",
       "    <tr>\n",
       "      <th>3</th>\n",
       "      <td>文山區</td>\n",
       "      <td>房地(土地+建物)</td>\n",
       "      <td>臺北市文山區木柵路四段121~150號</td>\n",
       "      <td>39.64</td>\n",
       "      <td>其他</td>\n",
       "      <td>NaN</td>\n",
       "      <td>NaN</td>\n",
       "      <td>1090418</td>\n",
       "      <td>土地2建物1車位0</td>\n",
       "      <td>六層</td>\n",
       "      <td>...</td>\n",
       "      <td>181472</td>\n",
       "      <td>NaN</td>\n",
       "      <td>0.0</td>\n",
       "      <td>0</td>\n",
       "      <td>NaN</td>\n",
       "      <td>RPSPMLMKNHPFFAA97CA</td>\n",
       "      <td>78.80</td>\n",
       "      <td>4.15</td>\n",
       "      <td>8.76</td>\n",
       "      <td>NaN</td>\n",
       "    </tr>\n",
       "    <tr>\n",
       "      <th>4</th>\n",
       "      <td>中正區</td>\n",
       "      <td>房地(土地+建物)</td>\n",
       "      <td>臺北市中正區和平西路一段31~60號</td>\n",
       "      <td>4.26</td>\n",
       "      <td>商</td>\n",
       "      <td>NaN</td>\n",
       "      <td>NaN</td>\n",
       "      <td>1090413</td>\n",
       "      <td>土地2建物1車位0</td>\n",
       "      <td>九層</td>\n",
       "      <td>...</td>\n",
       "      <td>299450</td>\n",
       "      <td>NaN</td>\n",
       "      <td>0.0</td>\n",
       "      <td>0</td>\n",
       "      <td>含增建或未登記建物。;</td>\n",
       "      <td>RPPOMLMKNHPFFAA57CA</td>\n",
       "      <td>18.34</td>\n",
       "      <td>0.00</td>\n",
       "      <td>6.45</td>\n",
       "      <td>NaN</td>\n",
       "    </tr>\n",
       "    <tr>\n",
       "      <th>5</th>\n",
       "      <td>文山區</td>\n",
       "      <td>房地(土地+建物)</td>\n",
       "      <td>臺北市文山區樟新街56巷1~30號</td>\n",
       "      <td>44.57</td>\n",
       "      <td>住</td>\n",
       "      <td>NaN</td>\n",
       "      <td>NaN</td>\n",
       "      <td>1090328</td>\n",
       "      <td>土地3建物1車位0</td>\n",
       "      <td>四層</td>\n",
       "      <td>...</td>\n",
       "      <td>147825</td>\n",
       "      <td>NaN</td>\n",
       "      <td>0.0</td>\n",
       "      <td>0</td>\n",
       "      <td>含增建或未登記建物。;</td>\n",
       "      <td>RPWNMLNKNHPFFAA28CA</td>\n",
       "      <td>98.74</td>\n",
       "      <td>2.26</td>\n",
       "      <td>11.84</td>\n",
       "      <td>NaN</td>\n",
       "    </tr>\n",
       "  </tbody>\n",
       "</table>\n",
       "<p>5 rows × 32 columns</p>\n",
       "</div>"
      ],
      "text/plain": [
       "  鄉鎮市區          交易標的         土地區段位置建物區段門牌 土地移轉總面積平方公尺 都市土地使用分區 非都市土地使用分區  \\\n",
       "1  文山區  房地(土地+建物)+車位  臺北市文山區忠順街二段85巷1~30號       26.97        住       NaN   \n",
       "2  文山區     房地(土地+建物)     臺北市文山區福興路91~120號       10.32        住       NaN   \n",
       "3  文山區     房地(土地+建物)  臺北市文山區木柵路四段121~150號       39.64       其他       NaN   \n",
       "4  中正區     房地(土地+建物)   臺北市中正區和平西路一段31~60號        4.26        商       NaN   \n",
       "5  文山區     房地(土地+建物)    臺北市文山區樟新街56巷1~30號       44.57        住       NaN   \n",
       "\n",
       "  非都市土地使用編定    交易年月日      交易筆棟數 移轉層次  ... 單價元平方公尺  車位類別 車位移轉總面積(平方公尺) 車位總價元  \\\n",
       "1       NaN  1090406  土地1建物1車位2   四層  ...  156583  坡道平面          40.7     0   \n",
       "2       NaN  1090317  土地1建物1車位0   三層  ...  149558   NaN           0.0     0   \n",
       "3       NaN  1090418  土地2建物1車位0   六層  ...  181472   NaN           0.0     0   \n",
       "4       NaN  1090413  土地2建物1車位0   九層  ...  299450   NaN           0.0     0   \n",
       "5       NaN  1090328  土地3建物1車位0   四層  ...  147825   NaN           0.0     0   \n",
       "\n",
       "                             備註                   編號   主建物面積 附屬建物面積   陽台面積  \\\n",
       "1  含增建或未登記建物。;內含獨立產權車位，未包含在棟數內。  RPVOMLMKNHPFFAA18CA  110.91   9.63  11.09   \n",
       "2                   含增建或未登記建物。;  RPPPMLMKNHPFFAA67CA   24.58   1.28   2.30   \n",
       "3                           NaN  RPSPMLMKNHPFFAA97CA   78.80   4.15   8.76   \n",
       "4                   含增建或未登記建物。;  RPPOMLMKNHPFFAA57CA   18.34   0.00   6.45   \n",
       "5                   含增建或未登記建物。;  RPWNMLNKNHPFFAA28CA   98.74   2.26  11.84   \n",
       "\n",
       "    電梯  \n",
       "1  NaN  \n",
       "2  NaN  \n",
       "3  NaN  \n",
       "4  NaN  \n",
       "5  NaN  \n",
       "\n",
       "[5 rows x 32 columns]"
      ]
     },
     "execution_count": 39,
     "metadata": {},
     "output_type": "execute_result"
    }
   ],
   "source": [
    "data_AA.head()"
   ]
  },
  {
   "cell_type": "code",
   "execution_count": 40,
   "metadata": {
    "id": "p7cqARS8Atpa"
   },
   "outputs": [],
   "source": [
    "#3. 生成city欄位其中以地區分類台北市Taipei(A_lvr_land_A.csv)、新北市New_Taipei(F_lvr_land_A.csv)、台中市Taichung(B_lvr_land_A.csv)、高雄市Kaohsiung(E_lvr_land_A.csv)\n",
    "data_AA['city'] = 'Taipei'\n",
    "data_BA['city'] = 'Taichung'\n",
    "data_EA['city'] = 'Kaohsiung'\n",
    "data_FA['city'] = 'New_Taipei'\n",
    "\n",
    "#另法\n",
    "# data_BA.loc[:,'city'] = 'New_Taipei'"
   ]
  },
  {
   "cell_type": "code",
   "execution_count": 41,
   "metadata": {
    "scrolled": false
   },
   "outputs": [
    {
     "data": {
      "text/html": [
       "<div>\n",
       "<style scoped>\n",
       "    .dataframe tbody tr th:only-of-type {\n",
       "        vertical-align: middle;\n",
       "    }\n",
       "\n",
       "    .dataframe tbody tr th {\n",
       "        vertical-align: top;\n",
       "    }\n",
       "\n",
       "    .dataframe thead th {\n",
       "        text-align: right;\n",
       "    }\n",
       "</style>\n",
       "<table border=\"1\" class=\"dataframe\">\n",
       "  <thead>\n",
       "    <tr style=\"text-align: right;\">\n",
       "      <th></th>\n",
       "      <th>鄉鎮市區</th>\n",
       "      <th>交易標的</th>\n",
       "      <th>土地區段位置建物區段門牌</th>\n",
       "      <th>土地移轉總面積平方公尺</th>\n",
       "      <th>都市土地使用分區</th>\n",
       "      <th>非都市土地使用分區</th>\n",
       "      <th>非都市土地使用編定</th>\n",
       "      <th>交易年月日</th>\n",
       "      <th>交易筆棟數</th>\n",
       "      <th>移轉層次</th>\n",
       "      <th>...</th>\n",
       "      <th>車位類別</th>\n",
       "      <th>車位移轉總面積(平方公尺)</th>\n",
       "      <th>車位總價元</th>\n",
       "      <th>備註</th>\n",
       "      <th>編號</th>\n",
       "      <th>主建物面積</th>\n",
       "      <th>附屬建物面積</th>\n",
       "      <th>陽台面積</th>\n",
       "      <th>電梯</th>\n",
       "      <th>city</th>\n",
       "    </tr>\n",
       "  </thead>\n",
       "  <tbody>\n",
       "    <tr>\n",
       "      <th>1</th>\n",
       "      <td>文山區</td>\n",
       "      <td>房地(土地+建物)+車位</td>\n",
       "      <td>臺北市文山區忠順街二段85巷1~30號</td>\n",
       "      <td>26.97</td>\n",
       "      <td>住</td>\n",
       "      <td>NaN</td>\n",
       "      <td>NaN</td>\n",
       "      <td>1090406</td>\n",
       "      <td>土地1建物1車位2</td>\n",
       "      <td>四層</td>\n",
       "      <td>...</td>\n",
       "      <td>坡道平面</td>\n",
       "      <td>40.7</td>\n",
       "      <td>0</td>\n",
       "      <td>含增建或未登記建物。;內含獨立產權車位，未包含在棟數內。</td>\n",
       "      <td>RPVOMLMKNHPFFAA18CA</td>\n",
       "      <td>110.91</td>\n",
       "      <td>9.63</td>\n",
       "      <td>11.09</td>\n",
       "      <td>NaN</td>\n",
       "      <td>Taipei</td>\n",
       "    </tr>\n",
       "    <tr>\n",
       "      <th>2</th>\n",
       "      <td>文山區</td>\n",
       "      <td>房地(土地+建物)</td>\n",
       "      <td>臺北市文山區福興路91~120號</td>\n",
       "      <td>10.32</td>\n",
       "      <td>住</td>\n",
       "      <td>NaN</td>\n",
       "      <td>NaN</td>\n",
       "      <td>1090317</td>\n",
       "      <td>土地1建物1車位0</td>\n",
       "      <td>三層</td>\n",
       "      <td>...</td>\n",
       "      <td>NaN</td>\n",
       "      <td>0.0</td>\n",
       "      <td>0</td>\n",
       "      <td>含增建或未登記建物。;</td>\n",
       "      <td>RPPPMLMKNHPFFAA67CA</td>\n",
       "      <td>24.58</td>\n",
       "      <td>1.28</td>\n",
       "      <td>2.30</td>\n",
       "      <td>NaN</td>\n",
       "      <td>Taipei</td>\n",
       "    </tr>\n",
       "    <tr>\n",
       "      <th>3</th>\n",
       "      <td>文山區</td>\n",
       "      <td>房地(土地+建物)</td>\n",
       "      <td>臺北市文山區木柵路四段121~150號</td>\n",
       "      <td>39.64</td>\n",
       "      <td>其他</td>\n",
       "      <td>NaN</td>\n",
       "      <td>NaN</td>\n",
       "      <td>1090418</td>\n",
       "      <td>土地2建物1車位0</td>\n",
       "      <td>六層</td>\n",
       "      <td>...</td>\n",
       "      <td>NaN</td>\n",
       "      <td>0.0</td>\n",
       "      <td>0</td>\n",
       "      <td>NaN</td>\n",
       "      <td>RPSPMLMKNHPFFAA97CA</td>\n",
       "      <td>78.80</td>\n",
       "      <td>4.15</td>\n",
       "      <td>8.76</td>\n",
       "      <td>NaN</td>\n",
       "      <td>Taipei</td>\n",
       "    </tr>\n",
       "    <tr>\n",
       "      <th>4</th>\n",
       "      <td>中正區</td>\n",
       "      <td>房地(土地+建物)</td>\n",
       "      <td>臺北市中正區和平西路一段31~60號</td>\n",
       "      <td>4.26</td>\n",
       "      <td>商</td>\n",
       "      <td>NaN</td>\n",
       "      <td>NaN</td>\n",
       "      <td>1090413</td>\n",
       "      <td>土地2建物1車位0</td>\n",
       "      <td>九層</td>\n",
       "      <td>...</td>\n",
       "      <td>NaN</td>\n",
       "      <td>0.0</td>\n",
       "      <td>0</td>\n",
       "      <td>含增建或未登記建物。;</td>\n",
       "      <td>RPPOMLMKNHPFFAA57CA</td>\n",
       "      <td>18.34</td>\n",
       "      <td>0.00</td>\n",
       "      <td>6.45</td>\n",
       "      <td>NaN</td>\n",
       "      <td>Taipei</td>\n",
       "    </tr>\n",
       "    <tr>\n",
       "      <th>5</th>\n",
       "      <td>文山區</td>\n",
       "      <td>房地(土地+建物)</td>\n",
       "      <td>臺北市文山區樟新街56巷1~30號</td>\n",
       "      <td>44.57</td>\n",
       "      <td>住</td>\n",
       "      <td>NaN</td>\n",
       "      <td>NaN</td>\n",
       "      <td>1090328</td>\n",
       "      <td>土地3建物1車位0</td>\n",
       "      <td>四層</td>\n",
       "      <td>...</td>\n",
       "      <td>NaN</td>\n",
       "      <td>0.0</td>\n",
       "      <td>0</td>\n",
       "      <td>含增建或未登記建物。;</td>\n",
       "      <td>RPWNMLNKNHPFFAA28CA</td>\n",
       "      <td>98.74</td>\n",
       "      <td>2.26</td>\n",
       "      <td>11.84</td>\n",
       "      <td>NaN</td>\n",
       "      <td>Taipei</td>\n",
       "    </tr>\n",
       "  </tbody>\n",
       "</table>\n",
       "<p>5 rows × 33 columns</p>\n",
       "</div>"
      ],
      "text/plain": [
       "  鄉鎮市區          交易標的         土地區段位置建物區段門牌 土地移轉總面積平方公尺 都市土地使用分區 非都市土地使用分區  \\\n",
       "1  文山區  房地(土地+建物)+車位  臺北市文山區忠順街二段85巷1~30號       26.97        住       NaN   \n",
       "2  文山區     房地(土地+建物)     臺北市文山區福興路91~120號       10.32        住       NaN   \n",
       "3  文山區     房地(土地+建物)  臺北市文山區木柵路四段121~150號       39.64       其他       NaN   \n",
       "4  中正區     房地(土地+建物)   臺北市中正區和平西路一段31~60號        4.26        商       NaN   \n",
       "5  文山區     房地(土地+建物)    臺北市文山區樟新街56巷1~30號       44.57        住       NaN   \n",
       "\n",
       "  非都市土地使用編定    交易年月日      交易筆棟數 移轉層次  ...  車位類別 車位移轉總面積(平方公尺) 車位總價元  \\\n",
       "1       NaN  1090406  土地1建物1車位2   四層  ...  坡道平面          40.7     0   \n",
       "2       NaN  1090317  土地1建物1車位0   三層  ...   NaN           0.0     0   \n",
       "3       NaN  1090418  土地2建物1車位0   六層  ...   NaN           0.0     0   \n",
       "4       NaN  1090413  土地2建物1車位0   九層  ...   NaN           0.0     0   \n",
       "5       NaN  1090328  土地3建物1車位0   四層  ...   NaN           0.0     0   \n",
       "\n",
       "                             備註                   編號   主建物面積 附屬建物面積   陽台面積  \\\n",
       "1  含增建或未登記建物。;內含獨立產權車位，未包含在棟數內。  RPVOMLMKNHPFFAA18CA  110.91   9.63  11.09   \n",
       "2                   含增建或未登記建物。;  RPPPMLMKNHPFFAA67CA   24.58   1.28   2.30   \n",
       "3                           NaN  RPSPMLMKNHPFFAA97CA   78.80   4.15   8.76   \n",
       "4                   含增建或未登記建物。;  RPPOMLMKNHPFFAA57CA   18.34   0.00   6.45   \n",
       "5                   含增建或未登記建物。;  RPWNMLNKNHPFFAA28CA   98.74   2.26  11.84   \n",
       "\n",
       "    電梯    city  \n",
       "1  NaN  Taipei  \n",
       "2  NaN  Taipei  \n",
       "3  NaN  Taipei  \n",
       "4  NaN  Taipei  \n",
       "5  NaN  Taipei  \n",
       "\n",
       "[5 rows x 33 columns]"
      ]
     },
     "execution_count": 41,
     "metadata": {},
     "output_type": "execute_result"
    }
   ],
   "source": [
    "data_AA.head()"
   ]
  },
  {
   "cell_type": "code",
   "execution_count": 42,
   "metadata": {},
   "outputs": [
    {
     "name": "stdout",
     "output_type": "stream",
     "text": [
      "<class 'pandas.core.frame.DataFrame'>\n",
      "RangeIndex: 59476 entries, 0 to 59475\n",
      "Data columns (total 33 columns):\n",
      " #   Column         Non-Null Count  Dtype  \n",
      "---  ------         --------------  -----  \n",
      " 0   鄉鎮市區           59476 non-null  object \n",
      " 1   交易標的           59476 non-null  object \n",
      " 2   土地區段位置建物區段門牌   59476 non-null  object \n",
      " 3   土地移轉總面積平方公尺    59476 non-null  object \n",
      " 4   都市土地使用分區       54097 non-null  object \n",
      " 5   非都市土地使用分區      4306 non-null   object \n",
      " 6   非都市土地使用編定      4302 non-null   object \n",
      " 7   交易年月日          59476 non-null  object \n",
      " 8   交易筆棟數          59476 non-null  object \n",
      " 9   移轉層次           49724 non-null  object \n",
      " 10  總樓層數           49664 non-null  object \n",
      " 11  建物型態           59476 non-null  object \n",
      " 12  主要用途           47889 non-null  object \n",
      " 13  主要建材           49680 non-null  object \n",
      " 14  建築完成年月         48690 non-null  object \n",
      " 15  建物移轉總面積平方公尺    59476 non-null  object \n",
      " 16  建物現況格局-房       59476 non-null  object \n",
      " 17  建物現況格局-廳       59476 non-null  object \n",
      " 18  建物現況格局-衛       59476 non-null  object \n",
      " 19  建物現況格局-隔間      59476 non-null  object \n",
      " 20  有無管理組織         59476 non-null  object \n",
      " 21  總價元            59476 non-null  object \n",
      " 22  單價元平方公尺        58156 non-null  object \n",
      " 23  車位類別           23685 non-null  object \n",
      " 24  車位移轉總面積(平方公尺)  59476 non-null  object \n",
      " 25  車位總價元          59476 non-null  object \n",
      " 26  備註             24759 non-null  object \n",
      " 27  編號             59476 non-null  object \n",
      " 28  主建物面積          59476 non-null  float64\n",
      " 29  附屬建物面積         59476 non-null  float64\n",
      " 30  陽台面積           59476 non-null  float64\n",
      " 31  電梯             32944 non-null  object \n",
      " 32  city           59476 non-null  object \n",
      "dtypes: float64(3), object(30)\n",
      "memory usage: 15.0+ MB\n"
     ]
    }
   ],
   "source": [
    "#4. 將以上四份資料運用pd.concat()串接\n",
    "all_data = pd.concat([data_AA,data_BA,data_EA,data_FA],\n",
    "                     axis=0,\n",
    "                     ignore_index=True)\n",
    "\n",
    "all_data.info()\n",
    "\n",
    "# https://pandas.pydata.org/pandas-docs/stable/reference/api/pandas.concat.html"
   ]
  },
  {
   "cell_type": "markdown",
   "metadata": {
    "id": "vf6GM8Z_Atpb"
   },
   "source": [
    "# 2. 資料清理與切片"
   ]
  },
  {
   "cell_type": "markdown",
   "metadata": {
    "id": "QMPrmISNAtpb"
   },
   "source": [
    "因為我是想買來住的房子，所以幫忙刪除住宿用途以外的資料，並且限制\n",
    "1. 交易年月日，限制在109年\n",
    "2. 建物現況格局-房，1~5間 \n",
    "3. 建物現況格局-廳，1~2廳"
   ]
  },
  {
   "cell_type": "markdown",
   "metadata": {
    "id": "1C-ImCfTAtpc"
   },
   "source": [
    "以下columns_mapping、analysis_columns、columns_type提供給資料科學家配合使用\n",
    "1. 利用.rename()並配合以下columns_mapping，將原中文欄位名稱改為英文方便之後分析\n",
    "2. 取出主要用途(main_use)為'住家用'以及都市土地使用分區(use_zoning)為'住'的資料並針對以下欄位analysis_columns做分析並去除na值\n",
    "   (提示:先取完之後再.dropna())\n",
    "3. 觀察欄位資料型態，並利用.astype()搭配以下提供的columns_type做欄位型態轉換\n",
    "4. 做資料切片將<br>\n",
    "    新增欄位交易年月日(tx_dt_year)，從交易年月日(tx_dt)萃取出年份<br>\n",
    "    1.交易年月日(tx_dt_year)，限制在109年<br>\n",
    "    2.建物現況格局-房(room_number)，限制在1到5間<br>\n",
    "    3.建物現況格局-廳(hall_number)，限制在1到2廳<br>\n",
    "    4.最後運用.reset_index()重新定義索引"
   ]
  },
  {
   "cell_type": "code",
   "execution_count": 43,
   "metadata": {
    "id": "rBSElFmKAtpc"
   },
   "outputs": [],
   "source": [
    "columns_mapping = {'鄉鎮市區':'towns',\n",
    "'交易標的':'transaction_sign',\n",
    "'土地區段位置建物區段門牌':'house_number',\n",
    "'土地移轉總面積平方公尺':'land_area_square_meter', \n",
    "'都市土地使用分區':'use_zoning', \n",
    "'非都市土地使用分區':'land_use_district',\n",
    "'非都市土地使用編定':'land_use',\n",
    "'交易年月日':'tx_dt', \n",
    " '交易筆棟數':'transaction_pen_number', \n",
    " '移轉層次':'shifting_level', \n",
    " '總樓層數':'total_floor_number', \n",
    " '建物型態':'building_state', \n",
    " '主要用途':'main_use', \n",
    " '主要建材':'main_materials',\n",
    " '建築完成年月':'complete_date', \n",
    " '建物移轉總面積平方公尺':'building_area_square_meter', \n",
    " '建物現況格局-房':'room_number', \n",
    " '建物現況格局-廳':'hall_number', \n",
    " '建物現況格局-衛':'health_number', \n",
    "'建物現況格局-隔間':'compartmented_number', \n",
    " '有無管理組織':'manages', \n",
    " '總價元':'total_price', \n",
    " '單價元平方公尺':'unit_price', \n",
    " '車位類別':'berth_category', \n",
    " '車位移轉總面積(平方公尺)':'berth_area_square_meter',\n",
    "'車位總價元':'berth_price', \n",
    " '備註':'note', \n",
    " '編號':'serial_number', \n",
    " '主建物面積':'main_building_area', \n",
    " '附屬建物面積':'auxiliary_building_area', \n",
    " '陽台面積':'balcony_area', \n",
    " '電梯':'elevator'\n",
    "                  }\n",
    "analysis_columns = ['city','towns','main_use','use_zoning','total_price','building_area_square_meter',\n",
    "                                     'main_building_area',\n",
    "                                     'tx_dt','unit_price','room_number','hall_number','health_number']\n",
    "columns_type = {'total_price': 'int','unit_price':'float','building_area_square_meter':'float',\n",
    "                                      'main_building_area': 'float',\n",
    "                                      'room_number': 'int','hall_number': 'int','health_number': 'int'}"
   ]
  },
  {
   "cell_type": "code",
   "execution_count": 44,
   "metadata": {
    "id": "JFrw25keAtpe",
    "scrolled": true
   },
   "outputs": [
    {
     "data": {
      "text/plain": [
       "Index(['towns', 'transaction_sign', 'house_number', 'land_area_square_meter',\n",
       "       'use_zoning', 'land_use_district', 'land_use', 'tx_dt',\n",
       "       'transaction_pen_number', 'shifting_level', 'total_floor_number',\n",
       "       'building_state', 'main_use', 'main_materials', 'complete_date',\n",
       "       'building_area_square_meter', 'room_number', 'hall_number',\n",
       "       'health_number', 'compartmented_number', 'manages', 'total_price',\n",
       "       'unit_price', 'berth_category', 'berth_area_square_meter',\n",
       "       'berth_price', 'note', 'serial_number', 'main_building_area',\n",
       "       'auxiliary_building_area', 'balcony_area', 'elevator', 'city'],\n",
       "      dtype='object')"
      ]
     },
     "execution_count": 44,
     "metadata": {},
     "output_type": "execute_result"
    }
   ],
   "source": [
    "#1. 利用.rename()並配合以下columns_mapping，將原中文欄位名稱改為英文方便之後分析\n",
    "analysis_data = all_data.rename(columns = columns_mapping)\n",
    "#data.head()\n",
    "analysis_data.columns"
   ]
  },
  {
   "cell_type": "code",
   "execution_count": 45,
   "metadata": {},
   "outputs": [
    {
     "data": {
      "text/plain": [
       "towns                             0\n",
       "transaction_sign                  0\n",
       "house_number                      0\n",
       "land_area_square_meter            0\n",
       "use_zoning                     5379\n",
       "land_use_district             55170\n",
       "land_use                      55174\n",
       "tx_dt                             0\n",
       "transaction_pen_number            0\n",
       "shifting_level                 9752\n",
       "total_floor_number             9812\n",
       "building_state                    0\n",
       "main_use                      11587\n",
       "main_materials                 9796\n",
       "complete_date                 10786\n",
       "building_area_square_meter        0\n",
       "room_number                       0\n",
       "hall_number                       0\n",
       "health_number                     0\n",
       "compartmented_number              0\n",
       "manages                           0\n",
       "total_price                       0\n",
       "unit_price                     1320\n",
       "berth_category                35791\n",
       "berth_area_square_meter           0\n",
       "berth_price                       0\n",
       "note                          34717\n",
       "serial_number                     0\n",
       "main_building_area                0\n",
       "auxiliary_building_area           0\n",
       "balcony_area                      0\n",
       "elevator                      26532\n",
       "city                              0\n",
       "dtype: int64"
      ]
     },
     "execution_count": 45,
     "metadata": {},
     "output_type": "execute_result"
    }
   ],
   "source": [
    "analysis_data.isna().sum()"
   ]
  },
  {
   "cell_type": "code",
   "execution_count": 46,
   "metadata": {
    "id": "GMPSUJFcAtpf"
   },
   "outputs": [
    {
     "name": "stdout",
     "output_type": "stream",
     "text": [
      "city                           0\n",
      "towns                          0\n",
      "main_use                       0\n",
      "use_zoning                     0\n",
      "total_price                    0\n",
      "building_area_square_meter     0\n",
      "main_building_area             0\n",
      "tx_dt                          0\n",
      "unit_price                    16\n",
      "room_number                    0\n",
      "hall_number                    0\n",
      "health_number                  0\n",
      "dtype: int64\n",
      "city                          0\n",
      "towns                         0\n",
      "main_use                      0\n",
      "use_zoning                    0\n",
      "total_price                   0\n",
      "building_area_square_meter    0\n",
      "main_building_area            0\n",
      "tx_dt                         0\n",
      "unit_price                    0\n",
      "room_number                   0\n",
      "hall_number                   0\n",
      "health_number                 0\n",
      "dtype: int64\n"
     ]
    }
   ],
   "source": [
    "#2. 取出主要用途(main_use)為'住家用'以及都市土地使用分區(use_zoning)為'住'的資料\n",
    "#   並針對以下欄位analysis_columns做分析並去除na值 (提示:先取完之後再.dropna())\n",
    "\n",
    "analysis_columns = ['city','towns','main_use','use_zoning','total_price','building_area_square_meter',\n",
    "                                     'main_building_area',\n",
    "                                     'tx_dt','unit_price','room_number','hall_number','health_number']\n",
    "\n",
    "analysis_data = analysis_data[(analysis_data['main_use']=='住家用') & (analysis_data['use_zoning']=='住')]\n",
    "\n",
    "print(analysis_data[analysis_columns].isna().sum())\n",
    "analysis_data = analysis_data[analysis_columns].dropna()\n",
    "print(analysis_data[analysis_columns].isna().sum())\n",
    "\n",
    "#另法\n",
    "#analysis_data = analysis_data.loc[(analysis_data.main_use=='住家用')&(analysis_data.use_zoning=='住'),analysis_columns].dropna()\n"
   ]
  },
  {
   "cell_type": "code",
   "execution_count": 47,
   "metadata": {},
   "outputs": [
    {
     "data": {
      "text/plain": [
       "array(['住家用'], dtype=object)"
      ]
     },
     "execution_count": 47,
     "metadata": {},
     "output_type": "execute_result"
    }
   ],
   "source": [
    "analysis_data['main_use'].unique()"
   ]
  },
  {
   "cell_type": "code",
   "execution_count": 49,
   "metadata": {},
   "outputs": [
    {
     "data": {
      "text/plain": [
       "array(['住'], dtype=object)"
      ]
     },
     "execution_count": 49,
     "metadata": {},
     "output_type": "execute_result"
    }
   ],
   "source": [
    "analysis_data['use_zoning'].unique()"
   ]
  },
  {
   "cell_type": "code",
   "execution_count": 50,
   "metadata": {},
   "outputs": [],
   "source": [
    "data_copy1 = analysis_data.copy()"
   ]
  },
  {
   "cell_type": "code",
   "execution_count": 57,
   "metadata": {},
   "outputs": [
    {
     "name": "stdout",
     "output_type": "stream",
     "text": [
      "<class 'pandas.core.frame.DataFrame'>\n",
      "Int64Index: 7802 entries, 0 to 51169\n",
      "Data columns (total 12 columns):\n",
      " #   Column                      Non-Null Count  Dtype  \n",
      "---  ------                      --------------  -----  \n",
      " 0   city                        7802 non-null   object \n",
      " 1   towns                       7802 non-null   object \n",
      " 2   main_use                    7802 non-null   object \n",
      " 3   use_zoning                  7802 non-null   object \n",
      " 4   total_price                 7802 non-null   object \n",
      " 5   building_area_square_meter  7802 non-null   object \n",
      " 6   main_building_area          7802 non-null   float64\n",
      " 7   tx_dt                       7802 non-null   object \n",
      " 8   unit_price                  7802 non-null   object \n",
      " 9   room_number                 7802 non-null   object \n",
      " 10  hall_number                 7802 non-null   object \n",
      " 11  health_number               7802 non-null   object \n",
      "dtypes: float64(1), object(11)\n",
      "memory usage: 792.4+ KB\n"
     ]
    }
   ],
   "source": [
    "analysis_data = data_copy1\n",
    "analysis_data.info()"
   ]
  },
  {
   "cell_type": "code",
   "execution_count": 58,
   "metadata": {
    "id": "Y5_BWtUpAtph"
   },
   "outputs": [
    {
     "data": {
      "text/plain": [
       "city                           object\n",
       "towns                          object\n",
       "main_use                       object\n",
       "use_zoning                     object\n",
       "total_price                     int32\n",
       "building_area_square_meter    float64\n",
       "main_building_area            float64\n",
       "tx_dt                          object\n",
       "unit_price                    float64\n",
       "room_number                     int32\n",
       "hall_number                     int32\n",
       "health_number                   int32\n",
       "dtype: object"
      ]
     },
     "execution_count": 58,
     "metadata": {},
     "output_type": "execute_result"
    }
   ],
   "source": [
    "#3. 觀察欄位資料型態，並利用.astype()搭配以下提供的columns_type做欄位型態轉換\n",
    "\n",
    "columns_type = {'total_price': 'int',\n",
    "                'unit_price':'float',\n",
    "                'building_area_square_meter':'float',\n",
    "                'main_building_area': 'float',\n",
    "                'room_number': 'int',\n",
    "                'hall_number': 'int',\n",
    "                'health_number': 'int'}\n",
    "\n",
    "analysis_data.dtypes\n",
    "analysis_data = analysis_data.astype(columns_type)\n",
    "analysis_data.dtypes\n",
    "\n",
    "# https://www.delftstack.com/zh-tw/api/python-pandas/pandas-dataframe-dataframe.astype-function/"
   ]
  },
  {
   "cell_type": "code",
   "execution_count": 151,
   "metadata": {
    "id": "AxF8yHDeAtph",
    "scrolled": true
   },
   "outputs": [],
   "source": [
    "#4. 做資料切片將\n",
    "#     新增欄位交易年月日(tx_dt_year)，從交易年月日(tx_dt)萃取出年份"
   ]
  },
  {
   "cell_type": "code",
   "execution_count": 59,
   "metadata": {},
   "outputs": [
    {
     "data": {
      "text/plain": [
       "0    1090406\n",
       "1    1090317\n",
       "4    1090328\n",
       "6    1090417\n",
       "7    1090417\n",
       "Name: tx_dt, dtype: object"
      ]
     },
     "execution_count": 59,
     "metadata": {},
     "output_type": "execute_result"
    }
   ],
   "source": [
    "analysis_data['tx_dt'].head()"
   ]
  },
  {
   "cell_type": "code",
   "execution_count": 60,
   "metadata": {},
   "outputs": [
    {
     "data": {
      "text/plain": [
       "0        109\n",
       "1        109\n",
       "4        109\n",
       "6        109\n",
       "7        109\n",
       "        ... \n",
       "48924    109\n",
       "49200    109\n",
       "49735    109\n",
       "49799    109\n",
       "51169    109\n",
       "Name: tx_dt_year, Length: 7802, dtype: int64"
      ]
     },
     "execution_count": 60,
     "metadata": {},
     "output_type": "execute_result"
    }
   ],
   "source": [
    "analysis_data['tx_dt_year'] = analysis_data['tx_dt'].apply(lambda x: int(x[:3]))\n",
    "analysis_data['tx_dt_year']"
   ]
  },
  {
   "cell_type": "code",
   "execution_count": 61,
   "metadata": {},
   "outputs": [
    {
     "data": {
      "text/html": [
       "<div>\n",
       "<style scoped>\n",
       "    .dataframe tbody tr th:only-of-type {\n",
       "        vertical-align: middle;\n",
       "    }\n",
       "\n",
       "    .dataframe tbody tr th {\n",
       "        vertical-align: top;\n",
       "    }\n",
       "\n",
       "    .dataframe thead th {\n",
       "        text-align: right;\n",
       "    }\n",
       "</style>\n",
       "<table border=\"1\" class=\"dataframe\">\n",
       "  <thead>\n",
       "    <tr style=\"text-align: right;\">\n",
       "      <th></th>\n",
       "      <th>city</th>\n",
       "      <th>towns</th>\n",
       "      <th>main_use</th>\n",
       "      <th>use_zoning</th>\n",
       "      <th>total_price</th>\n",
       "      <th>building_area_square_meter</th>\n",
       "      <th>main_building_area</th>\n",
       "      <th>tx_dt</th>\n",
       "      <th>unit_price</th>\n",
       "      <th>room_number</th>\n",
       "      <th>hall_number</th>\n",
       "      <th>health_number</th>\n",
       "      <th>tx_dt_year</th>\n",
       "    </tr>\n",
       "  </thead>\n",
       "  <tbody>\n",
       "    <tr>\n",
       "      <th>0</th>\n",
       "      <td>Taipei</td>\n",
       "      <td>文山區</td>\n",
       "      <td>住家用</td>\n",
       "      <td>住</td>\n",
       "      <td>36000000</td>\n",
       "      <td>229.91</td>\n",
       "      <td>110.91</td>\n",
       "      <td>1090406</td>\n",
       "      <td>156583.0</td>\n",
       "      <td>3</td>\n",
       "      <td>2</td>\n",
       "      <td>2</td>\n",
       "      <td>109</td>\n",
       "    </tr>\n",
       "    <tr>\n",
       "      <th>1</th>\n",
       "      <td>Taipei</td>\n",
       "      <td>文山區</td>\n",
       "      <td>住家用</td>\n",
       "      <td>住</td>\n",
       "      <td>5580000</td>\n",
       "      <td>37.31</td>\n",
       "      <td>24.58</td>\n",
       "      <td>1090317</td>\n",
       "      <td>149558.0</td>\n",
       "      <td>2</td>\n",
       "      <td>1</td>\n",
       "      <td>1</td>\n",
       "      <td>109</td>\n",
       "    </tr>\n",
       "    <tr>\n",
       "      <th>4</th>\n",
       "      <td>Taipei</td>\n",
       "      <td>文山區</td>\n",
       "      <td>住家用</td>\n",
       "      <td>住</td>\n",
       "      <td>18280000</td>\n",
       "      <td>123.66</td>\n",
       "      <td>98.74</td>\n",
       "      <td>1090328</td>\n",
       "      <td>147825.0</td>\n",
       "      <td>3</td>\n",
       "      <td>2</td>\n",
       "      <td>2</td>\n",
       "      <td>109</td>\n",
       "    </tr>\n",
       "    <tr>\n",
       "      <th>6</th>\n",
       "      <td>Taipei</td>\n",
       "      <td>文山區</td>\n",
       "      <td>住家用</td>\n",
       "      <td>住</td>\n",
       "      <td>8000000</td>\n",
       "      <td>124.25</td>\n",
       "      <td>90.78</td>\n",
       "      <td>1090417</td>\n",
       "      <td>64386.0</td>\n",
       "      <td>3</td>\n",
       "      <td>1</td>\n",
       "      <td>2</td>\n",
       "      <td>109</td>\n",
       "    </tr>\n",
       "    <tr>\n",
       "      <th>7</th>\n",
       "      <td>Taipei</td>\n",
       "      <td>文山區</td>\n",
       "      <td>住家用</td>\n",
       "      <td>住</td>\n",
       "      <td>2200000</td>\n",
       "      <td>30.16</td>\n",
       "      <td>26.15</td>\n",
       "      <td>1090417</td>\n",
       "      <td>72944.0</td>\n",
       "      <td>5</td>\n",
       "      <td>2</td>\n",
       "      <td>2</td>\n",
       "      <td>109</td>\n",
       "    </tr>\n",
       "  </tbody>\n",
       "</table>\n",
       "</div>"
      ],
      "text/plain": [
       "     city towns main_use use_zoning  total_price  building_area_square_meter  \\\n",
       "0  Taipei   文山區      住家用          住     36000000                      229.91   \n",
       "1  Taipei   文山區      住家用          住      5580000                       37.31   \n",
       "4  Taipei   文山區      住家用          住     18280000                      123.66   \n",
       "6  Taipei   文山區      住家用          住      8000000                      124.25   \n",
       "7  Taipei   文山區      住家用          住      2200000                       30.16   \n",
       "\n",
       "   main_building_area    tx_dt  unit_price  room_number  hall_number  \\\n",
       "0              110.91  1090406    156583.0            3            2   \n",
       "1               24.58  1090317    149558.0            2            1   \n",
       "4               98.74  1090328    147825.0            3            2   \n",
       "6               90.78  1090417     64386.0            3            1   \n",
       "7               26.15  1090417     72944.0            5            2   \n",
       "\n",
       "   health_number  tx_dt_year  \n",
       "0              2         109  \n",
       "1              1         109  \n",
       "4              2         109  \n",
       "6              2         109  \n",
       "7              2         109  "
      ]
     },
     "execution_count": 61,
     "metadata": {},
     "output_type": "execute_result"
    }
   ],
   "source": [
    "analysis_data.head()"
   ]
  },
  {
   "cell_type": "markdown",
   "metadata": {},
   "source": [
    "原做法:\n",
    "data['tx_dt_year'] = data['tx_dt'].astype('string')\n",
    "#data['tx_dt_year'] \n",
    "\n",
    "base = []\n",
    "for i in data['tx_dt_year']:\n",
    "    ch = i[:3]\n",
    "    base.append(ch)\n",
    "  \n",
    "print(len(base))\n",
    "\n",
    "data['tx_dt_year'] = base\n",
    "data['tx_dt_year']"
   ]
  },
  {
   "cell_type": "code",
   "execution_count": 62,
   "metadata": {},
   "outputs": [
    {
     "name": "stdout",
     "output_type": "stream",
     "text": [
      "7689\n"
     ]
    }
   ],
   "source": [
    "#1.交易年月日(tx_dt_year)，限制在109年\n",
    "analysis_data = analysis_data[analysis_data['tx_dt_year'] == 109]\n",
    "print(len(analysis_data))"
   ]
  },
  {
   "cell_type": "code",
   "execution_count": 63,
   "metadata": {},
   "outputs": [
    {
     "name": "stdout",
     "output_type": "stream",
     "text": [
      "7317\n"
     ]
    }
   ],
   "source": [
    "#2.建物現況格局-房(room_number)，限制在1到5間\n",
    "analysis_data = analysis_data[(analysis_data['room_number']>=1) & (analysis_data['room_number']<=5)]\n",
    "print(len(analysis_data))"
   ]
  },
  {
   "cell_type": "code",
   "execution_count": 64,
   "metadata": {},
   "outputs": [
    {
     "name": "stdout",
     "output_type": "stream",
     "text": [
      "6894\n"
     ]
    }
   ],
   "source": [
    "#3.建物現況格局-廳(hall_number)，限制在1到2廳\n",
    "analysis_data = analysis_data[(analysis_data['hall_number']>=1) & (analysis_data['hall_number']<=2)]\n",
    "print(len(analysis_data))"
   ]
  },
  {
   "cell_type": "markdown",
   "metadata": {},
   "source": [
    "另法:\n",
    "analysis_data = analysis_data.loc[(analysis_data.tx_dt_year>=109)&\n",
    "                                  (analysis_data.room_number>=1)&\n",
    "                                  (analysis_data.room_number<=5)&\n",
    "                                  (analysis_data.hall_number>=1)&\n",
    "                                  (analysis_data.hall_number<=2)]\n"
   ]
  },
  {
   "cell_type": "code",
   "execution_count": 66,
   "metadata": {},
   "outputs": [],
   "source": [
    "#4.最後運用.reset_index()重新定義索引\n",
    "analysis_data = analysis_data.reset_index(drop=True)\n",
    "\n",
    "# https://pandas.pydata.org/docs/reference/api/pandas.DataFrame.reset_index.html"
   ]
  },
  {
   "cell_type": "code",
   "execution_count": 68,
   "metadata": {},
   "outputs": [
    {
     "data": {
      "text/html": [
       "<div>\n",
       "<style scoped>\n",
       "    .dataframe tbody tr th:only-of-type {\n",
       "        vertical-align: middle;\n",
       "    }\n",
       "\n",
       "    .dataframe tbody tr th {\n",
       "        vertical-align: top;\n",
       "    }\n",
       "\n",
       "    .dataframe thead th {\n",
       "        text-align: right;\n",
       "    }\n",
       "</style>\n",
       "<table border=\"1\" class=\"dataframe\">\n",
       "  <thead>\n",
       "    <tr style=\"text-align: right;\">\n",
       "      <th></th>\n",
       "      <th>city</th>\n",
       "      <th>towns</th>\n",
       "      <th>main_use</th>\n",
       "      <th>use_zoning</th>\n",
       "      <th>total_price</th>\n",
       "      <th>building_area_square_meter</th>\n",
       "      <th>main_building_area</th>\n",
       "      <th>tx_dt</th>\n",
       "      <th>unit_price</th>\n",
       "      <th>room_number</th>\n",
       "      <th>hall_number</th>\n",
       "      <th>health_number</th>\n",
       "      <th>tx_dt_year</th>\n",
       "    </tr>\n",
       "  </thead>\n",
       "  <tbody>\n",
       "    <tr>\n",
       "      <th>0</th>\n",
       "      <td>Taipei</td>\n",
       "      <td>文山區</td>\n",
       "      <td>住家用</td>\n",
       "      <td>住</td>\n",
       "      <td>36000000</td>\n",
       "      <td>229.91</td>\n",
       "      <td>110.91</td>\n",
       "      <td>1090406</td>\n",
       "      <td>156583.0</td>\n",
       "      <td>3</td>\n",
       "      <td>2</td>\n",
       "      <td>2</td>\n",
       "      <td>109</td>\n",
       "    </tr>\n",
       "    <tr>\n",
       "      <th>1</th>\n",
       "      <td>Taipei</td>\n",
       "      <td>文山區</td>\n",
       "      <td>住家用</td>\n",
       "      <td>住</td>\n",
       "      <td>5580000</td>\n",
       "      <td>37.31</td>\n",
       "      <td>24.58</td>\n",
       "      <td>1090317</td>\n",
       "      <td>149558.0</td>\n",
       "      <td>2</td>\n",
       "      <td>1</td>\n",
       "      <td>1</td>\n",
       "      <td>109</td>\n",
       "    </tr>\n",
       "    <tr>\n",
       "      <th>2</th>\n",
       "      <td>Taipei</td>\n",
       "      <td>文山區</td>\n",
       "      <td>住家用</td>\n",
       "      <td>住</td>\n",
       "      <td>18280000</td>\n",
       "      <td>123.66</td>\n",
       "      <td>98.74</td>\n",
       "      <td>1090328</td>\n",
       "      <td>147825.0</td>\n",
       "      <td>3</td>\n",
       "      <td>2</td>\n",
       "      <td>2</td>\n",
       "      <td>109</td>\n",
       "    </tr>\n",
       "    <tr>\n",
       "      <th>3</th>\n",
       "      <td>Taipei</td>\n",
       "      <td>文山區</td>\n",
       "      <td>住家用</td>\n",
       "      <td>住</td>\n",
       "      <td>8000000</td>\n",
       "      <td>124.25</td>\n",
       "      <td>90.78</td>\n",
       "      <td>1090417</td>\n",
       "      <td>64386.0</td>\n",
       "      <td>3</td>\n",
       "      <td>1</td>\n",
       "      <td>2</td>\n",
       "      <td>109</td>\n",
       "    </tr>\n",
       "    <tr>\n",
       "      <th>4</th>\n",
       "      <td>Taipei</td>\n",
       "      <td>文山區</td>\n",
       "      <td>住家用</td>\n",
       "      <td>住</td>\n",
       "      <td>2200000</td>\n",
       "      <td>30.16</td>\n",
       "      <td>26.15</td>\n",
       "      <td>1090417</td>\n",
       "      <td>72944.0</td>\n",
       "      <td>5</td>\n",
       "      <td>2</td>\n",
       "      <td>2</td>\n",
       "      <td>109</td>\n",
       "    </tr>\n",
       "    <tr>\n",
       "      <th>5</th>\n",
       "      <td>Taipei</td>\n",
       "      <td>文山區</td>\n",
       "      <td>住家用</td>\n",
       "      <td>住</td>\n",
       "      <td>12000000</td>\n",
       "      <td>106.36</td>\n",
       "      <td>42.19</td>\n",
       "      <td>1090419</td>\n",
       "      <td>150473.0</td>\n",
       "      <td>2</td>\n",
       "      <td>2</td>\n",
       "      <td>1</td>\n",
       "      <td>109</td>\n",
       "    </tr>\n",
       "    <tr>\n",
       "      <th>6</th>\n",
       "      <td>Taipei</td>\n",
       "      <td>大同區</td>\n",
       "      <td>住家用</td>\n",
       "      <td>住</td>\n",
       "      <td>13000000</td>\n",
       "      <td>90.69</td>\n",
       "      <td>90.69</td>\n",
       "      <td>1090130</td>\n",
       "      <td>143345.0</td>\n",
       "      <td>2</td>\n",
       "      <td>2</td>\n",
       "      <td>1</td>\n",
       "      <td>109</td>\n",
       "    </tr>\n",
       "    <tr>\n",
       "      <th>7</th>\n",
       "      <td>Taipei</td>\n",
       "      <td>萬華區</td>\n",
       "      <td>住家用</td>\n",
       "      <td>住</td>\n",
       "      <td>7700000</td>\n",
       "      <td>66.64</td>\n",
       "      <td>66.64</td>\n",
       "      <td>1090422</td>\n",
       "      <td>115546.0</td>\n",
       "      <td>3</td>\n",
       "      <td>2</td>\n",
       "      <td>1</td>\n",
       "      <td>109</td>\n",
       "    </tr>\n",
       "    <tr>\n",
       "      <th>8</th>\n",
       "      <td>Taipei</td>\n",
       "      <td>萬華區</td>\n",
       "      <td>住家用</td>\n",
       "      <td>住</td>\n",
       "      <td>4000000</td>\n",
       "      <td>38.04</td>\n",
       "      <td>30.16</td>\n",
       "      <td>1090422</td>\n",
       "      <td>105152.0</td>\n",
       "      <td>3</td>\n",
       "      <td>1</td>\n",
       "      <td>2</td>\n",
       "      <td>109</td>\n",
       "    </tr>\n",
       "    <tr>\n",
       "      <th>9</th>\n",
       "      <td>Taipei</td>\n",
       "      <td>中正區</td>\n",
       "      <td>住家用</td>\n",
       "      <td>住</td>\n",
       "      <td>32880000</td>\n",
       "      <td>153.32</td>\n",
       "      <td>64.98</td>\n",
       "      <td>1090415</td>\n",
       "      <td>232106.0</td>\n",
       "      <td>2</td>\n",
       "      <td>1</td>\n",
       "      <td>2</td>\n",
       "      <td>109</td>\n",
       "    </tr>\n",
       "  </tbody>\n",
       "</table>\n",
       "</div>"
      ],
      "text/plain": [
       "     city towns main_use use_zoning  total_price  building_area_square_meter  \\\n",
       "0  Taipei   文山區      住家用          住     36000000                      229.91   \n",
       "1  Taipei   文山區      住家用          住      5580000                       37.31   \n",
       "2  Taipei   文山區      住家用          住     18280000                      123.66   \n",
       "3  Taipei   文山區      住家用          住      8000000                      124.25   \n",
       "4  Taipei   文山區      住家用          住      2200000                       30.16   \n",
       "5  Taipei   文山區      住家用          住     12000000                      106.36   \n",
       "6  Taipei   大同區      住家用          住     13000000                       90.69   \n",
       "7  Taipei   萬華區      住家用          住      7700000                       66.64   \n",
       "8  Taipei   萬華區      住家用          住      4000000                       38.04   \n",
       "9  Taipei   中正區      住家用          住     32880000                      153.32   \n",
       "\n",
       "   main_building_area    tx_dt  unit_price  room_number  hall_number  \\\n",
       "0              110.91  1090406    156583.0            3            2   \n",
       "1               24.58  1090317    149558.0            2            1   \n",
       "2               98.74  1090328    147825.0            3            2   \n",
       "3               90.78  1090417     64386.0            3            1   \n",
       "4               26.15  1090417     72944.0            5            2   \n",
       "5               42.19  1090419    150473.0            2            2   \n",
       "6               90.69  1090130    143345.0            2            2   \n",
       "7               66.64  1090422    115546.0            3            2   \n",
       "8               30.16  1090422    105152.0            3            1   \n",
       "9               64.98  1090415    232106.0            2            1   \n",
       "\n",
       "   health_number  tx_dt_year  \n",
       "0              2         109  \n",
       "1              1         109  \n",
       "2              2         109  \n",
       "3              2         109  \n",
       "4              2         109  \n",
       "5              1         109  \n",
       "6              1         109  \n",
       "7              1         109  \n",
       "8              2         109  \n",
       "9              2         109  "
      ]
     },
     "execution_count": 68,
     "metadata": {},
     "output_type": "execute_result"
    }
   ],
   "source": [
    "analysis_data.head(10)"
   ]
  },
  {
   "cell_type": "markdown",
   "metadata": {
    "id": "zTOTmNDxAtpi"
   },
   "source": [
    "# 3. 建立自定義特徵加入分析\n"
   ]
  },
  {
   "cell_type": "markdown",
   "metadata": {
    "id": "cyL2au1aAtpi"
   },
   "source": [
    "以台灣來說大家都是以坪為單位計算使用面積，應該是不會問說你家有幾平方公尺吧?，但是偏偏資料中沒有以坪為單位計算，所以接下來請各位幫忙產生新的欄位以坪為單位計算面積，轉換公式我也幫你找好了，在下面的定義。<br>\n",
    "定義 : 1平方公尺相當於0.3025坪 <br>\n",
    "建立新特徵\n",
    "1. 建物移轉總面積坪(building_area_square_feet) : 建物移轉總面積平方公尺\\*0.3025\n",
    "2. 主建物面積坪(main_building_area_square_feet) : 主建物面積\\*0.3025\n",
    "3. 單價元坪(unit_price_square_feet) : 單價元平方公尺/0.3025"
   ]
  },
  {
   "cell_type": "markdown",
   "metadata": {
    "id": "O-BL5boZAtpi"
   },
   "source": [
    "可以利用.describe()做一下資料觀察，是否有奇怪的資料?<br>\n",
    "如果有請將資料移除，並說明為什麼移除此資料?<br>\n",
    "移除後再用.describe()觀察是否還有奇怪的資料?"
   ]
  },
  {
   "cell_type": "code",
   "execution_count": 70,
   "metadata": {},
   "outputs": [],
   "source": [
    "data = analysis_data"
   ]
  },
  {
   "cell_type": "code",
   "execution_count": 72,
   "metadata": {},
   "outputs": [
    {
     "data": {
      "text/plain": [
       "Index(['city', 'towns', 'main_use', 'use_zoning', 'total_price',\n",
       "       'building_area_square_meter', 'main_building_area', 'tx_dt',\n",
       "       'unit_price', 'room_number', 'hall_number', 'health_number',\n",
       "       'tx_dt_year'],\n",
       "      dtype='object')"
      ]
     },
     "execution_count": 72,
     "metadata": {},
     "output_type": "execute_result"
    }
   ],
   "source": [
    "data.columns"
   ]
  },
  {
   "cell_type": "code",
   "execution_count": 74,
   "metadata": {
    "id": "vWILawwvAtpj"
   },
   "outputs": [],
   "source": [
    "# 建立新特徵\n",
    "# 1. 建物移轉總面積坪(building_area_square_feet) : 建物移轉總面積平方公尺*0.3025\n",
    "data['building_area_square_feet'] = data['building_area_square_meter']*0.3025\n",
    "\n",
    "# 2. 主建物面積坪(main_building_area_square_feet) : 主建物面積*0.3025\n",
    "data['main_building_area_square_feet'] = data['main_building_area']*0.3025\n",
    "\n",
    "# 3. 單價元坪(unit_price_square_feet) : 單價元平方公尺/0.3025\n",
    "data['unit_price_square_feet'] = data['unit_price']/0.3025"
   ]
  },
  {
   "cell_type": "code",
   "execution_count": 75,
   "metadata": {},
   "outputs": [
    {
     "name": "stdout",
     "output_type": "stream",
     "text": [
      "<class 'pandas.core.frame.DataFrame'>\n",
      "RangeIndex: 6894 entries, 0 to 6893\n",
      "Data columns (total 16 columns):\n",
      " #   Column                          Non-Null Count  Dtype  \n",
      "---  ------                          --------------  -----  \n",
      " 0   city                            6894 non-null   object \n",
      " 1   towns                           6894 non-null   object \n",
      " 2   main_use                        6894 non-null   object \n",
      " 3   use_zoning                      6894 non-null   object \n",
      " 4   total_price                     6894 non-null   int32  \n",
      " 5   building_area_square_meter      6894 non-null   float64\n",
      " 6   main_building_area              6894 non-null   float64\n",
      " 7   tx_dt                           6894 non-null   object \n",
      " 8   unit_price                      6894 non-null   float64\n",
      " 9   room_number                     6894 non-null   int32  \n",
      " 10  hall_number                     6894 non-null   int32  \n",
      " 11  health_number                   6894 non-null   int32  \n",
      " 12  tx_dt_year                      6894 non-null   int64  \n",
      " 13  building_area_square_feet       6894 non-null   float64\n",
      " 14  main_building_area_square_feet  6894 non-null   float64\n",
      " 15  unit_price_square_feet          6894 non-null   float64\n",
      "dtypes: float64(6), int32(4), int64(1), object(5)\n",
      "memory usage: 754.2+ KB\n"
     ]
    }
   ],
   "source": [
    "data.info()"
   ]
  },
  {
   "cell_type": "code",
   "execution_count": 76,
   "metadata": {
    "id": "ZuAZPbnNAtpj",
    "scrolled": true
   },
   "outputs": [
    {
     "data": {
      "text/html": [
       "<div>\n",
       "<style scoped>\n",
       "    .dataframe tbody tr th:only-of-type {\n",
       "        vertical-align: middle;\n",
       "    }\n",
       "\n",
       "    .dataframe tbody tr th {\n",
       "        vertical-align: top;\n",
       "    }\n",
       "\n",
       "    .dataframe thead th {\n",
       "        text-align: right;\n",
       "    }\n",
       "</style>\n",
       "<table border=\"1\" class=\"dataframe\">\n",
       "  <thead>\n",
       "    <tr style=\"text-align: right;\">\n",
       "      <th></th>\n",
       "      <th>total_price</th>\n",
       "      <th>building_area_square_meter</th>\n",
       "      <th>main_building_area</th>\n",
       "      <th>unit_price</th>\n",
       "      <th>room_number</th>\n",
       "      <th>hall_number</th>\n",
       "      <th>health_number</th>\n",
       "      <th>tx_dt_year</th>\n",
       "      <th>building_area_square_feet</th>\n",
       "      <th>main_building_area_square_feet</th>\n",
       "      <th>unit_price_square_feet</th>\n",
       "    </tr>\n",
       "  </thead>\n",
       "  <tbody>\n",
       "    <tr>\n",
       "      <th>count</th>\n",
       "      <td>6.894000e+03</td>\n",
       "      <td>6894.000000</td>\n",
       "      <td>6894.000000</td>\n",
       "      <td>6894.000000</td>\n",
       "      <td>6894.000000</td>\n",
       "      <td>6894.000000</td>\n",
       "      <td>6894.000000</td>\n",
       "      <td>6894.0</td>\n",
       "      <td>6894.000000</td>\n",
       "      <td>6894.000000</td>\n",
       "      <td>6.894000e+03</td>\n",
       "    </tr>\n",
       "    <tr>\n",
       "      <th>mean</th>\n",
       "      <td>1.138712e+07</td>\n",
       "      <td>121.712089</td>\n",
       "      <td>82.086667</td>\n",
       "      <td>94364.671163</td>\n",
       "      <td>2.850885</td>\n",
       "      <td>1.793299</td>\n",
       "      <td>1.733536</td>\n",
       "      <td>109.0</td>\n",
       "      <td>36.817907</td>\n",
       "      <td>24.831217</td>\n",
       "      <td>3.119493e+05</td>\n",
       "    </tr>\n",
       "    <tr>\n",
       "      <th>std</th>\n",
       "      <td>1.159445e+07</td>\n",
       "      <td>62.871712</td>\n",
       "      <td>37.363166</td>\n",
       "      <td>58317.311227</td>\n",
       "      <td>0.898498</td>\n",
       "      <td>0.404969</td>\n",
       "      <td>0.681085</td>\n",
       "      <td>0.0</td>\n",
       "      <td>19.018693</td>\n",
       "      <td>11.302358</td>\n",
       "      <td>1.927845e+05</td>\n",
       "    </tr>\n",
       "    <tr>\n",
       "      <th>min</th>\n",
       "      <td>0.000000e+00</td>\n",
       "      <td>0.970000</td>\n",
       "      <td>0.000000</td>\n",
       "      <td>0.000000</td>\n",
       "      <td>1.000000</td>\n",
       "      <td>1.000000</td>\n",
       "      <td>0.000000</td>\n",
       "      <td>109.0</td>\n",
       "      <td>0.293425</td>\n",
       "      <td>0.000000</td>\n",
       "      <td>0.000000e+00</td>\n",
       "    </tr>\n",
       "    <tr>\n",
       "      <th>25%</th>\n",
       "      <td>5.580000e+06</td>\n",
       "      <td>82.965000</td>\n",
       "      <td>60.682500</td>\n",
       "      <td>53532.250000</td>\n",
       "      <td>2.000000</td>\n",
       "      <td>2.000000</td>\n",
       "      <td>1.000000</td>\n",
       "      <td>109.0</td>\n",
       "      <td>25.096912</td>\n",
       "      <td>18.356456</td>\n",
       "      <td>1.769661e+05</td>\n",
       "    </tr>\n",
       "    <tr>\n",
       "      <th>50%</th>\n",
       "      <td>8.550000e+06</td>\n",
       "      <td>109.390000</td>\n",
       "      <td>78.990000</td>\n",
       "      <td>79610.000000</td>\n",
       "      <td>3.000000</td>\n",
       "      <td>2.000000</td>\n",
       "      <td>2.000000</td>\n",
       "      <td>109.0</td>\n",
       "      <td>33.090475</td>\n",
       "      <td>23.894475</td>\n",
       "      <td>2.631736e+05</td>\n",
       "    </tr>\n",
       "    <tr>\n",
       "      <th>75%</th>\n",
       "      <td>1.329500e+07</td>\n",
       "      <td>147.517500</td>\n",
       "      <td>95.797500</td>\n",
       "      <td>118728.250000</td>\n",
       "      <td>3.000000</td>\n",
       "      <td>2.000000</td>\n",
       "      <td>2.000000</td>\n",
       "      <td>109.0</td>\n",
       "      <td>44.624044</td>\n",
       "      <td>28.978744</td>\n",
       "      <td>3.924901e+05</td>\n",
       "    </tr>\n",
       "    <tr>\n",
       "      <th>max</th>\n",
       "      <td>2.250000e+08</td>\n",
       "      <td>1444.950000</td>\n",
       "      <td>335.760000</td>\n",
       "      <td>610104.000000</td>\n",
       "      <td>5.000000</td>\n",
       "      <td>2.000000</td>\n",
       "      <td>6.000000</td>\n",
       "      <td>109.0</td>\n",
       "      <td>437.097375</td>\n",
       "      <td>101.567400</td>\n",
       "      <td>2.016873e+06</td>\n",
       "    </tr>\n",
       "  </tbody>\n",
       "</table>\n",
       "</div>"
      ],
      "text/plain": [
       "        total_price  building_area_square_meter  main_building_area  \\\n",
       "count  6.894000e+03                 6894.000000         6894.000000   \n",
       "mean   1.138712e+07                  121.712089           82.086667   \n",
       "std    1.159445e+07                   62.871712           37.363166   \n",
       "min    0.000000e+00                    0.970000            0.000000   \n",
       "25%    5.580000e+06                   82.965000           60.682500   \n",
       "50%    8.550000e+06                  109.390000           78.990000   \n",
       "75%    1.329500e+07                  147.517500           95.797500   \n",
       "max    2.250000e+08                 1444.950000          335.760000   \n",
       "\n",
       "          unit_price  room_number  hall_number  health_number  tx_dt_year  \\\n",
       "count    6894.000000  6894.000000  6894.000000    6894.000000      6894.0   \n",
       "mean    94364.671163     2.850885     1.793299       1.733536       109.0   \n",
       "std     58317.311227     0.898498     0.404969       0.681085         0.0   \n",
       "min         0.000000     1.000000     1.000000       0.000000       109.0   \n",
       "25%     53532.250000     2.000000     2.000000       1.000000       109.0   \n",
       "50%     79610.000000     3.000000     2.000000       2.000000       109.0   \n",
       "75%    118728.250000     3.000000     2.000000       2.000000       109.0   \n",
       "max    610104.000000     5.000000     2.000000       6.000000       109.0   \n",
       "\n",
       "       building_area_square_feet  main_building_area_square_feet  \\\n",
       "count                6894.000000                     6894.000000   \n",
       "mean                   36.817907                       24.831217   \n",
       "std                    19.018693                       11.302358   \n",
       "min                     0.293425                        0.000000   \n",
       "25%                    25.096912                       18.356456   \n",
       "50%                    33.090475                       23.894475   \n",
       "75%                    44.624044                       28.978744   \n",
       "max                   437.097375                      101.567400   \n",
       "\n",
       "       unit_price_square_feet  \n",
       "count            6.894000e+03  \n",
       "mean             3.119493e+05  \n",
       "std              1.927845e+05  \n",
       "min              0.000000e+00  \n",
       "25%              1.769661e+05  \n",
       "50%              2.631736e+05  \n",
       "75%              3.924901e+05  \n",
       "max              2.016873e+06  "
      ]
     },
     "execution_count": 76,
     "metadata": {},
     "output_type": "execute_result"
    }
   ],
   "source": [
    "# 可以利用.describe()做一下資料觀察，是否有奇怪的資料?\n",
    "# 如果有請將資料移除，並說明為什麼移除此資料?\n",
    "\n",
    "data.describe()"
   ]
  },
  {
   "cell_type": "code",
   "execution_count": 83,
   "metadata": {},
   "outputs": [
    {
     "data": {
      "text/plain": [
       "{'鄉鎮市區': 'towns',\n",
       " '交易標的': 'transaction_sign',\n",
       " '土地區段位置建物區段門牌': 'house_number',\n",
       " '土地移轉總面積平方公尺': 'land_area_square_meter',\n",
       " '都市土地使用分區': 'use_zoning',\n",
       " '非都市土地使用分區': 'land_use_district',\n",
       " '非都市土地使用編定': 'land_use',\n",
       " '交易年月日': 'tx_dt',\n",
       " '交易筆棟數': 'transaction_pen_number',\n",
       " '移轉層次': 'shifting_level',\n",
       " '總樓層數': 'total_floor_number',\n",
       " '建物型態': 'building_state',\n",
       " '主要用途': 'main_use',\n",
       " '主要建材': 'main_materials',\n",
       " '建築完成年月': 'complete_date',\n",
       " '建物移轉總面積平方公尺': 'building_area_square_meter',\n",
       " '建物現況格局-房': 'room_number',\n",
       " '建物現況格局-廳': 'hall_number',\n",
       " '建物現況格局-衛': 'health_number',\n",
       " '建物現況格局-隔間': 'compartmented_number',\n",
       " '有無管理組織': 'manages',\n",
       " '總價元': 'total_price',\n",
       " '單價元平方公尺': 'unit_price',\n",
       " '車位類別': 'berth_category',\n",
       " '車位移轉總面積(平方公尺)': 'berth_area_square_meter',\n",
       " '車位總價元': 'berth_price',\n",
       " '備註': 'note',\n",
       " '編號': 'serial_number',\n",
       " '主建物面積': 'main_building_area',\n",
       " '附屬建物面積': 'auxiliary_building_area',\n",
       " '陽台面積': 'balcony_area',\n",
       " '電梯': 'elevator'}"
      ]
     },
     "execution_count": 83,
     "metadata": {},
     "output_type": "execute_result"
    }
   ],
   "source": [
    "columns_mapping"
   ]
  },
  {
   "cell_type": "markdown",
   "metadata": {},
   "source": [
    "奇怪的資料\n",
    "\n",
    "1.total_price最小值為0?\n",
    "\n",
    "2.main_building_area最小值為0?"
   ]
  },
  {
   "cell_type": "code",
   "execution_count": 85,
   "metadata": {
    "id": "qED9ygBDAtpj"
   },
   "outputs": [
    {
     "data": {
      "text/html": [
       "<div>\n",
       "<style scoped>\n",
       "    .dataframe tbody tr th:only-of-type {\n",
       "        vertical-align: middle;\n",
       "    }\n",
       "\n",
       "    .dataframe tbody tr th {\n",
       "        vertical-align: top;\n",
       "    }\n",
       "\n",
       "    .dataframe thead th {\n",
       "        text-align: right;\n",
       "    }\n",
       "</style>\n",
       "<table border=\"1\" class=\"dataframe\">\n",
       "  <thead>\n",
       "    <tr style=\"text-align: right;\">\n",
       "      <th></th>\n",
       "      <th>total_price</th>\n",
       "      <th>building_area_square_meter</th>\n",
       "      <th>main_building_area</th>\n",
       "      <th>unit_price</th>\n",
       "      <th>room_number</th>\n",
       "      <th>hall_number</th>\n",
       "      <th>health_number</th>\n",
       "      <th>tx_dt_year</th>\n",
       "      <th>building_area_square_feet</th>\n",
       "      <th>main_building_area_square_feet</th>\n",
       "      <th>unit_price_square_feet</th>\n",
       "    </tr>\n",
       "  </thead>\n",
       "  <tbody>\n",
       "    <tr>\n",
       "      <th>count</th>\n",
       "      <td>6.854000e+03</td>\n",
       "      <td>6854.000000</td>\n",
       "      <td>6854.000000</td>\n",
       "      <td>6854.000000</td>\n",
       "      <td>6854.000000</td>\n",
       "      <td>6854.000000</td>\n",
       "      <td>6854.000000</td>\n",
       "      <td>6854.0</td>\n",
       "      <td>6854.000000</td>\n",
       "      <td>6854.000000</td>\n",
       "      <td>6.854000e+03</td>\n",
       "    </tr>\n",
       "    <tr>\n",
       "      <th>mean</th>\n",
       "      <td>1.141669e+07</td>\n",
       "      <td>121.768404</td>\n",
       "      <td>82.565725</td>\n",
       "      <td>94548.453020</td>\n",
       "      <td>2.849869</td>\n",
       "      <td>1.793114</td>\n",
       "      <td>1.733149</td>\n",
       "      <td>109.0</td>\n",
       "      <td>36.834942</td>\n",
       "      <td>24.976132</td>\n",
       "      <td>3.125569e+05</td>\n",
       "    </tr>\n",
       "    <tr>\n",
       "      <th>std</th>\n",
       "      <td>1.161669e+07</td>\n",
       "      <td>62.849105</td>\n",
       "      <td>36.940424</td>\n",
       "      <td>58374.690321</td>\n",
       "      <td>0.898343</td>\n",
       "      <td>0.405103</td>\n",
       "      <td>0.680869</td>\n",
       "      <td>0.0</td>\n",
       "      <td>19.011854</td>\n",
       "      <td>11.174478</td>\n",
       "      <td>1.929742e+05</td>\n",
       "    </tr>\n",
       "    <tr>\n",
       "      <th>min</th>\n",
       "      <td>4.100000e+05</td>\n",
       "      <td>7.440000</td>\n",
       "      <td>7.440000</td>\n",
       "      <td>3239.000000</td>\n",
       "      <td>1.000000</td>\n",
       "      <td>1.000000</td>\n",
       "      <td>0.000000</td>\n",
       "      <td>109.0</td>\n",
       "      <td>2.250600</td>\n",
       "      <td>2.250600</td>\n",
       "      <td>1.070744e+04</td>\n",
       "    </tr>\n",
       "    <tr>\n",
       "      <th>25%</th>\n",
       "      <td>5.600000e+06</td>\n",
       "      <td>83.012500</td>\n",
       "      <td>61.062500</td>\n",
       "      <td>53597.250000</td>\n",
       "      <td>2.000000</td>\n",
       "      <td>2.000000</td>\n",
       "      <td>1.000000</td>\n",
       "      <td>109.0</td>\n",
       "      <td>25.111281</td>\n",
       "      <td>18.471406</td>\n",
       "      <td>1.771810e+05</td>\n",
       "    </tr>\n",
       "    <tr>\n",
       "      <th>50%</th>\n",
       "      <td>8.600000e+06</td>\n",
       "      <td>109.405000</td>\n",
       "      <td>79.110000</td>\n",
       "      <td>79742.500000</td>\n",
       "      <td>3.000000</td>\n",
       "      <td>2.000000</td>\n",
       "      <td>2.000000</td>\n",
       "      <td>109.0</td>\n",
       "      <td>33.095012</td>\n",
       "      <td>23.930775</td>\n",
       "      <td>2.636116e+05</td>\n",
       "    </tr>\n",
       "    <tr>\n",
       "      <th>75%</th>\n",
       "      <td>1.330000e+07</td>\n",
       "      <td>147.445000</td>\n",
       "      <td>95.970000</td>\n",
       "      <td>118880.000000</td>\n",
       "      <td>3.000000</td>\n",
       "      <td>2.000000</td>\n",
       "      <td>2.000000</td>\n",
       "      <td>109.0</td>\n",
       "      <td>44.602112</td>\n",
       "      <td>29.030925</td>\n",
       "      <td>3.929917e+05</td>\n",
       "    </tr>\n",
       "    <tr>\n",
       "      <th>max</th>\n",
       "      <td>2.250000e+08</td>\n",
       "      <td>1444.950000</td>\n",
       "      <td>335.760000</td>\n",
       "      <td>610104.000000</td>\n",
       "      <td>5.000000</td>\n",
       "      <td>2.000000</td>\n",
       "      <td>6.000000</td>\n",
       "      <td>109.0</td>\n",
       "      <td>437.097375</td>\n",
       "      <td>101.567400</td>\n",
       "      <td>2.016873e+06</td>\n",
       "    </tr>\n",
       "  </tbody>\n",
       "</table>\n",
       "</div>"
      ],
      "text/plain": [
       "        total_price  building_area_square_meter  main_building_area  \\\n",
       "count  6.854000e+03                 6854.000000         6854.000000   \n",
       "mean   1.141669e+07                  121.768404           82.565725   \n",
       "std    1.161669e+07                   62.849105           36.940424   \n",
       "min    4.100000e+05                    7.440000            7.440000   \n",
       "25%    5.600000e+06                   83.012500           61.062500   \n",
       "50%    8.600000e+06                  109.405000           79.110000   \n",
       "75%    1.330000e+07                  147.445000           95.970000   \n",
       "max    2.250000e+08                 1444.950000          335.760000   \n",
       "\n",
       "          unit_price  room_number  hall_number  health_number  tx_dt_year  \\\n",
       "count    6854.000000  6854.000000  6854.000000    6854.000000      6854.0   \n",
       "mean    94548.453020     2.849869     1.793114       1.733149       109.0   \n",
       "std     58374.690321     0.898343     0.405103       0.680869         0.0   \n",
       "min      3239.000000     1.000000     1.000000       0.000000       109.0   \n",
       "25%     53597.250000     2.000000     2.000000       1.000000       109.0   \n",
       "50%     79742.500000     3.000000     2.000000       2.000000       109.0   \n",
       "75%    118880.000000     3.000000     2.000000       2.000000       109.0   \n",
       "max    610104.000000     5.000000     2.000000       6.000000       109.0   \n",
       "\n",
       "       building_area_square_feet  main_building_area_square_feet  \\\n",
       "count                6854.000000                     6854.000000   \n",
       "mean                   36.834942                       24.976132   \n",
       "std                    19.011854                       11.174478   \n",
       "min                     2.250600                        2.250600   \n",
       "25%                    25.111281                       18.471406   \n",
       "50%                    33.095012                       23.930775   \n",
       "75%                    44.602112                       29.030925   \n",
       "max                   437.097375                      101.567400   \n",
       "\n",
       "       unit_price_square_feet  \n",
       "count            6.854000e+03  \n",
       "mean             3.125569e+05  \n",
       "std              1.929742e+05  \n",
       "min              1.070744e+04  \n",
       "25%              1.771810e+05  \n",
       "50%              2.636116e+05  \n",
       "75%              3.929917e+05  \n",
       "max              2.016873e+06  "
      ]
     },
     "execution_count": 85,
     "metadata": {},
     "output_type": "execute_result"
    }
   ],
   "source": [
    "# 移除後再用.describe()觀察是否還有奇怪的資料?\n",
    "data = data.loc[(data.total_price!=0)&(data.main_building_area!=0)]\n",
    "data.describe()"
   ]
  },
  {
   "cell_type": "code",
   "execution_count": 86,
   "metadata": {},
   "outputs": [],
   "source": [
    "data_copy2 = data.copy()"
   ]
  },
  {
   "cell_type": "markdown",
   "metadata": {
    "id": "uRcOUtYPAtpk"
   },
   "source": [
    "# 4. 找出台北市時價登入總價高度相關的變數"
   ]
  },
  {
   "cell_type": "markdown",
   "metadata": {
    "id": "sMgZ6PbwAtpk"
   },
   "source": [
    "阿宏我是台北人他想找出影響台北市總價、單價元坪的因子<br>\n",
    "相關係數0.3以下為低相關，0.3\\~0.7為中等相關，0.7以上為高度相關<br>\n",
    "1. 資料切片切出city欄位為台北市的資料，並找出時價登入總價(total_price)高度相關的變數\n",
    "2. 資料切片切出city欄位為台北市的資料，找出單價元坪(unit_price_square_feet)高度相關的變數"
   ]
  },
  {
   "cell_type": "code",
   "execution_count": 97,
   "metadata": {},
   "outputs": [
    {
     "data": {
      "text/plain": [
       "0       109\n",
       "1       109\n",
       "2       109\n",
       "3       109\n",
       "4       109\n",
       "       ... \n",
       "6889    109\n",
       "6890    109\n",
       "6891    109\n",
       "6892    109\n",
       "6893    109\n",
       "Name: tx_dt_year, Length: 6854, dtype: int64"
      ]
     },
     "execution_count": 97,
     "metadata": {},
     "output_type": "execute_result"
    }
   ],
   "source": [
    "data['tx_dt_year']"
   ]
  },
  {
   "cell_type": "code",
   "execution_count": 99,
   "metadata": {},
   "outputs": [
    {
     "data": {
      "text/html": [
       "<div>\n",
       "<style scoped>\n",
       "    .dataframe tbody tr th:only-of-type {\n",
       "        vertical-align: middle;\n",
       "    }\n",
       "\n",
       "    .dataframe tbody tr th {\n",
       "        vertical-align: top;\n",
       "    }\n",
       "\n",
       "    .dataframe thead th {\n",
       "        text-align: right;\n",
       "    }\n",
       "</style>\n",
       "<table border=\"1\" class=\"dataframe\">\n",
       "  <thead>\n",
       "    <tr style=\"text-align: right;\">\n",
       "      <th></th>\n",
       "      <th>city</th>\n",
       "      <th>towns</th>\n",
       "      <th>main_use</th>\n",
       "      <th>use_zoning</th>\n",
       "      <th>total_price</th>\n",
       "      <th>building_area_square_meter</th>\n",
       "      <th>main_building_area</th>\n",
       "      <th>tx_dt</th>\n",
       "      <th>unit_price</th>\n",
       "      <th>room_number</th>\n",
       "      <th>hall_number</th>\n",
       "      <th>health_number</th>\n",
       "      <th>tx_dt_year</th>\n",
       "      <th>building_area_square_feet</th>\n",
       "      <th>main_building_area_square_feet</th>\n",
       "      <th>unit_price_square_feet</th>\n",
       "    </tr>\n",
       "  </thead>\n",
       "  <tbody>\n",
       "    <tr>\n",
       "      <th>0</th>\n",
       "      <td>Taipei</td>\n",
       "      <td>文山區</td>\n",
       "      <td>住家用</td>\n",
       "      <td>住</td>\n",
       "      <td>36000000</td>\n",
       "      <td>229.91</td>\n",
       "      <td>110.91</td>\n",
       "      <td>1090406</td>\n",
       "      <td>156583.0</td>\n",
       "      <td>3</td>\n",
       "      <td>2</td>\n",
       "      <td>2</td>\n",
       "      <td>109</td>\n",
       "      <td>69.547775</td>\n",
       "      <td>33.550275</td>\n",
       "      <td>517629.752066</td>\n",
       "    </tr>\n",
       "    <tr>\n",
       "      <th>1</th>\n",
       "      <td>Taipei</td>\n",
       "      <td>文山區</td>\n",
       "      <td>住家用</td>\n",
       "      <td>住</td>\n",
       "      <td>5580000</td>\n",
       "      <td>37.31</td>\n",
       "      <td>24.58</td>\n",
       "      <td>1090317</td>\n",
       "      <td>149558.0</td>\n",
       "      <td>2</td>\n",
       "      <td>1</td>\n",
       "      <td>1</td>\n",
       "      <td>109</td>\n",
       "      <td>11.286275</td>\n",
       "      <td>7.435450</td>\n",
       "      <td>494406.611570</td>\n",
       "    </tr>\n",
       "    <tr>\n",
       "      <th>2</th>\n",
       "      <td>Taipei</td>\n",
       "      <td>文山區</td>\n",
       "      <td>住家用</td>\n",
       "      <td>住</td>\n",
       "      <td>18280000</td>\n",
       "      <td>123.66</td>\n",
       "      <td>98.74</td>\n",
       "      <td>1090328</td>\n",
       "      <td>147825.0</td>\n",
       "      <td>3</td>\n",
       "      <td>2</td>\n",
       "      <td>2</td>\n",
       "      <td>109</td>\n",
       "      <td>37.407150</td>\n",
       "      <td>29.868850</td>\n",
       "      <td>488677.685950</td>\n",
       "    </tr>\n",
       "    <tr>\n",
       "      <th>3</th>\n",
       "      <td>Taipei</td>\n",
       "      <td>文山區</td>\n",
       "      <td>住家用</td>\n",
       "      <td>住</td>\n",
       "      <td>8000000</td>\n",
       "      <td>124.25</td>\n",
       "      <td>90.78</td>\n",
       "      <td>1090417</td>\n",
       "      <td>64386.0</td>\n",
       "      <td>3</td>\n",
       "      <td>1</td>\n",
       "      <td>2</td>\n",
       "      <td>109</td>\n",
       "      <td>37.585625</td>\n",
       "      <td>27.460950</td>\n",
       "      <td>212846.280992</td>\n",
       "    </tr>\n",
       "    <tr>\n",
       "      <th>4</th>\n",
       "      <td>Taipei</td>\n",
       "      <td>文山區</td>\n",
       "      <td>住家用</td>\n",
       "      <td>住</td>\n",
       "      <td>2200000</td>\n",
       "      <td>30.16</td>\n",
       "      <td>26.15</td>\n",
       "      <td>1090417</td>\n",
       "      <td>72944.0</td>\n",
       "      <td>5</td>\n",
       "      <td>2</td>\n",
       "      <td>2</td>\n",
       "      <td>109</td>\n",
       "      <td>9.123400</td>\n",
       "      <td>7.910375</td>\n",
       "      <td>241137.190083</td>\n",
       "    </tr>\n",
       "  </tbody>\n",
       "</table>\n",
       "</div>"
      ],
      "text/plain": [
       "     city towns main_use use_zoning  total_price  building_area_square_meter  \\\n",
       "0  Taipei   文山區      住家用          住     36000000                      229.91   \n",
       "1  Taipei   文山區      住家用          住      5580000                       37.31   \n",
       "2  Taipei   文山區      住家用          住     18280000                      123.66   \n",
       "3  Taipei   文山區      住家用          住      8000000                      124.25   \n",
       "4  Taipei   文山區      住家用          住      2200000                       30.16   \n",
       "\n",
       "   main_building_area    tx_dt  unit_price  room_number  hall_number  \\\n",
       "0              110.91  1090406    156583.0            3            2   \n",
       "1               24.58  1090317    149558.0            2            1   \n",
       "2               98.74  1090328    147825.0            3            2   \n",
       "3               90.78  1090417     64386.0            3            1   \n",
       "4               26.15  1090417     72944.0            5            2   \n",
       "\n",
       "   health_number  tx_dt_year  building_area_square_feet  \\\n",
       "0              2         109                  69.547775   \n",
       "1              1         109                  11.286275   \n",
       "2              2         109                  37.407150   \n",
       "3              2         109                  37.585625   \n",
       "4              2         109                   9.123400   \n",
       "\n",
       "   main_building_area_square_feet  unit_price_square_feet  \n",
       "0                       33.550275           517629.752066  \n",
       "1                        7.435450           494406.611570  \n",
       "2                       29.868850           488677.685950  \n",
       "3                       27.460950           212846.280992  \n",
       "4                        7.910375           241137.190083  "
      ]
     },
     "execution_count": 99,
     "metadata": {},
     "output_type": "execute_result"
    }
   ],
   "source": [
    "data.head()"
   ]
  },
  {
   "cell_type": "code",
   "execution_count": 98,
   "metadata": {},
   "outputs": [
    {
     "data": {
      "text/html": [
       "<div>\n",
       "<style scoped>\n",
       "    .dataframe tbody tr th:only-of-type {\n",
       "        vertical-align: middle;\n",
       "    }\n",
       "\n",
       "    .dataframe tbody tr th {\n",
       "        vertical-align: top;\n",
       "    }\n",
       "\n",
       "    .dataframe thead th {\n",
       "        text-align: right;\n",
       "    }\n",
       "</style>\n",
       "<table border=\"1\" class=\"dataframe\">\n",
       "  <thead>\n",
       "    <tr style=\"text-align: right;\">\n",
       "      <th></th>\n",
       "      <th>total_price</th>\n",
       "      <th>unit_price_square_feet</th>\n",
       "    </tr>\n",
       "  </thead>\n",
       "  <tbody>\n",
       "    <tr>\n",
       "      <th>total_price</th>\n",
       "      <td>1.000000</td>\n",
       "      <td>0.581290</td>\n",
       "    </tr>\n",
       "    <tr>\n",
       "      <th>building_area_square_meter</th>\n",
       "      <td>0.864627</td>\n",
       "      <td>0.218185</td>\n",
       "    </tr>\n",
       "    <tr>\n",
       "      <th>main_building_area</th>\n",
       "      <td>0.710515</td>\n",
       "      <td>0.112488</td>\n",
       "    </tr>\n",
       "    <tr>\n",
       "      <th>unit_price</th>\n",
       "      <td>0.581290</td>\n",
       "      <td>1.000000</td>\n",
       "    </tr>\n",
       "    <tr>\n",
       "      <th>room_number</th>\n",
       "      <td>0.326441</td>\n",
       "      <td>-0.100062</td>\n",
       "    </tr>\n",
       "    <tr>\n",
       "      <th>hall_number</th>\n",
       "      <td>0.270787</td>\n",
       "      <td>0.004883</td>\n",
       "    </tr>\n",
       "    <tr>\n",
       "      <th>health_number</th>\n",
       "      <td>0.598832</td>\n",
       "      <td>0.128217</td>\n",
       "    </tr>\n",
       "    <tr>\n",
       "      <th>tx_dt_year</th>\n",
       "      <td>NaN</td>\n",
       "      <td>NaN</td>\n",
       "    </tr>\n",
       "    <tr>\n",
       "      <th>building_area_square_feet</th>\n",
       "      <td>0.864627</td>\n",
       "      <td>0.218185</td>\n",
       "    </tr>\n",
       "    <tr>\n",
       "      <th>main_building_area_square_feet</th>\n",
       "      <td>0.710515</td>\n",
       "      <td>0.112488</td>\n",
       "    </tr>\n",
       "    <tr>\n",
       "      <th>unit_price_square_feet</th>\n",
       "      <td>0.581290</td>\n",
       "      <td>1.000000</td>\n",
       "    </tr>\n",
       "  </tbody>\n",
       "</table>\n",
       "</div>"
      ],
      "text/plain": [
       "                                total_price  unit_price_square_feet\n",
       "total_price                        1.000000                0.581290\n",
       "building_area_square_meter         0.864627                0.218185\n",
       "main_building_area                 0.710515                0.112488\n",
       "unit_price                         0.581290                1.000000\n",
       "room_number                        0.326441               -0.100062\n",
       "hall_number                        0.270787                0.004883\n",
       "health_number                      0.598832                0.128217\n",
       "tx_dt_year                              NaN                     NaN\n",
       "building_area_square_feet          0.864627                0.218185\n",
       "main_building_area_square_feet     0.710515                0.112488\n",
       "unit_price_square_feet             0.581290                1.000000"
      ]
     },
     "execution_count": 98,
     "metadata": {},
     "output_type": "execute_result"
    }
   ],
   "source": [
    "data.loc[data.city=='Taipei'].corr()[['total_price','unit_price_square_feet']]"
   ]
  },
  {
   "cell_type": "code",
   "execution_count": 101,
   "metadata": {
    "id": "UZyUNLQzAtpm"
   },
   "outputs": [
    {
     "data": {
      "text/html": [
       "<div>\n",
       "<style scoped>\n",
       "    .dataframe tbody tr th:only-of-type {\n",
       "        vertical-align: middle;\n",
       "    }\n",
       "\n",
       "    .dataframe tbody tr th {\n",
       "        vertical-align: top;\n",
       "    }\n",
       "\n",
       "    .dataframe thead th {\n",
       "        text-align: right;\n",
       "    }\n",
       "</style>\n",
       "<table border=\"1\" class=\"dataframe\">\n",
       "  <thead>\n",
       "    <tr style=\"text-align: right;\">\n",
       "      <th></th>\n",
       "      <th>total_price</th>\n",
       "      <th>building_area_square_meter</th>\n",
       "      <th>main_building_area</th>\n",
       "      <th>unit_price</th>\n",
       "      <th>room_number</th>\n",
       "      <th>hall_number</th>\n",
       "      <th>health_number</th>\n",
       "      <th>tx_dt_year</th>\n",
       "      <th>building_area_square_feet</th>\n",
       "      <th>main_building_area_square_feet</th>\n",
       "      <th>unit_price_square_feet</th>\n",
       "    </tr>\n",
       "  </thead>\n",
       "  <tbody>\n",
       "    <tr>\n",
       "      <th>total_price</th>\n",
       "      <td>1.000000</td>\n",
       "      <td>0.864627</td>\n",
       "      <td>0.710515</td>\n",
       "      <td>0.581290</td>\n",
       "      <td>0.326441</td>\n",
       "      <td>0.270787</td>\n",
       "      <td>0.598832</td>\n",
       "      <td>NaN</td>\n",
       "      <td>0.864627</td>\n",
       "      <td>0.710515</td>\n",
       "      <td>0.581290</td>\n",
       "    </tr>\n",
       "    <tr>\n",
       "      <th>building_area_square_meter</th>\n",
       "      <td>0.864627</td>\n",
       "      <td>1.000000</td>\n",
       "      <td>0.836623</td>\n",
       "      <td>0.218185</td>\n",
       "      <td>0.487387</td>\n",
       "      <td>0.380457</td>\n",
       "      <td>0.699273</td>\n",
       "      <td>NaN</td>\n",
       "      <td>1.000000</td>\n",
       "      <td>0.836623</td>\n",
       "      <td>0.218185</td>\n",
       "    </tr>\n",
       "    <tr>\n",
       "      <th>main_building_area</th>\n",
       "      <td>0.710515</td>\n",
       "      <td>0.836623</td>\n",
       "      <td>1.000000</td>\n",
       "      <td>0.112488</td>\n",
       "      <td>0.635121</td>\n",
       "      <td>0.466330</td>\n",
       "      <td>0.659784</td>\n",
       "      <td>NaN</td>\n",
       "      <td>0.836623</td>\n",
       "      <td>1.000000</td>\n",
       "      <td>0.112488</td>\n",
       "    </tr>\n",
       "    <tr>\n",
       "      <th>unit_price</th>\n",
       "      <td>0.581290</td>\n",
       "      <td>0.218185</td>\n",
       "      <td>0.112488</td>\n",
       "      <td>1.000000</td>\n",
       "      <td>-0.100062</td>\n",
       "      <td>0.004883</td>\n",
       "      <td>0.128217</td>\n",
       "      <td>NaN</td>\n",
       "      <td>0.218185</td>\n",
       "      <td>0.112488</td>\n",
       "      <td>1.000000</td>\n",
       "    </tr>\n",
       "    <tr>\n",
       "      <th>room_number</th>\n",
       "      <td>0.326441</td>\n",
       "      <td>0.487387</td>\n",
       "      <td>0.635121</td>\n",
       "      <td>-0.100062</td>\n",
       "      <td>1.000000</td>\n",
       "      <td>0.509526</td>\n",
       "      <td>0.544684</td>\n",
       "      <td>NaN</td>\n",
       "      <td>0.487387</td>\n",
       "      <td>0.635121</td>\n",
       "      <td>-0.100062</td>\n",
       "    </tr>\n",
       "    <tr>\n",
       "      <th>hall_number</th>\n",
       "      <td>0.270787</td>\n",
       "      <td>0.380457</td>\n",
       "      <td>0.466330</td>\n",
       "      <td>0.004883</td>\n",
       "      <td>0.509526</td>\n",
       "      <td>1.000000</td>\n",
       "      <td>0.405550</td>\n",
       "      <td>NaN</td>\n",
       "      <td>0.380457</td>\n",
       "      <td>0.466330</td>\n",
       "      <td>0.004883</td>\n",
       "    </tr>\n",
       "    <tr>\n",
       "      <th>health_number</th>\n",
       "      <td>0.598832</td>\n",
       "      <td>0.699273</td>\n",
       "      <td>0.659784</td>\n",
       "      <td>0.128217</td>\n",
       "      <td>0.544684</td>\n",
       "      <td>0.405550</td>\n",
       "      <td>1.000000</td>\n",
       "      <td>NaN</td>\n",
       "      <td>0.699273</td>\n",
       "      <td>0.659784</td>\n",
       "      <td>0.128217</td>\n",
       "    </tr>\n",
       "    <tr>\n",
       "      <th>tx_dt_year</th>\n",
       "      <td>NaN</td>\n",
       "      <td>NaN</td>\n",
       "      <td>NaN</td>\n",
       "      <td>NaN</td>\n",
       "      <td>NaN</td>\n",
       "      <td>NaN</td>\n",
       "      <td>NaN</td>\n",
       "      <td>NaN</td>\n",
       "      <td>NaN</td>\n",
       "      <td>NaN</td>\n",
       "      <td>NaN</td>\n",
       "    </tr>\n",
       "    <tr>\n",
       "      <th>building_area_square_feet</th>\n",
       "      <td>0.864627</td>\n",
       "      <td>1.000000</td>\n",
       "      <td>0.836623</td>\n",
       "      <td>0.218185</td>\n",
       "      <td>0.487387</td>\n",
       "      <td>0.380457</td>\n",
       "      <td>0.699273</td>\n",
       "      <td>NaN</td>\n",
       "      <td>1.000000</td>\n",
       "      <td>0.836623</td>\n",
       "      <td>0.218185</td>\n",
       "    </tr>\n",
       "    <tr>\n",
       "      <th>main_building_area_square_feet</th>\n",
       "      <td>0.710515</td>\n",
       "      <td>0.836623</td>\n",
       "      <td>1.000000</td>\n",
       "      <td>0.112488</td>\n",
       "      <td>0.635121</td>\n",
       "      <td>0.466330</td>\n",
       "      <td>0.659784</td>\n",
       "      <td>NaN</td>\n",
       "      <td>0.836623</td>\n",
       "      <td>1.000000</td>\n",
       "      <td>0.112488</td>\n",
       "    </tr>\n",
       "    <tr>\n",
       "      <th>unit_price_square_feet</th>\n",
       "      <td>0.581290</td>\n",
       "      <td>0.218185</td>\n",
       "      <td>0.112488</td>\n",
       "      <td>1.000000</td>\n",
       "      <td>-0.100062</td>\n",
       "      <td>0.004883</td>\n",
       "      <td>0.128217</td>\n",
       "      <td>NaN</td>\n",
       "      <td>0.218185</td>\n",
       "      <td>0.112488</td>\n",
       "      <td>1.000000</td>\n",
       "    </tr>\n",
       "  </tbody>\n",
       "</table>\n",
       "</div>"
      ],
      "text/plain": [
       "                                total_price  building_area_square_meter  \\\n",
       "total_price                        1.000000                    0.864627   \n",
       "building_area_square_meter         0.864627                    1.000000   \n",
       "main_building_area                 0.710515                    0.836623   \n",
       "unit_price                         0.581290                    0.218185   \n",
       "room_number                        0.326441                    0.487387   \n",
       "hall_number                        0.270787                    0.380457   \n",
       "health_number                      0.598832                    0.699273   \n",
       "tx_dt_year                              NaN                         NaN   \n",
       "building_area_square_feet          0.864627                    1.000000   \n",
       "main_building_area_square_feet     0.710515                    0.836623   \n",
       "unit_price_square_feet             0.581290                    0.218185   \n",
       "\n",
       "                                main_building_area  unit_price  room_number  \\\n",
       "total_price                               0.710515    0.581290     0.326441   \n",
       "building_area_square_meter                0.836623    0.218185     0.487387   \n",
       "main_building_area                        1.000000    0.112488     0.635121   \n",
       "unit_price                                0.112488    1.000000    -0.100062   \n",
       "room_number                               0.635121   -0.100062     1.000000   \n",
       "hall_number                               0.466330    0.004883     0.509526   \n",
       "health_number                             0.659784    0.128217     0.544684   \n",
       "tx_dt_year                                     NaN         NaN          NaN   \n",
       "building_area_square_feet                 0.836623    0.218185     0.487387   \n",
       "main_building_area_square_feet            1.000000    0.112488     0.635121   \n",
       "unit_price_square_feet                    0.112488    1.000000    -0.100062   \n",
       "\n",
       "                                hall_number  health_number  tx_dt_year  \\\n",
       "total_price                        0.270787       0.598832         NaN   \n",
       "building_area_square_meter         0.380457       0.699273         NaN   \n",
       "main_building_area                 0.466330       0.659784         NaN   \n",
       "unit_price                         0.004883       0.128217         NaN   \n",
       "room_number                        0.509526       0.544684         NaN   \n",
       "hall_number                        1.000000       0.405550         NaN   \n",
       "health_number                      0.405550       1.000000         NaN   \n",
       "tx_dt_year                              NaN            NaN         NaN   \n",
       "building_area_square_feet          0.380457       0.699273         NaN   \n",
       "main_building_area_square_feet     0.466330       0.659784         NaN   \n",
       "unit_price_square_feet             0.004883       0.128217         NaN   \n",
       "\n",
       "                                building_area_square_feet  \\\n",
       "total_price                                      0.864627   \n",
       "building_area_square_meter                       1.000000   \n",
       "main_building_area                               0.836623   \n",
       "unit_price                                       0.218185   \n",
       "room_number                                      0.487387   \n",
       "hall_number                                      0.380457   \n",
       "health_number                                    0.699273   \n",
       "tx_dt_year                                            NaN   \n",
       "building_area_square_feet                        1.000000   \n",
       "main_building_area_square_feet                   0.836623   \n",
       "unit_price_square_feet                           0.218185   \n",
       "\n",
       "                                main_building_area_square_feet  \\\n",
       "total_price                                           0.710515   \n",
       "building_area_square_meter                            0.836623   \n",
       "main_building_area                                    1.000000   \n",
       "unit_price                                            0.112488   \n",
       "room_number                                           0.635121   \n",
       "hall_number                                           0.466330   \n",
       "health_number                                         0.659784   \n",
       "tx_dt_year                                                 NaN   \n",
       "building_area_square_feet                             0.836623   \n",
       "main_building_area_square_feet                        1.000000   \n",
       "unit_price_square_feet                                0.112488   \n",
       "\n",
       "                                unit_price_square_feet  \n",
       "total_price                                   0.581290  \n",
       "building_area_square_meter                    0.218185  \n",
       "main_building_area                            0.112488  \n",
       "unit_price                                    1.000000  \n",
       "room_number                                  -0.100062  \n",
       "hall_number                                   0.004883  \n",
       "health_number                                 0.128217  \n",
       "tx_dt_year                                         NaN  \n",
       "building_area_square_feet                     0.218185  \n",
       "main_building_area_square_feet                0.112488  \n",
       "unit_price_square_feet                        1.000000  "
      ]
     },
     "execution_count": 101,
     "metadata": {},
     "output_type": "execute_result"
    }
   ],
   "source": [
    "data_alice1 = data[data['city']=='Taipei']\n",
    "price_corr = data_alice1.corr()\n",
    "\n",
    "price_corr"
   ]
  },
  {
   "cell_type": "code",
   "execution_count": 102,
   "metadata": {},
   "outputs": [
    {
     "data": {
      "text/plain": [
       "array([[False, False, False, False, False, False, False, False, False,\n",
       "        False, False],\n",
       "       [False, False, False, False, False, False, False, False, False,\n",
       "        False, False],\n",
       "       [False, False, False, False, False, False, False, False, False,\n",
       "        False, False],\n",
       "       [False, False, False, False, False, False, False, False, False,\n",
       "        False, False],\n",
       "       [False, False, False, False, False, False, False, False, False,\n",
       "        False, False],\n",
       "       [False, False, False, False, False, False, False, False, False,\n",
       "        False, False],\n",
       "       [False, False, False, False, False, False, False, False, False,\n",
       "        False, False],\n",
       "       [False, False, False, False, False, False, False, False, False,\n",
       "        False, False],\n",
       "       [False, False, False, False, False, False, False, False, False,\n",
       "        False, False],\n",
       "       [False, False, False, False, False, False, False, False, False,\n",
       "        False, False],\n",
       "       [False, False, False, False, False, False, False, False, False,\n",
       "        False, False]])"
      ]
     },
     "execution_count": 102,
     "metadata": {},
     "output_type": "execute_result"
    }
   ],
   "source": [
    "import numpy as np\n",
    "\n",
    "price_mask = np.zeros_like(price_corr, dtype=np.bool)   #相關係數非0者繪製熱力圖\n",
    "# https://numpy.org/doc/stable/reference/generated/numpy.zeros_like.html\n",
    "\n",
    "price_mask"
   ]
  },
  {
   "cell_type": "code",
   "execution_count": 103,
   "metadata": {},
   "outputs": [
    {
     "data": {
      "text/plain": [
       "array([[ True,  True,  True,  True,  True,  True,  True,  True,  True,\n",
       "         True,  True],\n",
       "       [False,  True,  True,  True,  True,  True,  True,  True,  True,\n",
       "         True,  True],\n",
       "       [False, False,  True,  True,  True,  True,  True,  True,  True,\n",
       "         True,  True],\n",
       "       [False, False, False,  True,  True,  True,  True,  True,  True,\n",
       "         True,  True],\n",
       "       [False, False, False, False,  True,  True,  True,  True,  True,\n",
       "         True,  True],\n",
       "       [False, False, False, False, False,  True,  True,  True,  True,\n",
       "         True,  True],\n",
       "       [False, False, False, False, False, False,  True,  True,  True,\n",
       "         True,  True],\n",
       "       [False, False, False, False, False, False, False,  True,  True,\n",
       "         True,  True],\n",
       "       [False, False, False, False, False, False, False, False,  True,\n",
       "         True,  True],\n",
       "       [False, False, False, False, False, False, False, False, False,\n",
       "         True,  True],\n",
       "       [False, False, False, False, False, False, False, False, False,\n",
       "        False,  True]])"
      ]
     },
     "execution_count": 103,
     "metadata": {},
     "output_type": "execute_result"
    }
   ],
   "source": [
    "price_mask[np.triu_indices_from(price_mask)] = True   #繪製下三角形的熱力圖\n",
    "# https://numpy.org/devdocs/reference/generated/numpy.triu_indices_from.html\n",
    "\n",
    "price_mask"
   ]
  },
  {
   "cell_type": "code",
   "execution_count": 104,
   "metadata": {},
   "outputs": [
    {
     "data": {
      "image/png": "[encoded data removed]",
      "text/plain": [
       "<Figure size 720x504 with 2 Axes>"
      ]
     },
     "metadata": {
      "needs_background": "light"
     },
     "output_type": "display_data"
    }
   ],
   "source": [
    "import matplotlib.pyplot as plt\n",
    "import seaborn as sns\n",
    "\n",
    "fig, ax = plt.subplots(figsize=(10, 7))\n",
    "\n",
    "pl = sns.heatmap(price_corr,\n",
    "                 mask=price_mask,\n",
    "                 cmap= \"coolwarm\",\n",
    "                 vmax=1.0, vmin=-1.0, center=0, linewidths=.5,\n",
    "                 cbar_kws={\"shrink\": 0.8})\n",
    "\n",
    "plt.show()"
   ]
  },
  {
   "cell_type": "markdown",
   "metadata": {
    "id": "-y15EpRMAtpm"
   },
   "source": [
    "# 5. 資料視覺化並解釋\n"
   ]
  },
  {
   "cell_type": "markdown",
   "metadata": {
    "id": "TuAbtSFfAtpn"
   },
   "source": [
    "我想要以視覺化的方式來看房價資料，並且請各位資料科學家解釋圖表給阿宏我知道\n",
    "1. 以城市(city)為x軸，以單價元坪(unit_price_square_feet)為y軸畫出boxplot，並找出單價元坪(unit_price_square_feet)中位數最高的地區\n",
    "2. 進一步對台北市的資料做圖，以建物現況格局-房(room_number)為x軸，以總價元(total_price)為y軸畫出boxplot，並找出總價元(total_price)中位數最高的房間數。hint:資料切片找出city欄位為台北市的資料，再進一步畫圖\n",
    "3. 對台北市的資料做圖，先將地區(towns)做編碼在進行，再以地區(town)為x軸，以單價元坪(unit_price_square_feet)為y軸畫出boxplot，並找出單價元坪(unit_price_square_feet)中位數最高的地區。hint:運用LabelEncoder()對地區(twons)做編碼，運用.inverse_transform()反查編碼的地區"
   ]
  },
  {
   "cell_type": "code",
   "execution_count": 111,
   "metadata": {},
   "outputs": [
    {
     "data": {
      "text/plain": [
       "{'鄉鎮市區': 'towns',\n",
       " '交易標的': 'transaction_sign',\n",
       " '土地區段位置建物區段門牌': 'house_number',\n",
       " '土地移轉總面積平方公尺': 'land_area_square_meter',\n",
       " '都市土地使用分區': 'use_zoning',\n",
       " '非都市土地使用分區': 'land_use_district',\n",
       " '非都市土地使用編定': 'land_use',\n",
       " '交易年月日': 'tx_dt',\n",
       " '交易筆棟數': 'transaction_pen_number',\n",
       " '移轉層次': 'shifting_level',\n",
       " '總樓層數': 'total_floor_number',\n",
       " '建物型態': 'building_state',\n",
       " '主要用途': 'main_use',\n",
       " '主要建材': 'main_materials',\n",
       " '建築完成年月': 'complete_date',\n",
       " '建物移轉總面積平方公尺': 'building_area_square_meter',\n",
       " '建物現況格局-房': 'room_number',\n",
       " '建物現況格局-廳': 'hall_number',\n",
       " '建物現況格局-衛': 'health_number',\n",
       " '建物現況格局-隔間': 'compartmented_number',\n",
       " '有無管理組織': 'manages',\n",
       " '總價元': 'total_price',\n",
       " '單價元平方公尺': 'unit_price',\n",
       " '車位類別': 'berth_category',\n",
       " '車位移轉總面積(平方公尺)': 'berth_area_square_meter',\n",
       " '車位總價元': 'berth_price',\n",
       " '備註': 'note',\n",
       " '編號': 'serial_number',\n",
       " '主建物面積': 'main_building_area',\n",
       " '附屬建物面積': 'auxiliary_building_area',\n",
       " '陽台面積': 'balcony_area',\n",
       " '電梯': 'elevator'}"
      ]
     },
     "execution_count": 111,
     "metadata": {},
     "output_type": "execute_result"
    }
   ],
   "source": [
    "columns_mapping"
   ]
  },
  {
   "cell_type": "code",
   "execution_count": 105,
   "metadata": {},
   "outputs": [
    {
     "data": {
      "text/plain": [
       "<matplotlib.axes._subplots.AxesSubplot at 0x1f17eadb3a0>"
      ]
     },
     "execution_count": 105,
     "metadata": {},
     "output_type": "execute_result"
    },
    {
     "data": {
      "image/png": "[encoded data removed]",
      "text/plain": [
       "<Figure size 1152x432 with 1 Axes>"
      ]
     },
     "metadata": {
      "needs_background": "light"
     },
     "output_type": "display_data"
    }
   ],
   "source": [
    "#1. 以城市(city)為x軸，以單價元坪(unit_price_square_feet)為y軸畫出boxplot，並找出單價元坪(unit_price_square_feet)中位數最高的地區\n",
    "\n",
    "analysis_data.boxplot(column=['unit_price_square_feet'],\n",
    "                      by='city',\n",
    "                      figsize=(16,6))\n",
    "\n",
    "#單價元坪(unit_price_square_feet)中位數最高的地區:台北市"
   ]
  },
  {
   "cell_type": "code",
   "execution_count": 109,
   "metadata": {},
   "outputs": [
    {
     "data": {
      "text/plain": [
       "<matplotlib.axes._subplots.AxesSubplot at 0x1f17e8a5f40>"
      ]
     },
     "execution_count": 109,
     "metadata": {},
     "output_type": "execute_result"
    },
    {
     "data": {
      "image/png": "[encoded data removed]",
      "text/plain": [
       "<Figure size 1152x432 with 1 Axes>"
      ]
     },
     "metadata": {
      "needs_background": "light"
     },
     "output_type": "display_data"
    }
   ],
   "source": [
    "# 2. 進一步對台北市的資料做圖，以建物現況格局-房(room_number)為x軸，以總價元(total_price)為y軸畫出boxplot，並找出總價元(total_price)中位數最高的房間數。\n",
    "# hint:資料切片找出city欄位為台北市的資料，再進一步畫圖\n",
    "\n",
    "analysis_data.loc[analysis_data['city']=='Taipei'].boxplot(column = ['total_price'],\n",
    "                     by = 'room_number',\n",
    "                     figsize = (16,6))\n",
    "\n",
    "#總價元(total_price)中位數最高的房間數:5間\n"
   ]
  },
  {
   "cell_type": "code",
   "execution_count": 112,
   "metadata": {},
   "outputs": [
    {
     "data": {
      "text/plain": [
       "array(['文山區', '文山區', '文山區', ..., '三重區', '汐止區', '泰山區'], dtype=object)"
      ]
     },
     "execution_count": 112,
     "metadata": {},
     "output_type": "execute_result"
    }
   ],
   "source": [
    "data['towns'].values"
   ]
  },
  {
   "cell_type": "code",
   "execution_count": 120,
   "metadata": {},
   "outputs": [
    {
     "data": {
      "text/plain": [
       "0    39\n",
       "1    39\n",
       "2    39\n",
       "3    39\n",
       "4    39\n",
       "5    39\n",
       "6    25\n",
       "7    72\n",
       "8    72\n",
       "9     7\n",
       "Name: towns_encoded, dtype: int32"
      ]
     },
     "execution_count": 120,
     "metadata": {},
     "output_type": "execute_result"
    }
   ],
   "source": [
    "#3. 對台北市的資料做圖，先將地區(twons)做編碼在進行，再以地區(twon)為x軸，以單價元坪(unit_price_square_feet)為y軸畫出boxplot，並找出單價元坪(unit_price_square_feet)中位數最高的地區。\n",
    "#hint:運用LabelEncoder()對地區(twons)做編碼，運用.inverse_transform()反查編碼的地區\n",
    "\n",
    "from sklearn.preprocessing import LabelEncoder\n",
    "le = LabelEncoder().fit(data['towns'].values)\n",
    "data['towns_encoded'] = le.transform(data['towns'].values)\n",
    "data['towns_encoded'].head(10)\n"
   ]
  },
  {
   "cell_type": "code",
   "execution_count": 125,
   "metadata": {},
   "outputs": [
    {
     "name": "stdout",
     "output_type": "stream",
     "text": [
      "['大安區']\n"
     ]
    },
    {
     "data": {
      "image/png": "[encoded data removed]",
      "text/plain": [
       "<Figure size 1152x432 with 1 Axes>"
      ]
     },
     "metadata": {
      "needs_background": "light"
     },
     "output_type": "display_data"
    }
   ],
   "source": [
    "data[data.city=='Taipei'].boxplot(column=['unit_price_square_feet'],\n",
    "                                 by = 'towns_encoded',\n",
    "                                 figsize=(16,6))\n",
    "\n",
    "\n",
    "#價元坪(unit_price_square_feet)中位數最高的地區:26(大安區)\n",
    "\n",
    "print(le.inverse_transform([26]))"
   ]
  },
  {
   "cell_type": "code",
   "execution_count": null,
   "metadata": {},
   "outputs": [],
   "source": []
  }
 ],
 "metadata": {
  "colab": {
   "name": "不動產分析_習題.ipynb",
   "provenance": []
  },
  "kernelspec": {
   "display_name": "Python 3",
   "language": "python",
   "name": "python3"
  },
  "language_info": {
   "codemirror_mode": {
    "name": "ipython",
    "version": 3
   },
   "file_extension": ".py",
   "mimetype": "text/x-python",
   "name": "python",
   "nbconvert_exporter": "python",
   "pygments_lexer": "ipython3",
   "version": "3.8.3"
  }
 },
 "nbformat": 4,
 "nbformat_minor": 1
}
