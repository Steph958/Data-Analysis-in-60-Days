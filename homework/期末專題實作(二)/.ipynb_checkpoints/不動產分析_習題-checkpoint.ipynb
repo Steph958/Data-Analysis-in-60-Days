{
 "cells": [
  {
   "cell_type": "markdown",
   "metadata": {
    "id": "ecrVHDiuAto7"
   },
   "source": [
    "哈摟，各位資料科學家大家好，我是來自於台北市\"頭期款不足\"的阿宏，我想買房子很久了，但是不知道要買哪個地方，想先從內政部不動產交易時價登入資料中先了解行情，我現在手邊蒐集了台北市Taipei(A_lvr_land_A.csv)、新北市New_Taipei(F_lvr_land_A.csv)、台中市Taichung(B_lvr_land_A.csv)、高雄市Kaohsiung(E_lvr_land_A.csv)共四份資料，請各位資料科學家幫幫忙分析了。"
   ]
  },
  {
   "cell_type": "markdown",
   "metadata": {
    "id": "9_PILIgwAtpW"
   },
   "source": [
    "# 1.不動產資料檔案讀取並串接"
   ]
  },
  {
   "cell_type": "markdown",
   "metadata": {
    "id": "54hz4CgWAtpX"
   },
   "source": [
    "資料分散在4個資料，先合併成一個資料方便後續分析，但是我發現有英文欄位跟中文欄位，留下中文刪除英文，並加入新的欄位用以分辨台北市Taipei、新北市New_Taipei、台中市Taichung、高雄市Kaohsiung"
   ]
  },
  {
   "cell_type": "markdown",
   "metadata": {
    "id": "UAgGy_owAtpY"
   },
   "source": [
    "1. 利用Pandas中的pd.read_csv()分別讀取A_lvr_land_A.csv、B_lvr_land_A.csv、E_lvr_land_A.csv、F_lvr_land_A.csv\n",
    "2. 刪除csv中第二列英文翻譯，The villages and towns urban district,transaction sign,land sector position building sector house number plate,land shifting total area square meter,....\n",
    "3. 生成city欄位其中以地區分類台北市Taipei(A_lvr_land_A.csv)、新北市New_Taipei(F_lvr_land_A.csv)、台中市Taichung(B_lvr_land_A.csv)、高雄市Kaohsiung(E_lvr_land_A.csv)\n",
    "4. 將以上四份資料運用pd.concat()串接"
   ]
  },
  {
   "cell_type": "code",
   "execution_count": 1,
   "metadata": {
    "id": "AtdUcGYAAtpY"
   },
   "outputs": [],
   "source": [
    "import pandas as pd "
   ]
  },
  {
   "cell_type": "code",
   "execution_count": 2,
   "metadata": {
    "id": "qaBwVWbkAtpZ"
   },
   "outputs": [
    {
     "name": "stderr",
     "output_type": "stream",
     "text": [
      "C:\\Users\\vincentLee1231995\\Anaconda3\\lib\\site-packages\\IPython\\core\\interactiveshell.py:3071: DtypeWarning: Columns (3,7,14,15,16,17,18,21,22,24,25) have mixed types.Specify dtype option on import or set low_memory=False.\n",
      "  has_raised = await self.run_ast_nodes(code_ast.body, cell_name,\n"
     ]
    }
   ],
   "source": [
    "#1.利用Pandas中的pd.read_csv()分別讀取A_lvr_land_A.csv、B_lvr_land_A.csv、E_lvr_land_A.csv、F_lvr_land_A.csv\n",
    "data_AA = pd.read_csv('./A_lvr_land_A.csv')\n",
    "data_BA = pd.read_csv('./B_lvr_land_A.csv')\n",
    "data_EA = pd.read_csv('./E_lvr_land_A.csv')\n",
    "data_FA = pd.read_csv('./F_lvr_land_A.csv')"
   ]
  },
  {
   "cell_type": "code",
   "execution_count": 3,
   "metadata": {},
   "outputs": [],
   "source": [
    "#data_AA.info()"
   ]
  },
  {
   "cell_type": "code",
   "execution_count": 4,
   "metadata": {},
   "outputs": [],
   "source": [
    "#data_BA.info()"
   ]
  },
  {
   "cell_type": "code",
   "execution_count": 5,
   "metadata": {},
   "outputs": [],
   "source": [
    "#data_EA.info()"
   ]
  },
  {
   "cell_type": "code",
   "execution_count": 6,
   "metadata": {},
   "outputs": [],
   "source": [
    "#data_FA.info()"
   ]
  },
  {
   "cell_type": "code",
   "execution_count": 7,
   "metadata": {},
   "outputs": [
    {
     "name": "stdout",
     "output_type": "stream",
     "text": [
      "8842\n",
      "16685\n",
      "14134\n",
      "19819\n"
     ]
    }
   ],
   "source": [
    "print(len(data_AA))\n",
    "print(len(data_BA))\n",
    "print(len(data_EA))\n",
    "print(len(data_FA))"
   ]
  },
  {
   "cell_type": "code",
   "execution_count": 8,
   "metadata": {
    "id": "ulv52OOeAtpZ"
   },
   "outputs": [
    {
     "name": "stdout",
     "output_type": "stream",
     "text": [
      "8841\n",
      "16684\n",
      "14133\n",
      "19818\n"
     ]
    }
   ],
   "source": [
    "#2.刪除csv中第二列英文翻譯，The villages and towns urban district,transaction sign,land sector position building sector house number plate,land shifting total area square meter,....\n",
    "data_AA = data_AA.iloc[1:len(data_AA)]\n",
    "data_BA = data_BA.iloc[1:len(data_BA)]\n",
    "data_EA = data_EA.iloc[1:len(data_EA)]\n",
    "data_FA = data_FA.iloc[1:len(data_FA)]\n",
    "\n",
    "print(len(data_AA))\n",
    "print(len(data_BA))\n",
    "print(len(data_EA))\n",
    "print(len(data_FA))"
   ]
  },
  {
   "cell_type": "code",
   "execution_count": 9,
   "metadata": {},
   "outputs": [
    {
     "data": {
      "text/plain": [
       "59476"
      ]
     },
     "execution_count": 9,
     "metadata": {},
     "output_type": "execute_result"
    }
   ],
   "source": [
    "8841+16684+14133+19818"
   ]
  },
  {
   "cell_type": "code",
   "execution_count": 10,
   "metadata": {},
   "outputs": [],
   "source": [
    "data_AA_copy1 = data_AA.copy()"
   ]
  },
  {
   "cell_type": "code",
   "execution_count": 11,
   "metadata": {},
   "outputs": [
    {
     "name": "stdout",
     "output_type": "stream",
     "text": [
      "<class 'pandas.core.frame.DataFrame'>\n",
      "RangeIndex: 8841 entries, 1 to 8841\n",
      "Data columns (total 32 columns):\n",
      " #   Column         Non-Null Count  Dtype  \n",
      "---  ------         --------------  -----  \n",
      " 0   鄉鎮市區           8841 non-null   object \n",
      " 1   交易標的           8841 non-null   object \n",
      " 2   土地區段位置建物區段門牌   8841 non-null   object \n",
      " 3   土地移轉總面積平方公尺    8841 non-null   object \n",
      " 4   都市土地使用分區       8750 non-null   object \n",
      " 5   非都市土地使用分區      0 non-null      object \n",
      " 6   非都市土地使用編定      0 non-null      object \n",
      " 7   交易年月日          8841 non-null   object \n",
      " 8   交易筆棟數          8841 non-null   object \n",
      " 9   移轉層次           7764 non-null   object \n",
      " 10  總樓層數           7755 non-null   object \n",
      " 11  建物型態           8841 non-null   object \n",
      " 12  主要用途           7588 non-null   object \n",
      " 13  主要建材           7763 non-null   object \n",
      " 14  建築完成年月         7321 non-null   object \n",
      " 15  建物移轉總面積平方公尺    8841 non-null   object \n",
      " 16  建物現況格局-房       8841 non-null   object \n",
      " 17  建物現況格局-廳       8841 non-null   object \n",
      " 18  建物現況格局-衛       8841 non-null   object \n",
      " 19  建物現況格局-隔間      8841 non-null   object \n",
      " 20  有無管理組織         8841 non-null   object \n",
      " 21  總價元            8841 non-null   object \n",
      " 22  單價元平方公尺        8411 non-null   object \n",
      " 23  車位類別           2944 non-null   object \n",
      " 24  車位移轉總面積(平方公尺)  8841 non-null   object \n",
      " 25  車位總價元          8841 non-null   object \n",
      " 26  備註             5155 non-null   object \n",
      " 27  編號             8841 non-null   object \n",
      " 28  主建物面積          8841 non-null   float64\n",
      " 29  附屬建物面積         8841 non-null   float64\n",
      " 30  陽台面積           8841 non-null   float64\n",
      " 31  電梯             5184 non-null   object \n",
      "dtypes: float64(3), object(29)\n",
      "memory usage: 2.2+ MB\n"
     ]
    }
   ],
   "source": [
    "data_AA.info()"
   ]
  },
  {
   "cell_type": "code",
   "execution_count": 12,
   "metadata": {},
   "outputs": [],
   "source": [
    "#data_AA.head()"
   ]
  },
  {
   "cell_type": "code",
   "execution_count": 13,
   "metadata": {
    "id": "p7cqARS8Atpa"
   },
   "outputs": [],
   "source": [
    "#3. 生成city欄位其中以地區分類台北市Taipei(A_lvr_land_A.csv)、新北市New_Taipei(F_lvr_land_A.csv)、台中市Taichung(B_lvr_land_A.csv)、高雄市Kaohsiung(E_lvr_land_A.csv)\n",
    "data_AA.loc[:,'city'] = 'Taipei'"
   ]
  },
  {
   "cell_type": "code",
   "execution_count": 14,
   "metadata": {},
   "outputs": [
    {
     "data": {
      "text/html": [
       "<div>\n",
       "<style scoped>\n",
       "    .dataframe tbody tr th:only-of-type {\n",
       "        vertical-align: middle;\n",
       "    }\n",
       "\n",
       "    .dataframe tbody tr th {\n",
       "        vertical-align: top;\n",
       "    }\n",
       "\n",
       "    .dataframe thead th {\n",
       "        text-align: right;\n",
       "    }\n",
       "</style>\n",
       "<table border=\"1\" class=\"dataframe\">\n",
       "  <thead>\n",
       "    <tr style=\"text-align: right;\">\n",
       "      <th></th>\n",
       "      <th>鄉鎮市區</th>\n",
       "      <th>交易標的</th>\n",
       "      <th>土地區段位置建物區段門牌</th>\n",
       "      <th>土地移轉總面積平方公尺</th>\n",
       "      <th>都市土地使用分區</th>\n",
       "      <th>非都市土地使用分區</th>\n",
       "      <th>非都市土地使用編定</th>\n",
       "      <th>交易年月日</th>\n",
       "      <th>交易筆棟數</th>\n",
       "      <th>移轉層次</th>\n",
       "      <th>...</th>\n",
       "      <th>車位類別</th>\n",
       "      <th>車位移轉總面積(平方公尺)</th>\n",
       "      <th>車位總價元</th>\n",
       "      <th>備註</th>\n",
       "      <th>編號</th>\n",
       "      <th>主建物面積</th>\n",
       "      <th>附屬建物面積</th>\n",
       "      <th>陽台面積</th>\n",
       "      <th>電梯</th>\n",
       "      <th>city</th>\n",
       "    </tr>\n",
       "  </thead>\n",
       "  <tbody>\n",
       "    <tr>\n",
       "      <th>1</th>\n",
       "      <td>文山區</td>\n",
       "      <td>房地(土地+建物)+車位</td>\n",
       "      <td>臺北市文山區忠順街二段85巷1~30號</td>\n",
       "      <td>26.97</td>\n",
       "      <td>住</td>\n",
       "      <td>NaN</td>\n",
       "      <td>NaN</td>\n",
       "      <td>1090406</td>\n",
       "      <td>土地1建物1車位2</td>\n",
       "      <td>四層</td>\n",
       "      <td>...</td>\n",
       "      <td>坡道平面</td>\n",
       "      <td>40.7</td>\n",
       "      <td>0</td>\n",
       "      <td>含增建或未登記建物。;內含獨立產權車位，未包含在棟數內。</td>\n",
       "      <td>RPVOMLMKNHPFFAA18CA</td>\n",
       "      <td>110.91</td>\n",
       "      <td>9.63</td>\n",
       "      <td>11.09</td>\n",
       "      <td>NaN</td>\n",
       "      <td>Taipei</td>\n",
       "    </tr>\n",
       "    <tr>\n",
       "      <th>2</th>\n",
       "      <td>文山區</td>\n",
       "      <td>房地(土地+建物)</td>\n",
       "      <td>臺北市文山區福興路91~120號</td>\n",
       "      <td>10.32</td>\n",
       "      <td>住</td>\n",
       "      <td>NaN</td>\n",
       "      <td>NaN</td>\n",
       "      <td>1090317</td>\n",
       "      <td>土地1建物1車位0</td>\n",
       "      <td>三層</td>\n",
       "      <td>...</td>\n",
       "      <td>NaN</td>\n",
       "      <td>0.0</td>\n",
       "      <td>0</td>\n",
       "      <td>含增建或未登記建物。;</td>\n",
       "      <td>RPPPMLMKNHPFFAA67CA</td>\n",
       "      <td>24.58</td>\n",
       "      <td>1.28</td>\n",
       "      <td>2.30</td>\n",
       "      <td>NaN</td>\n",
       "      <td>Taipei</td>\n",
       "    </tr>\n",
       "    <tr>\n",
       "      <th>3</th>\n",
       "      <td>文山區</td>\n",
       "      <td>房地(土地+建物)</td>\n",
       "      <td>臺北市文山區木柵路四段121~150號</td>\n",
       "      <td>39.64</td>\n",
       "      <td>其他</td>\n",
       "      <td>NaN</td>\n",
       "      <td>NaN</td>\n",
       "      <td>1090418</td>\n",
       "      <td>土地2建物1車位0</td>\n",
       "      <td>六層</td>\n",
       "      <td>...</td>\n",
       "      <td>NaN</td>\n",
       "      <td>0.0</td>\n",
       "      <td>0</td>\n",
       "      <td>NaN</td>\n",
       "      <td>RPSPMLMKNHPFFAA97CA</td>\n",
       "      <td>78.80</td>\n",
       "      <td>4.15</td>\n",
       "      <td>8.76</td>\n",
       "      <td>NaN</td>\n",
       "      <td>Taipei</td>\n",
       "    </tr>\n",
       "    <tr>\n",
       "      <th>4</th>\n",
       "      <td>中正區</td>\n",
       "      <td>房地(土地+建物)</td>\n",
       "      <td>臺北市中正區和平西路一段31~60號</td>\n",
       "      <td>4.26</td>\n",
       "      <td>商</td>\n",
       "      <td>NaN</td>\n",
       "      <td>NaN</td>\n",
       "      <td>1090413</td>\n",
       "      <td>土地2建物1車位0</td>\n",
       "      <td>九層</td>\n",
       "      <td>...</td>\n",
       "      <td>NaN</td>\n",
       "      <td>0.0</td>\n",
       "      <td>0</td>\n",
       "      <td>含增建或未登記建物。;</td>\n",
       "      <td>RPPOMLMKNHPFFAA57CA</td>\n",
       "      <td>18.34</td>\n",
       "      <td>0.00</td>\n",
       "      <td>6.45</td>\n",
       "      <td>NaN</td>\n",
       "      <td>Taipei</td>\n",
       "    </tr>\n",
       "    <tr>\n",
       "      <th>5</th>\n",
       "      <td>文山區</td>\n",
       "      <td>房地(土地+建物)</td>\n",
       "      <td>臺北市文山區樟新街56巷1~30號</td>\n",
       "      <td>44.57</td>\n",
       "      <td>住</td>\n",
       "      <td>NaN</td>\n",
       "      <td>NaN</td>\n",
       "      <td>1090328</td>\n",
       "      <td>土地3建物1車位0</td>\n",
       "      <td>四層</td>\n",
       "      <td>...</td>\n",
       "      <td>NaN</td>\n",
       "      <td>0.0</td>\n",
       "      <td>0</td>\n",
       "      <td>含增建或未登記建物。;</td>\n",
       "      <td>RPWNMLNKNHPFFAA28CA</td>\n",
       "      <td>98.74</td>\n",
       "      <td>2.26</td>\n",
       "      <td>11.84</td>\n",
       "      <td>NaN</td>\n",
       "      <td>Taipei</td>\n",
       "    </tr>\n",
       "    <tr>\n",
       "      <th>...</th>\n",
       "      <td>...</td>\n",
       "      <td>...</td>\n",
       "      <td>...</td>\n",
       "      <td>...</td>\n",
       "      <td>...</td>\n",
       "      <td>...</td>\n",
       "      <td>...</td>\n",
       "      <td>...</td>\n",
       "      <td>...</td>\n",
       "      <td>...</td>\n",
       "      <td>...</td>\n",
       "      <td>...</td>\n",
       "      <td>...</td>\n",
       "      <td>...</td>\n",
       "      <td>...</td>\n",
       "      <td>...</td>\n",
       "      <td>...</td>\n",
       "      <td>...</td>\n",
       "      <td>...</td>\n",
       "      <td>...</td>\n",
       "      <td>...</td>\n",
       "    </tr>\n",
       "    <tr>\n",
       "      <th>8837</th>\n",
       "      <td>文山區</td>\n",
       "      <td>房地(土地+建物)</td>\n",
       "      <td>興隆路三段61~90號</td>\n",
       "      <td>15.78</td>\n",
       "      <td>其他</td>\n",
       "      <td>NaN</td>\n",
       "      <td>NaN</td>\n",
       "      <td>1090712</td>\n",
       "      <td>土地2建物1車位0</td>\n",
       "      <td>十層，電梯樓梯間</td>\n",
       "      <td>...</td>\n",
       "      <td>NaN</td>\n",
       "      <td>0.0</td>\n",
       "      <td>0</td>\n",
       "      <td>親友、員工、共有人或其他特殊關係間之交易;</td>\n",
       "      <td>RPPNMLSJRHPFFAA48DA</td>\n",
       "      <td>35.33</td>\n",
       "      <td>0.00</td>\n",
       "      <td>0.00</td>\n",
       "      <td>有</td>\n",
       "      <td>Taipei</td>\n",
       "    </tr>\n",
       "    <tr>\n",
       "      <th>8838</th>\n",
       "      <td>文山區</td>\n",
       "      <td>房地(土地+建物)</td>\n",
       "      <td>仙岩路16巷31~60號</td>\n",
       "      <td>10.57</td>\n",
       "      <td>其他</td>\n",
       "      <td>NaN</td>\n",
       "      <td>NaN</td>\n",
       "      <td>1090815</td>\n",
       "      <td>土地1建物1車位0</td>\n",
       "      <td>三層</td>\n",
       "      <td>...</td>\n",
       "      <td>NaN</td>\n",
       "      <td>0.0</td>\n",
       "      <td>0</td>\n",
       "      <td>NaN</td>\n",
       "      <td>RPQNMLSJRHPFFAA58DA</td>\n",
       "      <td>17.82</td>\n",
       "      <td>2.88</td>\n",
       "      <td>0.00</td>\n",
       "      <td>有</td>\n",
       "      <td>Taipei</td>\n",
       "    </tr>\n",
       "    <tr>\n",
       "      <th>8839</th>\n",
       "      <td>文山區</td>\n",
       "      <td>房地(土地+建物)</td>\n",
       "      <td>興隆路三段255巷1~30號</td>\n",
       "      <td>13.78</td>\n",
       "      <td>其他</td>\n",
       "      <td>NaN</td>\n",
       "      <td>NaN</td>\n",
       "      <td>1090622</td>\n",
       "      <td>土地3建物1車位0</td>\n",
       "      <td>二層</td>\n",
       "      <td>...</td>\n",
       "      <td>NaN</td>\n",
       "      <td>0.0</td>\n",
       "      <td>0</td>\n",
       "      <td>獨立產權公設未包含建物棟數內其他增建;</td>\n",
       "      <td>RPRNMLSJRHPFFAA68DA</td>\n",
       "      <td>20.20</td>\n",
       "      <td>5.22</td>\n",
       "      <td>0.01</td>\n",
       "      <td>有</td>\n",
       "      <td>Taipei</td>\n",
       "    </tr>\n",
       "    <tr>\n",
       "      <th>8840</th>\n",
       "      <td>文山區</td>\n",
       "      <td>房地(土地+建物)</td>\n",
       "      <td>興隆路三段207巷18弄1~30號</td>\n",
       "      <td>24.12</td>\n",
       "      <td>其他</td>\n",
       "      <td>NaN</td>\n",
       "      <td>NaN</td>\n",
       "      <td>1090626</td>\n",
       "      <td>土地1建物1車位0</td>\n",
       "      <td>三層</td>\n",
       "      <td>...</td>\n",
       "      <td>NaN</td>\n",
       "      <td>0.0</td>\n",
       "      <td>0</td>\n",
       "      <td>陽台外推;</td>\n",
       "      <td>RPVNMLRJRHPFFAA98DA</td>\n",
       "      <td>67.47</td>\n",
       "      <td>0.00</td>\n",
       "      <td>14.11</td>\n",
       "      <td>無</td>\n",
       "      <td>Taipei</td>\n",
       "    </tr>\n",
       "    <tr>\n",
       "      <th>8841</th>\n",
       "      <td>中正區</td>\n",
       "      <td>房地(土地+建物)</td>\n",
       "      <td>牯嶺街91~120號</td>\n",
       "      <td>28.03</td>\n",
       "      <td>其他</td>\n",
       "      <td>NaN</td>\n",
       "      <td>NaN</td>\n",
       "      <td>1090705</td>\n",
       "      <td>土地2建物1車位0</td>\n",
       "      <td>六層</td>\n",
       "      <td>...</td>\n",
       "      <td>NaN</td>\n",
       "      <td>0.0</td>\n",
       "      <td>0</td>\n",
       "      <td>陽台外推;其他增建;</td>\n",
       "      <td>RPQOMLRLQHPFFAA68DA</td>\n",
       "      <td>91.30</td>\n",
       "      <td>0.00</td>\n",
       "      <td>8.67</td>\n",
       "      <td>有</td>\n",
       "      <td>Taipei</td>\n",
       "    </tr>\n",
       "  </tbody>\n",
       "</table>\n",
       "<p>8841 rows × 33 columns</p>\n",
       "</div>"
      ],
      "text/plain": [
       "     鄉鎮市區          交易標的         土地區段位置建物區段門牌 土地移轉總面積平方公尺 都市土地使用分區 非都市土地使用分區  \\\n",
       "1     文山區  房地(土地+建物)+車位  臺北市文山區忠順街二段85巷1~30號       26.97        住       NaN   \n",
       "2     文山區     房地(土地+建物)     臺北市文山區福興路91~120號       10.32        住       NaN   \n",
       "3     文山區     房地(土地+建物)  臺北市文山區木柵路四段121~150號       39.64       其他       NaN   \n",
       "4     中正區     房地(土地+建物)   臺北市中正區和平西路一段31~60號        4.26        商       NaN   \n",
       "5     文山區     房地(土地+建物)    臺北市文山區樟新街56巷1~30號       44.57        住       NaN   \n",
       "...   ...           ...                  ...         ...      ...       ...   \n",
       "8837  文山區     房地(土地+建物)          興隆路三段61~90號       15.78       其他       NaN   \n",
       "8838  文山區     房地(土地+建物)         仙岩路16巷31~60號       10.57       其他       NaN   \n",
       "8839  文山區     房地(土地+建物)       興隆路三段255巷1~30號       13.78       其他       NaN   \n",
       "8840  文山區     房地(土地+建物)    興隆路三段207巷18弄1~30號       24.12       其他       NaN   \n",
       "8841  中正區     房地(土地+建物)           牯嶺街91~120號       28.03       其他       NaN   \n",
       "\n",
       "     非都市土地使用編定    交易年月日      交易筆棟數      移轉層次  ...  車位類別 車位移轉總面積(平方公尺) 車位總價元  \\\n",
       "1          NaN  1090406  土地1建物1車位2        四層  ...  坡道平面          40.7     0   \n",
       "2          NaN  1090317  土地1建物1車位0        三層  ...   NaN           0.0     0   \n",
       "3          NaN  1090418  土地2建物1車位0        六層  ...   NaN           0.0     0   \n",
       "4          NaN  1090413  土地2建物1車位0        九層  ...   NaN           0.0     0   \n",
       "5          NaN  1090328  土地3建物1車位0        四層  ...   NaN           0.0     0   \n",
       "...        ...      ...        ...       ...  ...   ...           ...   ...   \n",
       "8837       NaN  1090712  土地2建物1車位0  十層，電梯樓梯間  ...   NaN           0.0     0   \n",
       "8838       NaN  1090815  土地1建物1車位0        三層  ...   NaN           0.0     0   \n",
       "8839       NaN  1090622  土地3建物1車位0        二層  ...   NaN           0.0     0   \n",
       "8840       NaN  1090626  土地1建物1車位0        三層  ...   NaN           0.0     0   \n",
       "8841       NaN  1090705  土地2建物1車位0        六層  ...   NaN           0.0     0   \n",
       "\n",
       "                                備註                   編號   主建物面積 附屬建物面積   陽台面積  \\\n",
       "1     含增建或未登記建物。;內含獨立產權車位，未包含在棟數內。  RPVOMLMKNHPFFAA18CA  110.91   9.63  11.09   \n",
       "2                      含增建或未登記建物。;  RPPPMLMKNHPFFAA67CA   24.58   1.28   2.30   \n",
       "3                              NaN  RPSPMLMKNHPFFAA97CA   78.80   4.15   8.76   \n",
       "4                      含增建或未登記建物。;  RPPOMLMKNHPFFAA57CA   18.34   0.00   6.45   \n",
       "5                      含增建或未登記建物。;  RPWNMLNKNHPFFAA28CA   98.74   2.26  11.84   \n",
       "...                            ...                  ...     ...    ...    ...   \n",
       "8837         親友、員工、共有人或其他特殊關係間之交易;  RPPNMLSJRHPFFAA48DA   35.33   0.00   0.00   \n",
       "8838                           NaN  RPQNMLSJRHPFFAA58DA   17.82   2.88   0.00   \n",
       "8839           獨立產權公設未包含建物棟數內其他增建;  RPRNMLSJRHPFFAA68DA   20.20   5.22   0.01   \n",
       "8840                         陽台外推;  RPVNMLRJRHPFFAA98DA   67.47   0.00  14.11   \n",
       "8841                    陽台外推;其他增建;  RPQOMLRLQHPFFAA68DA   91.30   0.00   8.67   \n",
       "\n",
       "       電梯    city  \n",
       "1     NaN  Taipei  \n",
       "2     NaN  Taipei  \n",
       "3     NaN  Taipei  \n",
       "4     NaN  Taipei  \n",
       "5     NaN  Taipei  \n",
       "...   ...     ...  \n",
       "8837    有  Taipei  \n",
       "8838    有  Taipei  \n",
       "8839    有  Taipei  \n",
       "8840    無  Taipei  \n",
       "8841    有  Taipei  \n",
       "\n",
       "[8841 rows x 33 columns]"
      ]
     },
     "execution_count": 14,
     "metadata": {},
     "output_type": "execute_result"
    }
   ],
   "source": [
    "data_AA"
   ]
  },
  {
   "cell_type": "code",
   "execution_count": 15,
   "metadata": {},
   "outputs": [],
   "source": [
    "data_BA.loc[:,'city'] = 'New_Taipei'\n",
    "data_EA.loc[:,'city'] = 'Taichung'\n",
    "data_FA.loc[:,'city'] = 'Kaohsiung'"
   ]
  },
  {
   "cell_type": "code",
   "execution_count": 102,
   "metadata": {
    "id": "5Sajh33BAtpb"
   },
   "outputs": [
    {
     "name": "stdout",
     "output_type": "stream",
     "text": [
      "<class 'pandas.core.frame.DataFrame'>\n",
      "RangeIndex: 59476 entries, 0 to 59475\n",
      "Data columns (total 33 columns):\n",
      " #   Column         Non-Null Count  Dtype  \n",
      "---  ------         --------------  -----  \n",
      " 0   鄉鎮市區           59476 non-null  object \n",
      " 1   交易標的           59476 non-null  object \n",
      " 2   土地區段位置建物區段門牌   59476 non-null  object \n",
      " 3   土地移轉總面積平方公尺    59476 non-null  object \n",
      " 4   都市土地使用分區       54097 non-null  object \n",
      " 5   非都市土地使用分區      4306 non-null   object \n",
      " 6   非都市土地使用編定      4302 non-null   object \n",
      " 7   交易年月日          59476 non-null  object \n",
      " 8   交易筆棟數          59476 non-null  object \n",
      " 9   移轉層次           49724 non-null  object \n",
      " 10  總樓層數           49664 non-null  object \n",
      " 11  建物型態           59476 non-null  object \n",
      " 12  主要用途           47889 non-null  object \n",
      " 13  主要建材           49680 non-null  object \n",
      " 14  建築完成年月         48690 non-null  object \n",
      " 15  建物移轉總面積平方公尺    59476 non-null  object \n",
      " 16  建物現況格局-房       59476 non-null  object \n",
      " 17  建物現況格局-廳       59476 non-null  object \n",
      " 18  建物現況格局-衛       59476 non-null  object \n",
      " 19  建物現況格局-隔間      59476 non-null  object \n",
      " 20  有無管理組織         59476 non-null  object \n",
      " 21  總價元            59476 non-null  object \n",
      " 22  單價元平方公尺        58156 non-null  object \n",
      " 23  車位類別           23685 non-null  object \n",
      " 24  車位移轉總面積(平方公尺)  59476 non-null  object \n",
      " 25  車位總價元          59476 non-null  object \n",
      " 26  備註             24759 non-null  object \n",
      " 27  編號             59476 non-null  object \n",
      " 28  主建物面積          59476 non-null  float64\n",
      " 29  附屬建物面積         59476 non-null  float64\n",
      " 30  陽台面積           59476 non-null  float64\n",
      " 31  電梯             32944 non-null  object \n",
      " 32  city           59476 non-null  object \n",
      "dtypes: float64(3), object(30)\n",
      "memory usage: 15.0+ MB\n"
     ]
    }
   ],
   "source": [
    "#4. 將以上四份資料運用pd.concat()串接\n",
    "data_combined = pd.concat([data_AA, data_BA, data_EA, data_FA], ignore_index=True)\n",
    "data_combined.info()\n",
    "\n",
    "# https://pandas.pydata.org/pandas-docs/stable/reference/api/pandas.concat.html"
   ]
  },
  {
   "cell_type": "markdown",
   "metadata": {
    "id": "vf6GM8Z_Atpb"
   },
   "source": [
    "# 2. 資料清理與切片"
   ]
  },
  {
   "cell_type": "markdown",
   "metadata": {
    "id": "QMPrmISNAtpb"
   },
   "source": [
    "因為我是想買來住的房子，所以幫忙刪除住宿用途以外的資料，並且限制\n",
    "1. 交易年月日，限制在109年\n",
    "2. 建物現況格局-房，1~5間 \n",
    "3. 建物現況格局-廳，1~2廳"
   ]
  },
  {
   "cell_type": "markdown",
   "metadata": {
    "id": "1C-ImCfTAtpc"
   },
   "source": [
    "以下columns_mapping、analysis_columns、columns_type提供給資料科學家配合使用\n",
    "1. 利用.rename()並配合以下columns_mapping，將原中文欄位名稱改為英文方便之後分析\n",
    "2. 取出主要用途(main_use)為'住家用'以及都市土地使用分區(use_zoning)為'住'的資料並針對以下欄位analysis_columns做分析並去除na值\n",
    "   (提示:先取完之後再.dropna())\n",
    "3. 觀察欄位資料型態，並利用.astype()搭配以下提供的columns_type做欄位型態轉換\n",
    "4. 做資料切片將<br>\n",
    "    新增欄位交易年月日(tx_dt_year)，從交易年月日(tx_dt)萃取出年份<br>\n",
    "    1.交易年月日(tx_dt_year)，限制在109年<br>\n",
    "    2.建物現況格局-房(room_number)，限制在1到5間<br>\n",
    "    3.建物現況格局-廳(hall_number)，限制在1到2廳<br>\n",
    "    4.最後運用.reset_index()重新定義索引"
   ]
  },
  {
   "cell_type": "code",
   "execution_count": 133,
   "metadata": {
    "id": "rBSElFmKAtpc"
   },
   "outputs": [],
   "source": [
    "columns_mapping = {'鄉鎮市區':'towns',\n",
    "'交易標的':'transaction_sign',\n",
    "'土地區段位置建物區段門牌':'house_number',\n",
    "'土地移轉總面積平方公尺':'land_area_square_meter', \n",
    "'都市土地使用分區':'use_zoning', \n",
    "'非都市土地使用分區':'land_use_district',\n",
    "'非都市土地使用編定':'land_use',\n",
    "'交易年月日':'tx_dt', \n",
    " '交易筆棟數':'transaction_pen_number', \n",
    " '移轉層次':'shifting_level', \n",
    " '總樓層數':'total_floor_number', \n",
    " '建物型態':'building_state', \n",
    " '主要用途':'main_use', \n",
    " '主要建材':'main_materials',\n",
    " '建築完成年月':'complete_date', \n",
    " '建物移轉總面積平方公尺':'building_area_square_meter', \n",
    " '建物現況格局-房':'room_number', \n",
    " '建物現況格局-廳':'hall_number', \n",
    " '建物現況格局-衛':'health_number', \n",
    "'建物現況格局-隔間':'compartmented_number', \n",
    " '有無管理組織':'manages', \n",
    " '總價元':'total_price', \n",
    " '單價元平方公尺':'unit_price', \n",
    " '車位類別':'berth_category', \n",
    " '車位移轉總面積(平方公尺)':'berth_area_square_meter',\n",
    "'車位總價元':'berth_price', \n",
    " '備註':'note', \n",
    " '編號':'serial_number', \n",
    " '主建物面積':'main_building_area', \n",
    " '附屬建物面積':'auxiliary_building_area', \n",
    " '陽台面積':'balcony_area', \n",
    " '電梯':'elevator'\n",
    "                  }\n",
    "analysis_columns = ['city','towns','main_use','use_zoning','total_price','building_area_square_meter',\n",
    "                                     'main_building_area',\n",
    "                                     'tx_dt','unit_price','room_number','hall_number','health_number']\n",
    "columns_type = {'total_price': 'int','unit_price':'float','building_area_square_meter':'float',\n",
    "                                      'main_building_area': 'float',\n",
    "                                      'room_number': 'int','hall_number': 'int','health_number': 'int'}"
   ]
  },
  {
   "cell_type": "code",
   "execution_count": 135,
   "metadata": {
    "id": "JFrw25keAtpe",
    "scrolled": true
   },
   "outputs": [
    {
     "data": {
      "text/plain": [
       "Index(['towns', 'transaction_sign', 'house_number', 'land_area_square_meter',\n",
       "       'use_zoning', 'land_use_district', 'land_use', 'tx_dt',\n",
       "       'transaction_pen_number', 'shifting_level', 'total_floor_number',\n",
       "       'building_state', 'main_use', 'main_materials', 'complete_date',\n",
       "       'building_area_square_meter', 'room_number', 'hall_number',\n",
       "       'health_number', 'compartmented_number', 'manages', 'total_price',\n",
       "       'unit_price', 'berth_category', 'berth_area_square_meter',\n",
       "       'berth_price', 'note', 'serial_number', 'main_building_area',\n",
       "       'auxiliary_building_area', 'balcony_area', 'elevator', 'city'],\n",
       "      dtype='object')"
      ]
     },
     "execution_count": 135,
     "metadata": {},
     "output_type": "execute_result"
    }
   ],
   "source": [
    "#1. 利用.rename()並配合以下columns_mapping，將原中文欄位名稱改為英文方便之後分析\n",
    "data = data_combined.rename(columns = columns_mapping)\n",
    "#data.head()\n",
    "data.columns"
   ]
  },
  {
   "cell_type": "code",
   "execution_count": 142,
   "metadata": {
    "id": "GMPSUJFcAtpf"
   },
   "outputs": [],
   "source": [
    "#2. 取出主要用途(main_use)為'住家用'以及都市土地使用分區(use_zoning)為'住'的資料\n",
    "#   並針對以下欄位analysis_columns做分析並去除na值 (提示:先取完之後再.dropna())\n",
    "\n",
    "data = data[(data['main_use']=='住家用') & (data['use_zoning']=='住')]\n",
    "\n",
    "#print(data_filtered['main_use'].head())\n",
    "#print(data_filtered['use_zoning'].head())\n",
    "\n",
    "analysis_columns = ['city','towns','main_use','use_zoning','total_price','building_area_square_meter',\n",
    "                                     'main_building_area',\n",
    "                                     'tx_dt','unit_price','room_number','hall_number','health_number']\n",
    "\n",
    "data = data[analysis_columns].dropna()"
   ]
  },
  {
   "cell_type": "code",
   "execution_count": 146,
   "metadata": {},
   "outputs": [
    {
     "data": {
      "text/plain": [
       "city                          0\n",
       "towns                         0\n",
       "main_use                      0\n",
       "use_zoning                    0\n",
       "total_price                   0\n",
       "building_area_square_meter    0\n",
       "main_building_area            0\n",
       "tx_dt                         0\n",
       "unit_price                    0\n",
       "room_number                   0\n",
       "hall_number                   0\n",
       "health_number                 0\n",
       "dtype: int64"
      ]
     },
     "execution_count": 146,
     "metadata": {},
     "output_type": "execute_result"
    }
   ],
   "source": [
    "data.isna().sum()"
   ]
  },
  {
   "cell_type": "code",
   "execution_count": 147,
   "metadata": {},
   "outputs": [],
   "source": [
    "data_copy1 = data.copy()"
   ]
  },
  {
   "cell_type": "code",
   "execution_count": 148,
   "metadata": {},
   "outputs": [
    {
     "data": {
      "text/plain": [
       "city                           object\n",
       "towns                          object\n",
       "main_use                       object\n",
       "use_zoning                     object\n",
       "total_price                    object\n",
       "building_area_square_meter     object\n",
       "main_building_area            float64\n",
       "tx_dt                          object\n",
       "unit_price                     object\n",
       "room_number                    object\n",
       "hall_number                    object\n",
       "health_number                  object\n",
       "dtype: object"
      ]
     },
     "execution_count": 148,
     "metadata": {},
     "output_type": "execute_result"
    }
   ],
   "source": [
    "data.dtypes"
   ]
  },
  {
   "cell_type": "code",
   "execution_count": 149,
   "metadata": {},
   "outputs": [],
   "source": [
    "#data['total_price'].dtypes\n",
    "#data['total_price'].astype('int')"
   ]
  },
  {
   "cell_type": "code",
   "execution_count": 150,
   "metadata": {
    "id": "Y5_BWtUpAtph"
   },
   "outputs": [
    {
     "data": {
      "text/plain": [
       "city                           object\n",
       "towns                          object\n",
       "main_use                       object\n",
       "use_zoning                     object\n",
       "total_price                     int32\n",
       "building_area_square_meter    float64\n",
       "main_building_area            float64\n",
       "tx_dt                          object\n",
       "unit_price                    float64\n",
       "room_number                     int32\n",
       "hall_number                     int32\n",
       "health_number                   int32\n",
       "dtype: object"
      ]
     },
     "execution_count": 150,
     "metadata": {},
     "output_type": "execute_result"
    }
   ],
   "source": [
    "#3. 觀察欄位資料型態，並利用.astype()搭配以下提供的columns_type做欄位型態轉換\n",
    "\n",
    "columns_type = {'total_price': 'int',\n",
    "                'unit_price':'float',\n",
    "                'building_area_square_meter':'float',\n",
    "                'main_building_area': 'float',\n",
    "                'room_number': 'int',\n",
    "                'hall_number': 'int',\n",
    "                'health_number': 'int'}\n",
    "\n",
    "data = data.astype(columns_type)\n",
    "data.dtypes\n",
    "\n",
    "# https://www.delftstack.com/zh-tw/api/python-pandas/pandas-dataframe-dataframe.astype-function/"
   ]
  },
  {
   "cell_type": "code",
   "execution_count": 151,
   "metadata": {
    "id": "AxF8yHDeAtph",
    "scrolled": true
   },
   "outputs": [],
   "source": [
    "#4. 做資料切片將\n",
    "#     新增欄位交易年月日(tx_dt_year)，從交易年月日(tx_dt)萃取出年份"
   ]
  },
  {
   "cell_type": "code",
   "execution_count": 152,
   "metadata": {},
   "outputs": [],
   "source": [
    "data_copy2 = data.copy()"
   ]
  },
  {
   "cell_type": "code",
   "execution_count": 153,
   "metadata": {},
   "outputs": [
    {
     "data": {
      "text/plain": [
       "0    1090406\n",
       "1    1090317\n",
       "4    1090328\n",
       "6    1090417\n",
       "7    1090417\n",
       "Name: tx_dt, dtype: object"
      ]
     },
     "execution_count": 153,
     "metadata": {},
     "output_type": "execute_result"
    }
   ],
   "source": [
    "data['tx_dt'].head()"
   ]
  },
  {
   "cell_type": "code",
   "execution_count": 154,
   "metadata": {},
   "outputs": [
    {
     "data": {
      "text/plain": [
       "0"
      ]
     },
     "execution_count": 154,
     "metadata": {},
     "output_type": "execute_result"
    }
   ],
   "source": [
    "data['tx_dt'].isna().sum()"
   ]
  },
  {
   "cell_type": "code",
   "execution_count": 155,
   "metadata": {},
   "outputs": [
    {
     "name": "stdout",
     "output_type": "stream",
     "text": [
      "7802\n"
     ]
    },
    {
     "data": {
      "text/plain": [
       "0        109\n",
       "1        109\n",
       "4        109\n",
       "6        109\n",
       "7        109\n",
       "        ... \n",
       "48924    109\n",
       "49200    109\n",
       "49735    109\n",
       "49799    109\n",
       "51169    109\n",
       "Name: tx_dt_year, Length: 7802, dtype: object"
      ]
     },
     "execution_count": 155,
     "metadata": {},
     "output_type": "execute_result"
    }
   ],
   "source": [
    "data['tx_dt_year'] = data['tx_dt'].astype('string')\n",
    "#data['tx_dt_year'] \n",
    "\n",
    "base = []\n",
    "for i in data['tx_dt_year']:\n",
    "    ch = i[:3]\n",
    "    base.append(ch)\n",
    "  \n",
    "print(len(base))\n",
    "\n",
    "data['tx_dt_year'] = base\n",
    "data['tx_dt_year']"
   ]
  },
  {
   "cell_type": "code",
   "execution_count": 156,
   "metadata": {},
   "outputs": [],
   "source": [
    "data_copy3 = data.copy()"
   ]
  },
  {
   "cell_type": "code",
   "execution_count": 157,
   "metadata": {},
   "outputs": [
    {
     "name": "stdout",
     "output_type": "stream",
     "text": [
      "7689\n",
      "7317\n",
      "6894\n"
     ]
    }
   ],
   "source": [
    "#     1.交易年月日(tx_dt_year)，限制在109年\n",
    "\n",
    "data = data[data['tx_dt_year'] == '109']\n",
    "print(len(data))\n",
    "\n",
    "#     2.建物現況格局-房(room_number)，限制在1到5間\n",
    "data = data[(data['room_number']>=1) & (data['room_number']<=5)]\n",
    "print(len(data))\n",
    "\n",
    "#     3.建物現況格局-廳(hall_number)，限制在1到2廳\n",
    "data = data[(data['hall_number']>=1) & (data['hall_number']<=2)]\n",
    "print(len(data))\n"
   ]
  },
  {
   "cell_type": "code",
   "execution_count": 158,
   "metadata": {},
   "outputs": [
    {
     "data": {
      "text/html": [
       "<div>\n",
       "<style scoped>\n",
       "    .dataframe tbody tr th:only-of-type {\n",
       "        vertical-align: middle;\n",
       "    }\n",
       "\n",
       "    .dataframe tbody tr th {\n",
       "        vertical-align: top;\n",
       "    }\n",
       "\n",
       "    .dataframe thead th {\n",
       "        text-align: right;\n",
       "    }\n",
       "</style>\n",
       "<table border=\"1\" class=\"dataframe\">\n",
       "  <thead>\n",
       "    <tr style=\"text-align: right;\">\n",
       "      <th></th>\n",
       "      <th>index</th>\n",
       "      <th>city</th>\n",
       "      <th>towns</th>\n",
       "      <th>main_use</th>\n",
       "      <th>use_zoning</th>\n",
       "      <th>total_price</th>\n",
       "      <th>building_area_square_meter</th>\n",
       "      <th>main_building_area</th>\n",
       "      <th>tx_dt</th>\n",
       "      <th>unit_price</th>\n",
       "      <th>room_number</th>\n",
       "      <th>hall_number</th>\n",
       "      <th>health_number</th>\n",
       "      <th>tx_dt_year</th>\n",
       "    </tr>\n",
       "  </thead>\n",
       "  <tbody>\n",
       "    <tr>\n",
       "      <th>0</th>\n",
       "      <td>0</td>\n",
       "      <td>Taipei</td>\n",
       "      <td>文山區</td>\n",
       "      <td>住家用</td>\n",
       "      <td>住</td>\n",
       "      <td>36000000</td>\n",
       "      <td>229.91</td>\n",
       "      <td>110.91</td>\n",
       "      <td>1090406</td>\n",
       "      <td>156583.0</td>\n",
       "      <td>3</td>\n",
       "      <td>2</td>\n",
       "      <td>2</td>\n",
       "      <td>109</td>\n",
       "    </tr>\n",
       "    <tr>\n",
       "      <th>1</th>\n",
       "      <td>1</td>\n",
       "      <td>Taipei</td>\n",
       "      <td>文山區</td>\n",
       "      <td>住家用</td>\n",
       "      <td>住</td>\n",
       "      <td>5580000</td>\n",
       "      <td>37.31</td>\n",
       "      <td>24.58</td>\n",
       "      <td>1090317</td>\n",
       "      <td>149558.0</td>\n",
       "      <td>2</td>\n",
       "      <td>1</td>\n",
       "      <td>1</td>\n",
       "      <td>109</td>\n",
       "    </tr>\n",
       "    <tr>\n",
       "      <th>2</th>\n",
       "      <td>4</td>\n",
       "      <td>Taipei</td>\n",
       "      <td>文山區</td>\n",
       "      <td>住家用</td>\n",
       "      <td>住</td>\n",
       "      <td>18280000</td>\n",
       "      <td>123.66</td>\n",
       "      <td>98.74</td>\n",
       "      <td>1090328</td>\n",
       "      <td>147825.0</td>\n",
       "      <td>3</td>\n",
       "      <td>2</td>\n",
       "      <td>2</td>\n",
       "      <td>109</td>\n",
       "    </tr>\n",
       "    <tr>\n",
       "      <th>3</th>\n",
       "      <td>6</td>\n",
       "      <td>Taipei</td>\n",
       "      <td>文山區</td>\n",
       "      <td>住家用</td>\n",
       "      <td>住</td>\n",
       "      <td>8000000</td>\n",
       "      <td>124.25</td>\n",
       "      <td>90.78</td>\n",
       "      <td>1090417</td>\n",
       "      <td>64386.0</td>\n",
       "      <td>3</td>\n",
       "      <td>1</td>\n",
       "      <td>2</td>\n",
       "      <td>109</td>\n",
       "    </tr>\n",
       "    <tr>\n",
       "      <th>4</th>\n",
       "      <td>7</td>\n",
       "      <td>Taipei</td>\n",
       "      <td>文山區</td>\n",
       "      <td>住家用</td>\n",
       "      <td>住</td>\n",
       "      <td>2200000</td>\n",
       "      <td>30.16</td>\n",
       "      <td>26.15</td>\n",
       "      <td>1090417</td>\n",
       "      <td>72944.0</td>\n",
       "      <td>5</td>\n",
       "      <td>2</td>\n",
       "      <td>2</td>\n",
       "      <td>109</td>\n",
       "    </tr>\n",
       "    <tr>\n",
       "      <th>...</th>\n",
       "      <td>...</td>\n",
       "      <td>...</td>\n",
       "      <td>...</td>\n",
       "      <td>...</td>\n",
       "      <td>...</td>\n",
       "      <td>...</td>\n",
       "      <td>...</td>\n",
       "      <td>...</td>\n",
       "      <td>...</td>\n",
       "      <td>...</td>\n",
       "      <td>...</td>\n",
       "      <td>...</td>\n",
       "      <td>...</td>\n",
       "      <td>...</td>\n",
       "    </tr>\n",
       "    <tr>\n",
       "      <th>6889</th>\n",
       "      <td>48796</td>\n",
       "      <td>Kaohsiung</td>\n",
       "      <td>新店區</td>\n",
       "      <td>住家用</td>\n",
       "      <td>住</td>\n",
       "      <td>10500000</td>\n",
       "      <td>112.33</td>\n",
       "      <td>93.18</td>\n",
       "      <td>1090516</td>\n",
       "      <td>93475.0</td>\n",
       "      <td>3</td>\n",
       "      <td>2</td>\n",
       "      <td>2</td>\n",
       "      <td>109</td>\n",
       "    </tr>\n",
       "    <tr>\n",
       "      <th>6890</th>\n",
       "      <td>48872</td>\n",
       "      <td>Kaohsiung</td>\n",
       "      <td>蘆洲區</td>\n",
       "      <td>住家用</td>\n",
       "      <td>住</td>\n",
       "      <td>9200000</td>\n",
       "      <td>92.14</td>\n",
       "      <td>86.55</td>\n",
       "      <td>1090529</td>\n",
       "      <td>99848.0</td>\n",
       "      <td>3</td>\n",
       "      <td>2</td>\n",
       "      <td>1</td>\n",
       "      <td>109</td>\n",
       "    </tr>\n",
       "    <tr>\n",
       "      <th>6891</th>\n",
       "      <td>49735</td>\n",
       "      <td>Kaohsiung</td>\n",
       "      <td>三重區</td>\n",
       "      <td>住家用</td>\n",
       "      <td>住</td>\n",
       "      <td>6000000</td>\n",
       "      <td>67.00</td>\n",
       "      <td>67.00</td>\n",
       "      <td>1090522</td>\n",
       "      <td>89552.0</td>\n",
       "      <td>1</td>\n",
       "      <td>1</td>\n",
       "      <td>1</td>\n",
       "      <td>109</td>\n",
       "    </tr>\n",
       "    <tr>\n",
       "      <th>6892</th>\n",
       "      <td>49799</td>\n",
       "      <td>Kaohsiung</td>\n",
       "      <td>汐止區</td>\n",
       "      <td>住家用</td>\n",
       "      <td>住</td>\n",
       "      <td>11800000</td>\n",
       "      <td>124.31</td>\n",
       "      <td>98.54</td>\n",
       "      <td>1090507</td>\n",
       "      <td>94924.0</td>\n",
       "      <td>3</td>\n",
       "      <td>2</td>\n",
       "      <td>2</td>\n",
       "      <td>109</td>\n",
       "    </tr>\n",
       "    <tr>\n",
       "      <th>6893</th>\n",
       "      <td>51169</td>\n",
       "      <td>Kaohsiung</td>\n",
       "      <td>泰山區</td>\n",
       "      <td>住家用</td>\n",
       "      <td>住</td>\n",
       "      <td>9000000</td>\n",
       "      <td>193.31</td>\n",
       "      <td>88.80</td>\n",
       "      <td>1090614</td>\n",
       "      <td>46557.0</td>\n",
       "      <td>2</td>\n",
       "      <td>2</td>\n",
       "      <td>2</td>\n",
       "      <td>109</td>\n",
       "    </tr>\n",
       "  </tbody>\n",
       "</table>\n",
       "<p>6894 rows × 14 columns</p>\n",
       "</div>"
      ],
      "text/plain": [
       "      index       city towns main_use use_zoning  total_price  \\\n",
       "0         0     Taipei   文山區      住家用          住     36000000   \n",
       "1         1     Taipei   文山區      住家用          住      5580000   \n",
       "2         4     Taipei   文山區      住家用          住     18280000   \n",
       "3         6     Taipei   文山區      住家用          住      8000000   \n",
       "4         7     Taipei   文山區      住家用          住      2200000   \n",
       "...     ...        ...   ...      ...        ...          ...   \n",
       "6889  48796  Kaohsiung   新店區      住家用          住     10500000   \n",
       "6890  48872  Kaohsiung   蘆洲區      住家用          住      9200000   \n",
       "6891  49735  Kaohsiung   三重區      住家用          住      6000000   \n",
       "6892  49799  Kaohsiung   汐止區      住家用          住     11800000   \n",
       "6893  51169  Kaohsiung   泰山區      住家用          住      9000000   \n",
       "\n",
       "      building_area_square_meter  main_building_area    tx_dt  unit_price  \\\n",
       "0                         229.91              110.91  1090406    156583.0   \n",
       "1                          37.31               24.58  1090317    149558.0   \n",
       "2                         123.66               98.74  1090328    147825.0   \n",
       "3                         124.25               90.78  1090417     64386.0   \n",
       "4                          30.16               26.15  1090417     72944.0   \n",
       "...                          ...                 ...      ...         ...   \n",
       "6889                      112.33               93.18  1090516     93475.0   \n",
       "6890                       92.14               86.55  1090529     99848.0   \n",
       "6891                       67.00               67.00  1090522     89552.0   \n",
       "6892                      124.31               98.54  1090507     94924.0   \n",
       "6893                      193.31               88.80  1090614     46557.0   \n",
       "\n",
       "      room_number  hall_number  health_number tx_dt_year  \n",
       "0               3            2              2        109  \n",
       "1               2            1              1        109  \n",
       "2               3            2              2        109  \n",
       "3               3            1              2        109  \n",
       "4               5            2              2        109  \n",
       "...           ...          ...            ...        ...  \n",
       "6889            3            2              2        109  \n",
       "6890            3            2              1        109  \n",
       "6891            1            1              1        109  \n",
       "6892            3            2              2        109  \n",
       "6893            2            2              2        109  \n",
       "\n",
       "[6894 rows x 14 columns]"
      ]
     },
     "execution_count": 158,
     "metadata": {},
     "output_type": "execute_result"
    }
   ],
   "source": [
    "#     4.最後運用.reset_index()重新定義索引\n",
    "data.reset_index()"
   ]
  },
  {
   "cell_type": "code",
   "execution_count": null,
   "metadata": {},
   "outputs": [],
   "source": []
  },
  {
   "cell_type": "markdown",
   "metadata": {
    "id": "zTOTmNDxAtpi"
   },
   "source": [
    "# 3. 建立自定義特徵加入分析\n"
   ]
  },
  {
   "cell_type": "markdown",
   "metadata": {
    "id": "cyL2au1aAtpi"
   },
   "source": [
    "以台灣來說大家都是以坪為單位計算使用面積，應該是不會問說你家有幾平方公尺吧?，但是偏偏資料中沒有以坪為單位計算，所以接下來請各位幫忙產生新的欄位以坪為單位計算面積，轉換公式我也幫你找好了，在下面的定義。<br>\n",
    "定義 : 1平方公尺相當於0.3025坪 <br>\n",
    "建立新特徵\n",
    "1. 建物移轉總面積坪(building_area_square_feet) : 建物移轉總面積平方公尺\\*0.3025\n",
    "2. 主建物面積坪(main_building_area_square_feet) : 主建物面積\\*0.3025\n",
    "3. 單價元坪(unit_price_square_feet) : 單價元平方公尺/0.3025"
   ]
  },
  {
   "cell_type": "markdown",
   "metadata": {
    "id": "O-BL5boZAtpi"
   },
   "source": [
    "可以利用.describe()做一下資料觀察，是否有奇怪的資料?<br>\n",
    "如果有請將資料移除，並說明為什麼移除此資料?<br>\n",
    "移除後再用.describe()觀察是否還有奇怪的資料?"
   ]
  },
  {
   "cell_type": "code",
   "execution_count": 159,
   "metadata": {},
   "outputs": [],
   "source": [
    "#先備分一下\n",
    "data_copy4 = data.copy()"
   ]
  },
  {
   "cell_type": "code",
   "execution_count": 160,
   "metadata": {},
   "outputs": [
    {
     "data": {
      "text/plain": [
       "Index(['city', 'towns', 'main_use', 'use_zoning', 'total_price',\n",
       "       'building_area_square_meter', 'main_building_area', 'tx_dt',\n",
       "       'unit_price', 'room_number', 'hall_number', 'health_number',\n",
       "       'tx_dt_year'],\n",
       "      dtype='object')"
      ]
     },
     "execution_count": 160,
     "metadata": {},
     "output_type": "execute_result"
    }
   ],
   "source": [
    "data.columns"
   ]
  },
  {
   "cell_type": "code",
   "execution_count": 162,
   "metadata": {},
   "outputs": [
    {
     "data": {
      "text/plain": [
       "{'鄉鎮市區': 'towns',\n",
       " '交易標的': 'transaction_sign',\n",
       " '土地區段位置建物區段門牌': 'house_number',\n",
       " '土地移轉總面積平方公尺': 'land_area_square_meter',\n",
       " '都市土地使用分區': 'use_zoning',\n",
       " '非都市土地使用分區': 'land_use_district',\n",
       " '非都市土地使用編定': 'land_use',\n",
       " '交易年月日': 'tx_dt',\n",
       " '交易筆棟數': 'transaction_pen_number',\n",
       " '移轉層次': 'shifting_level',\n",
       " '總樓層數': 'total_floor_number',\n",
       " '建物型態': 'building_state',\n",
       " '主要用途': 'main_use',\n",
       " '主要建材': 'main_materials',\n",
       " '建築完成年月': 'complete_date',\n",
       " '建物移轉總面積平方公尺': 'building_area_square_meter',\n",
       " '建物現況格局-房': 'room_number',\n",
       " '建物現況格局-廳': 'hall_number',\n",
       " '建物現況格局-衛': 'health_number',\n",
       " '建物現況格局-隔間': 'compartmented_number',\n",
       " '有無管理組織': 'manages',\n",
       " '總價元': 'total_price',\n",
       " '單價元平方公尺': 'unit_price',\n",
       " '車位類別': 'berth_category',\n",
       " '車位移轉總面積(平方公尺)': 'berth_area_square_meter',\n",
       " '車位總價元': 'berth_price',\n",
       " '備註': 'note',\n",
       " '編號': 'serial_number',\n",
       " '主建物面積': 'main_building_area',\n",
       " '附屬建物面積': 'auxiliary_building_area',\n",
       " '陽台面積': 'balcony_area',\n",
       " '電梯': 'elevator'}"
      ]
     },
     "execution_count": 162,
     "metadata": {},
     "output_type": "execute_result"
    }
   ],
   "source": [
    "columns_mapping"
   ]
  },
  {
   "cell_type": "code",
   "execution_count": 164,
   "metadata": {
    "id": "vWILawwvAtpj"
   },
   "outputs": [],
   "source": [
    "# 建立新特徵\n",
    "# 1. 建物移轉總面積坪(building_area_square_feet) : 建物移轉總面積平方公尺*0.3025\n",
    "data['building_area_square_feet'] = data['building_area_square_meter']*0.3025\n",
    "\n",
    "# 2. 主建物面積坪(main_building_area_square_feet) : 主建物面積*0.3025\n",
    "data['main_building_area_square_feet'] = data['main_building_area']*0.3025\n",
    "\n",
    "# 3. 單價元坪(unit_price_square_feet) : 單價元平方公尺/0.3025\n",
    "data['unit_price_square_feet'] = data['unit_price']/0.3025"
   ]
  },
  {
   "cell_type": "code",
   "execution_count": 165,
   "metadata": {},
   "outputs": [
    {
     "name": "stdout",
     "output_type": "stream",
     "text": [
      "<class 'pandas.core.frame.DataFrame'>\n",
      "Int64Index: 6894 entries, 0 to 51169\n",
      "Data columns (total 16 columns):\n",
      " #   Column                          Non-Null Count  Dtype  \n",
      "---  ------                          --------------  -----  \n",
      " 0   city                            6894 non-null   object \n",
      " 1   towns                           6894 non-null   object \n",
      " 2   main_use                        6894 non-null   object \n",
      " 3   use_zoning                      6894 non-null   object \n",
      " 4   total_price                     6894 non-null   int32  \n",
      " 5   building_area_square_meter      6894 non-null   float64\n",
      " 6   main_building_area              6894 non-null   float64\n",
      " 7   tx_dt                           6894 non-null   object \n",
      " 8   unit_price                      6894 non-null   float64\n",
      " 9   room_number                     6894 non-null   int32  \n",
      " 10  hall_number                     6894 non-null   int32  \n",
      " 11  health_number                   6894 non-null   int32  \n",
      " 12  tx_dt_year                      6894 non-null   object \n",
      " 13  building_area_square_feet       6894 non-null   float64\n",
      " 14  main_building_area_square_feet  6894 non-null   float64\n",
      " 15  unit_price_square_feet          6894 non-null   float64\n",
      "dtypes: float64(6), int32(4), object(6)\n",
      "memory usage: 807.9+ KB\n"
     ]
    }
   ],
   "source": [
    "data.info()"
   ]
  },
  {
   "cell_type": "code",
   "execution_count": 166,
   "metadata": {
    "id": "ZuAZPbnNAtpj",
    "scrolled": true
   },
   "outputs": [
    {
     "data": {
      "text/html": [
       "<div>\n",
       "<style scoped>\n",
       "    .dataframe tbody tr th:only-of-type {\n",
       "        vertical-align: middle;\n",
       "    }\n",
       "\n",
       "    .dataframe tbody tr th {\n",
       "        vertical-align: top;\n",
       "    }\n",
       "\n",
       "    .dataframe thead th {\n",
       "        text-align: right;\n",
       "    }\n",
       "</style>\n",
       "<table border=\"1\" class=\"dataframe\">\n",
       "  <thead>\n",
       "    <tr style=\"text-align: right;\">\n",
       "      <th></th>\n",
       "      <th>total_price</th>\n",
       "      <th>building_area_square_meter</th>\n",
       "      <th>main_building_area</th>\n",
       "      <th>unit_price</th>\n",
       "      <th>room_number</th>\n",
       "      <th>hall_number</th>\n",
       "      <th>health_number</th>\n",
       "      <th>building_area_square_feet</th>\n",
       "      <th>main_building_area_square_feet</th>\n",
       "      <th>unit_price_square_feet</th>\n",
       "    </tr>\n",
       "  </thead>\n",
       "  <tbody>\n",
       "    <tr>\n",
       "      <th>count</th>\n",
       "      <td>6.894000e+03</td>\n",
       "      <td>6894.000000</td>\n",
       "      <td>6894.000000</td>\n",
       "      <td>6894.000000</td>\n",
       "      <td>6894.000000</td>\n",
       "      <td>6894.000000</td>\n",
       "      <td>6894.000000</td>\n",
       "      <td>6894.000000</td>\n",
       "      <td>6894.000000</td>\n",
       "      <td>6.894000e+03</td>\n",
       "    </tr>\n",
       "    <tr>\n",
       "      <th>mean</th>\n",
       "      <td>1.138712e+07</td>\n",
       "      <td>121.712089</td>\n",
       "      <td>82.086667</td>\n",
       "      <td>94364.671163</td>\n",
       "      <td>2.850885</td>\n",
       "      <td>1.793299</td>\n",
       "      <td>1.733536</td>\n",
       "      <td>36.817907</td>\n",
       "      <td>24.831217</td>\n",
       "      <td>3.119493e+05</td>\n",
       "    </tr>\n",
       "    <tr>\n",
       "      <th>std</th>\n",
       "      <td>1.159445e+07</td>\n",
       "      <td>62.871712</td>\n",
       "      <td>37.363166</td>\n",
       "      <td>58317.311227</td>\n",
       "      <td>0.898498</td>\n",
       "      <td>0.404969</td>\n",
       "      <td>0.681085</td>\n",
       "      <td>19.018693</td>\n",
       "      <td>11.302358</td>\n",
       "      <td>1.927845e+05</td>\n",
       "    </tr>\n",
       "    <tr>\n",
       "      <th>min</th>\n",
       "      <td>0.000000e+00</td>\n",
       "      <td>0.970000</td>\n",
       "      <td>0.000000</td>\n",
       "      <td>0.000000</td>\n",
       "      <td>1.000000</td>\n",
       "      <td>1.000000</td>\n",
       "      <td>0.000000</td>\n",
       "      <td>0.293425</td>\n",
       "      <td>0.000000</td>\n",
       "      <td>0.000000e+00</td>\n",
       "    </tr>\n",
       "    <tr>\n",
       "      <th>25%</th>\n",
       "      <td>5.580000e+06</td>\n",
       "      <td>82.965000</td>\n",
       "      <td>60.682500</td>\n",
       "      <td>53532.250000</td>\n",
       "      <td>2.000000</td>\n",
       "      <td>2.000000</td>\n",
       "      <td>1.000000</td>\n",
       "      <td>25.096912</td>\n",
       "      <td>18.356456</td>\n",
       "      <td>1.769661e+05</td>\n",
       "    </tr>\n",
       "    <tr>\n",
       "      <th>50%</th>\n",
       "      <td>8.550000e+06</td>\n",
       "      <td>109.390000</td>\n",
       "      <td>78.990000</td>\n",
       "      <td>79610.000000</td>\n",
       "      <td>3.000000</td>\n",
       "      <td>2.000000</td>\n",
       "      <td>2.000000</td>\n",
       "      <td>33.090475</td>\n",
       "      <td>23.894475</td>\n",
       "      <td>2.631736e+05</td>\n",
       "    </tr>\n",
       "    <tr>\n",
       "      <th>75%</th>\n",
       "      <td>1.329500e+07</td>\n",
       "      <td>147.517500</td>\n",
       "      <td>95.797500</td>\n",
       "      <td>118728.250000</td>\n",
       "      <td>3.000000</td>\n",
       "      <td>2.000000</td>\n",
       "      <td>2.000000</td>\n",
       "      <td>44.624044</td>\n",
       "      <td>28.978744</td>\n",
       "      <td>3.924901e+05</td>\n",
       "    </tr>\n",
       "    <tr>\n",
       "      <th>max</th>\n",
       "      <td>2.250000e+08</td>\n",
       "      <td>1444.950000</td>\n",
       "      <td>335.760000</td>\n",
       "      <td>610104.000000</td>\n",
       "      <td>5.000000</td>\n",
       "      <td>2.000000</td>\n",
       "      <td>6.000000</td>\n",
       "      <td>437.097375</td>\n",
       "      <td>101.567400</td>\n",
       "      <td>2.016873e+06</td>\n",
       "    </tr>\n",
       "  </tbody>\n",
       "</table>\n",
       "</div>"
      ],
      "text/plain": [
       "        total_price  building_area_square_meter  main_building_area  \\\n",
       "count  6.894000e+03                 6894.000000         6894.000000   \n",
       "mean   1.138712e+07                  121.712089           82.086667   \n",
       "std    1.159445e+07                   62.871712           37.363166   \n",
       "min    0.000000e+00                    0.970000            0.000000   \n",
       "25%    5.580000e+06                   82.965000           60.682500   \n",
       "50%    8.550000e+06                  109.390000           78.990000   \n",
       "75%    1.329500e+07                  147.517500           95.797500   \n",
       "max    2.250000e+08                 1444.950000          335.760000   \n",
       "\n",
       "          unit_price  room_number  hall_number  health_number  \\\n",
       "count    6894.000000  6894.000000  6894.000000    6894.000000   \n",
       "mean    94364.671163     2.850885     1.793299       1.733536   \n",
       "std     58317.311227     0.898498     0.404969       0.681085   \n",
       "min         0.000000     1.000000     1.000000       0.000000   \n",
       "25%     53532.250000     2.000000     2.000000       1.000000   \n",
       "50%     79610.000000     3.000000     2.000000       2.000000   \n",
       "75%    118728.250000     3.000000     2.000000       2.000000   \n",
       "max    610104.000000     5.000000     2.000000       6.000000   \n",
       "\n",
       "       building_area_square_feet  main_building_area_square_feet  \\\n",
       "count                6894.000000                     6894.000000   \n",
       "mean                   36.817907                       24.831217   \n",
       "std                    19.018693                       11.302358   \n",
       "min                     0.293425                        0.000000   \n",
       "25%                    25.096912                       18.356456   \n",
       "50%                    33.090475                       23.894475   \n",
       "75%                    44.624044                       28.978744   \n",
       "max                   437.097375                      101.567400   \n",
       "\n",
       "       unit_price_square_feet  \n",
       "count            6.894000e+03  \n",
       "mean             3.119493e+05  \n",
       "std              1.927845e+05  \n",
       "min              0.000000e+00  \n",
       "25%              1.769661e+05  \n",
       "50%              2.631736e+05  \n",
       "75%              3.924901e+05  \n",
       "max              2.016873e+06  "
      ]
     },
     "execution_count": 166,
     "metadata": {},
     "output_type": "execute_result"
    }
   ],
   "source": [
    "# 可以利用.describe()做一下資料觀察，是否有奇怪的資料?\n",
    "# 如果有請將資料移除，並說明為什麼移除此資料?\n",
    "\n",
    "data.describe()"
   ]
  },
  {
   "cell_type": "code",
   "execution_count": null,
   "metadata": {},
   "outputs": [],
   "source": []
  },
  {
   "cell_type": "code",
   "execution_count": null,
   "metadata": {
    "id": "qED9ygBDAtpj"
   },
   "outputs": [],
   "source": [
    "# 移除後再用.describe()觀察是否還有奇怪的資料?\n",
    "\n"
   ]
  },
  {
   "cell_type": "markdown",
   "metadata": {
    "id": "uRcOUtYPAtpk"
   },
   "source": [
    "# 4. 找出台北市時價登入總價高度相關的變數"
   ]
  },
  {
   "cell_type": "markdown",
   "metadata": {
    "id": "sMgZ6PbwAtpk"
   },
   "source": [
    "阿宏我是台北人他想找出影響台北市總價、單價元坪的因子<br>\n",
    "相關係數0.3以下為低相關，0.3\\~0.7為中等相關，0.7以上為高度相關<br>\n",
    "1. 資料切片切出city欄位為台北市的資料，並找出時價登入總價(total_price)高度相關的變數\n",
    "2. 資料切片切出city欄位為台北市的資料，找出單價元坪(unit_price_square_feet)高度相關的變數"
   ]
  },
  {
   "cell_type": "code",
   "execution_count": 175,
   "metadata": {
    "id": "UZyUNLQzAtpm"
   },
   "outputs": [
    {
     "data": {
      "text/html": [
       "<div>\n",
       "<style scoped>\n",
       "    .dataframe tbody tr th:only-of-type {\n",
       "        vertical-align: middle;\n",
       "    }\n",
       "\n",
       "    .dataframe tbody tr th {\n",
       "        vertical-align: top;\n",
       "    }\n",
       "\n",
       "    .dataframe thead th {\n",
       "        text-align: right;\n",
       "    }\n",
       "</style>\n",
       "<table border=\"1\" class=\"dataframe\">\n",
       "  <thead>\n",
       "    <tr style=\"text-align: right;\">\n",
       "      <th></th>\n",
       "      <th>total_price</th>\n",
       "      <th>building_area_square_meter</th>\n",
       "      <th>main_building_area</th>\n",
       "      <th>unit_price</th>\n",
       "      <th>room_number</th>\n",
       "      <th>hall_number</th>\n",
       "      <th>health_number</th>\n",
       "      <th>building_area_square_feet</th>\n",
       "      <th>main_building_area_square_feet</th>\n",
       "      <th>unit_price_square_feet</th>\n",
       "    </tr>\n",
       "  </thead>\n",
       "  <tbody>\n",
       "    <tr>\n",
       "      <th>total_price</th>\n",
       "      <td>1.000000</td>\n",
       "      <td>0.864785</td>\n",
       "      <td>0.710934</td>\n",
       "      <td>0.581838</td>\n",
       "      <td>0.324625</td>\n",
       "      <td>0.269678</td>\n",
       "      <td>0.597425</td>\n",
       "      <td>0.864785</td>\n",
       "      <td>0.710934</td>\n",
       "      <td>0.581838</td>\n",
       "    </tr>\n",
       "    <tr>\n",
       "      <th>building_area_square_meter</th>\n",
       "      <td>0.864785</td>\n",
       "      <td>1.000000</td>\n",
       "      <td>0.837325</td>\n",
       "      <td>0.221264</td>\n",
       "      <td>0.484097</td>\n",
       "      <td>0.378380</td>\n",
       "      <td>0.696571</td>\n",
       "      <td>1.000000</td>\n",
       "      <td>0.837325</td>\n",
       "      <td>0.221264</td>\n",
       "    </tr>\n",
       "    <tr>\n",
       "      <th>main_building_area</th>\n",
       "      <td>0.710934</td>\n",
       "      <td>0.837325</td>\n",
       "      <td>1.000000</td>\n",
       "      <td>0.117151</td>\n",
       "      <td>0.629989</td>\n",
       "      <td>0.463068</td>\n",
       "      <td>0.655927</td>\n",
       "      <td>0.837325</td>\n",
       "      <td>1.000000</td>\n",
       "      <td>0.117151</td>\n",
       "    </tr>\n",
       "    <tr>\n",
       "      <th>unit_price</th>\n",
       "      <td>0.581838</td>\n",
       "      <td>0.221264</td>\n",
       "      <td>0.117151</td>\n",
       "      <td>1.000000</td>\n",
       "      <td>-0.100902</td>\n",
       "      <td>0.003585</td>\n",
       "      <td>0.126603</td>\n",
       "      <td>0.221264</td>\n",
       "      <td>0.117151</td>\n",
       "      <td>1.000000</td>\n",
       "    </tr>\n",
       "    <tr>\n",
       "      <th>room_number</th>\n",
       "      <td>0.324625</td>\n",
       "      <td>0.484097</td>\n",
       "      <td>0.629989</td>\n",
       "      <td>-0.100902</td>\n",
       "      <td>1.000000</td>\n",
       "      <td>0.509673</td>\n",
       "      <td>0.544779</td>\n",
       "      <td>0.484097</td>\n",
       "      <td>0.629989</td>\n",
       "      <td>-0.100902</td>\n",
       "    </tr>\n",
       "    <tr>\n",
       "      <th>hall_number</th>\n",
       "      <td>0.269678</td>\n",
       "      <td>0.378380</td>\n",
       "      <td>0.463068</td>\n",
       "      <td>0.003585</td>\n",
       "      <td>0.509673</td>\n",
       "      <td>1.000000</td>\n",
       "      <td>0.405766</td>\n",
       "      <td>0.378380</td>\n",
       "      <td>0.463068</td>\n",
       "      <td>0.003585</td>\n",
       "    </tr>\n",
       "    <tr>\n",
       "      <th>health_number</th>\n",
       "      <td>0.597425</td>\n",
       "      <td>0.696571</td>\n",
       "      <td>0.655927</td>\n",
       "      <td>0.126603</td>\n",
       "      <td>0.544779</td>\n",
       "      <td>0.405766</td>\n",
       "      <td>1.000000</td>\n",
       "      <td>0.696571</td>\n",
       "      <td>0.655927</td>\n",
       "      <td>0.126603</td>\n",
       "    </tr>\n",
       "    <tr>\n",
       "      <th>building_area_square_feet</th>\n",
       "      <td>0.864785</td>\n",
       "      <td>1.000000</td>\n",
       "      <td>0.837325</td>\n",
       "      <td>0.221264</td>\n",
       "      <td>0.484097</td>\n",
       "      <td>0.378380</td>\n",
       "      <td>0.696571</td>\n",
       "      <td>1.000000</td>\n",
       "      <td>0.837325</td>\n",
       "      <td>0.221264</td>\n",
       "    </tr>\n",
       "    <tr>\n",
       "      <th>main_building_area_square_feet</th>\n",
       "      <td>0.710934</td>\n",
       "      <td>0.837325</td>\n",
       "      <td>1.000000</td>\n",
       "      <td>0.117151</td>\n",
       "      <td>0.629989</td>\n",
       "      <td>0.463068</td>\n",
       "      <td>0.655927</td>\n",
       "      <td>0.837325</td>\n",
       "      <td>1.000000</td>\n",
       "      <td>0.117151</td>\n",
       "    </tr>\n",
       "    <tr>\n",
       "      <th>unit_price_square_feet</th>\n",
       "      <td>0.581838</td>\n",
       "      <td>0.221264</td>\n",
       "      <td>0.117151</td>\n",
       "      <td>1.000000</td>\n",
       "      <td>-0.100902</td>\n",
       "      <td>0.003585</td>\n",
       "      <td>0.126603</td>\n",
       "      <td>0.221264</td>\n",
       "      <td>0.117151</td>\n",
       "      <td>1.000000</td>\n",
       "    </tr>\n",
       "  </tbody>\n",
       "</table>\n",
       "</div>"
      ],
      "text/plain": [
       "                                total_price  building_area_square_meter  \\\n",
       "total_price                        1.000000                    0.864785   \n",
       "building_area_square_meter         0.864785                    1.000000   \n",
       "main_building_area                 0.710934                    0.837325   \n",
       "unit_price                         0.581838                    0.221264   \n",
       "room_number                        0.324625                    0.484097   \n",
       "hall_number                        0.269678                    0.378380   \n",
       "health_number                      0.597425                    0.696571   \n",
       "building_area_square_feet          0.864785                    1.000000   \n",
       "main_building_area_square_feet     0.710934                    0.837325   \n",
       "unit_price_square_feet             0.581838                    0.221264   \n",
       "\n",
       "                                main_building_area  unit_price  room_number  \\\n",
       "total_price                               0.710934    0.581838     0.324625   \n",
       "building_area_square_meter                0.837325    0.221264     0.484097   \n",
       "main_building_area                        1.000000    0.117151     0.629989   \n",
       "unit_price                                0.117151    1.000000    -0.100902   \n",
       "room_number                               0.629989   -0.100902     1.000000   \n",
       "hall_number                               0.463068    0.003585     0.509673   \n",
       "health_number                             0.655927    0.126603     0.544779   \n",
       "building_area_square_feet                 0.837325    0.221264     0.484097   \n",
       "main_building_area_square_feet            1.000000    0.117151     0.629989   \n",
       "unit_price_square_feet                    0.117151    1.000000    -0.100902   \n",
       "\n",
       "                                hall_number  health_number  \\\n",
       "total_price                        0.269678       0.597425   \n",
       "building_area_square_meter         0.378380       0.696571   \n",
       "main_building_area                 0.463068       0.655927   \n",
       "unit_price                         0.003585       0.126603   \n",
       "room_number                        0.509673       0.544779   \n",
       "hall_number                        1.000000       0.405766   \n",
       "health_number                      0.405766       1.000000   \n",
       "building_area_square_feet          0.378380       0.696571   \n",
       "main_building_area_square_feet     0.463068       0.655927   \n",
       "unit_price_square_feet             0.003585       0.126603   \n",
       "\n",
       "                                building_area_square_feet  \\\n",
       "total_price                                      0.864785   \n",
       "building_area_square_meter                       1.000000   \n",
       "main_building_area                               0.837325   \n",
       "unit_price                                       0.221264   \n",
       "room_number                                      0.484097   \n",
       "hall_number                                      0.378380   \n",
       "health_number                                    0.696571   \n",
       "building_area_square_feet                        1.000000   \n",
       "main_building_area_square_feet                   0.837325   \n",
       "unit_price_square_feet                           0.221264   \n",
       "\n",
       "                                main_building_area_square_feet  \\\n",
       "total_price                                           0.710934   \n",
       "building_area_square_meter                            0.837325   \n",
       "main_building_area                                    1.000000   \n",
       "unit_price                                            0.117151   \n",
       "room_number                                           0.629989   \n",
       "hall_number                                           0.463068   \n",
       "health_number                                         0.655927   \n",
       "building_area_square_feet                             0.837325   \n",
       "main_building_area_square_feet                        1.000000   \n",
       "unit_price_square_feet                                0.117151   \n",
       "\n",
       "                                unit_price_square_feet  \n",
       "total_price                                   0.581838  \n",
       "building_area_square_meter                    0.221264  \n",
       "main_building_area                            0.117151  \n",
       "unit_price                                    1.000000  \n",
       "room_number                                  -0.100902  \n",
       "hall_number                                   0.003585  \n",
       "health_number                                 0.126603  \n",
       "building_area_square_feet                     0.221264  \n",
       "main_building_area_square_feet                0.117151  \n",
       "unit_price_square_feet                        1.000000  "
      ]
     },
     "execution_count": 175,
     "metadata": {},
     "output_type": "execute_result"
    }
   ],
   "source": [
    "# 阿宏我是台北人他想找出影響台北市總價、單價元坪的因子\n",
    "\n",
    "# 1. 資料切片切出city欄位為台北市的資料，並找出時價登入總價(total_price)高度相關的變數\n",
    "# 2. 資料切片切出city欄位為台北市的資料，找出單價元坪(unit_price_square_feet)高度相關的變數\n",
    "\n",
    "data_alice1 = data[data['city']=='Taipei']\n",
    "price_corr = data_alice1.corr()\n",
    "\n",
    "price_corr"
   ]
  },
  {
   "cell_type": "code",
   "execution_count": 176,
   "metadata": {},
   "outputs": [
    {
     "data": {
      "text/plain": [
       "array([[False, False, False, False, False, False, False, False, False,\n",
       "        False],\n",
       "       [False, False, False, False, False, False, False, False, False,\n",
       "        False],\n",
       "       [False, False, False, False, False, False, False, False, False,\n",
       "        False],\n",
       "       [False, False, False, False, False, False, False, False, False,\n",
       "        False],\n",
       "       [False, False, False, False, False, False, False, False, False,\n",
       "        False],\n",
       "       [False, False, False, False, False, False, False, False, False,\n",
       "        False],\n",
       "       [False, False, False, False, False, False, False, False, False,\n",
       "        False],\n",
       "       [False, False, False, False, False, False, False, False, False,\n",
       "        False],\n",
       "       [False, False, False, False, False, False, False, False, False,\n",
       "        False],\n",
       "       [False, False, False, False, False, False, False, False, False,\n",
       "        False]])"
      ]
     },
     "execution_count": 176,
     "metadata": {},
     "output_type": "execute_result"
    }
   ],
   "source": [
    "import numpy as np\n",
    "\n",
    "price_mask = np.zeros_like(price_corr, dtype=np.bool)   #相關係數非0者繪製熱力圖\n",
    "# https://numpy.org/doc/stable/reference/generated/numpy.zeros_like.html\n",
    "\n",
    "price_mask"
   ]
  },
  {
   "cell_type": "code",
   "execution_count": 179,
   "metadata": {},
   "outputs": [
    {
     "data": {
      "text/plain": [
       "array([[ True,  True,  True,  True,  True,  True,  True,  True,  True,\n",
       "         True],\n",
       "       [False,  True,  True,  True,  True,  True,  True,  True,  True,\n",
       "         True],\n",
       "       [False, False,  True,  True,  True,  True,  True,  True,  True,\n",
       "         True],\n",
       "       [False, False, False,  True,  True,  True,  True,  True,  True,\n",
       "         True],\n",
       "       [False, False, False, False,  True,  True,  True,  True,  True,\n",
       "         True],\n",
       "       [False, False, False, False, False,  True,  True,  True,  True,\n",
       "         True],\n",
       "       [False, False, False, False, False, False,  True,  True,  True,\n",
       "         True],\n",
       "       [False, False, False, False, False, False, False,  True,  True,\n",
       "         True],\n",
       "       [False, False, False, False, False, False, False, False,  True,\n",
       "         True],\n",
       "       [False, False, False, False, False, False, False, False, False,\n",
       "         True]])"
      ]
     },
     "execution_count": 179,
     "metadata": {},
     "output_type": "execute_result"
    }
   ],
   "source": [
    "price_mask[np.triu_indices_from(price_mask)] = True   #繪製下三角形的熱力圖\n",
    "# https://numpy.org/devdocs/reference/generated/numpy.triu_indices_from.html\n",
    "\n",
    "price_mask"
   ]
  },
  {
   "cell_type": "code",
   "execution_count": 186,
   "metadata": {},
   "outputs": [
    {
     "data": {
      "image/png": "[encoded data removed]",
      "text/plain": [
       "<Figure size 720x504 with 2 Axes>"
      ]
     },
     "metadata": {
      "needs_background": "light"
     },
     "output_type": "display_data"
    }
   ],
   "source": [
    "fig, ax = plt.subplots(figsize=(10, 7))\n",
    "\n",
    "pl = sns.heatmap(price_corr,\n",
    "                 mask=price_mask,\n",
    "                 cmap= \"coolwarm\",\n",
    "                 vmax=1.0, vmin=-1.0, center=0, linewidths=.5,\n",
    "                 cbar_kws={\"shrink\": 0.8})\n",
    "\n",
    "plt.show()"
   ]
  },
  {
   "cell_type": "markdown",
   "metadata": {
    "id": "-y15EpRMAtpm"
   },
   "source": [
    "# 5. 資料視覺化並解釋\n"
   ]
  },
  {
   "cell_type": "markdown",
   "metadata": {
    "id": "TuAbtSFfAtpn"
   },
   "source": [
    "我想要以視覺化的方式來看房價資料，並且請各位資料科學家解釋圖表給阿宏我知道\n",
    "1. 以城市(city)為x軸，以單價元坪(unit_price_square_feet)為y軸畫出boxplot，並找出單價元坪(unit_price_square_feet)中位數最高的地區\n",
    "2. 進一步對台北市的資料做圖，以建物現況格局-房(room_number)為x軸，以總價元(total_price)為y軸畫出boxplot，並找出總價元(total_price)中位數最高的房間數。hint:資料切片找出city欄位為台北市的資料，再進一步畫圖\n",
    "3. 對台北市的資料做圖，先將地區(twons)做編碼在進行，再以地區(twon)為x軸，以單價元坪(unit_price_square_feet)為y軸畫出boxplot，並找出單價元坪(unit_price_square_feet)中位數最高的地區。hint:運用LabelEncoder()對地區(twons)做編碼，運用.inverse_transform()反查編碼的地區"
   ]
  }
 ],
 "metadata": {
  "colab": {
   "name": "不動產分析_習題.ipynb",
   "provenance": []
  },
  "kernelspec": {
   "display_name": "Python 3",
   "language": "python",
   "name": "python3"
  },
  "language_info": {
   "codemirror_mode": {
    "name": "ipython",
    "version": 3
   },
   "file_extension": ".py",
   "mimetype": "text/x-python",
   "name": "python",
   "nbconvert_exporter": "python",
   "pygments_lexer": "ipython3",
   "version": "3.8.3"
  }
 },
 "nbformat": 4,
 "nbformat_minor": 1
}
