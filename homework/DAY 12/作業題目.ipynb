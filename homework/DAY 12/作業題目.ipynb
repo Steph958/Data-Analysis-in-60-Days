{
 "cells": [
  {
   "cell_type": "markdown",
   "metadata": {
    "id": "9ckBC4qSFJ2u"
   },
   "source": [
    "作業目標:<br>\n",
    "1. 靈活運用圖表在各種情況下\n",
    "2. 圖表的解讀"
   ]
  },
  {
   "cell_type": "markdown",
   "metadata": {
    "id": "wkssN_r7UT2o"
   },
   "source": [
    "作業重點:<br>\n",
    "1. 依據需求畫出圖表<br>\n",
    "2. 在做圖表解釋時，須了解圖表中的含意"
   ]
  },
  {
   "cell_type": "markdown",
   "metadata": {
    "id": "B9B8LGwLFORw"
   },
   "source": [
    "題目 : 將資料夾中boston.csv讀進來，並用圖表分析欄位。<br>\n",
    "1.畫出箱型圖，並判斷哪個欄位的中位數在300~400之間?<br>\n",
    "2.畫出散佈圖 x='NOX', y='DIS' ，並說明這兩欄位有什麼關係?\n"
   ]
  },
  {
   "cell_type": "code",
   "execution_count": null,
   "metadata": {
    "id": "8EK9ei8pFNNd"
   },
   "outputs": [],
   "source": [
    "import pandas as pd\n",
    "import numpy as np"
   ]
  },
  {
   "cell_type": "code",
   "execution_count": 1,
   "metadata": {
    "executionInfo": {
     "elapsed": 717,
     "status": "ok",
     "timestamp": 1610349894715,
     "user": {
      "displayName": "献竤黃",
      "photoUrl": "",
      "userId": "07529243043474362942"
     },
     "user_tz": -480
    },
    "id": "j8oG-3XJGECZ"
   },
   "outputs": [],
   "source": [
    "#1.畫出箱型圖，並判斷哪個欄位的中位數在300~400之間?"
   ]
  },
  {
   "cell_type": "code",
   "execution_count": null,
   "metadata": {
    "id": "1YrW_1o9MXUy"
   },
   "outputs": [],
   "source": [
    "#2. 畫出散佈圖 x='NOX', y='DIS' ，並說明這兩欄位有什麼關係?"
   ]
  }
 ],
 "metadata": {
  "colab": {
   "authorship_tag": "ABX9TyOn1jxinLqgoqr5zj+PC82T",
   "collapsed_sections": [],
   "name": "作業題目.ipynb",
   "provenance": []
  },
  "kernelspec": {
   "display_name": "Python 3",
   "language": "python",
   "name": "python3"
  },
  "language_info": {
   "codemirror_mode": {
    "name": "ipython",
    "version": 3
   },
   "file_extension": ".py",
   "mimetype": "text/x-python",
   "name": "python",
   "nbconvert_exporter": "python",
   "pygments_lexer": "ipython3",
   "version": "3.8.3"
  }
 },
 "nbformat": 4,
 "nbformat_minor": 1
}
